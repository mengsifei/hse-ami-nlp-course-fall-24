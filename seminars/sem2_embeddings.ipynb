{
  "nbformat": 4,
  "nbformat_minor": 0,
  "metadata": {
    "colab": {
      "provenance": []
    },
    "kernelspec": {
      "display_name": "Python 3",
      "language": "python",
      "name": "python3"
    },
    "widgets": {
      "application/vnd.jupyter.widget-state+json": {
        "232ab4671cac4a94b5383af4777065ff": {
          "model_module": "@jupyter-widgets/controls",
          "model_name": "HBoxModel",
          "model_module_version": "1.5.0",
          "state": {
            "_dom_classes": [],
            "_model_module": "@jupyter-widgets/controls",
            "_model_module_version": "1.5.0",
            "_model_name": "HBoxModel",
            "_view_count": null,
            "_view_module": "@jupyter-widgets/controls",
            "_view_module_version": "1.5.0",
            "_view_name": "HBoxView",
            "box_style": "",
            "children": [
              "IPY_MODEL_e38c5a25c7484ba9a3e647e62bd61f01",
              "IPY_MODEL_438f6c22cc0a40beb0df8a8f1569fd7a",
              "IPY_MODEL_a61ac167fa8846b1acf7c2ad4559fb59"
            ],
            "layout": "IPY_MODEL_079d552bbaba4bef81b2b94df988a21c"
          }
        },
        "e38c5a25c7484ba9a3e647e62bd61f01": {
          "model_module": "@jupyter-widgets/controls",
          "model_name": "HTMLModel",
          "model_module_version": "1.5.0",
          "state": {
            "_dom_classes": [],
            "_model_module": "@jupyter-widgets/controls",
            "_model_module_version": "1.5.0",
            "_model_name": "HTMLModel",
            "_view_count": null,
            "_view_module": "@jupyter-widgets/controls",
            "_view_module_version": "1.5.0",
            "_view_name": "HTMLView",
            "description": "",
            "description_tooltip": null,
            "layout": "IPY_MODEL_2eeadd8e62bb478aa00c9bebdea8929b",
            "placeholder": "​",
            "style": "IPY_MODEL_05c28f759d0a4b4e825cbe2a7b703c62",
            "value": "  1%"
          }
        },
        "438f6c22cc0a40beb0df8a8f1569fd7a": {
          "model_module": "@jupyter-widgets/controls",
          "model_name": "FloatProgressModel",
          "model_module_version": "1.5.0",
          "state": {
            "_dom_classes": [],
            "_model_module": "@jupyter-widgets/controls",
            "_model_module_version": "1.5.0",
            "_model_name": "FloatProgressModel",
            "_view_count": null,
            "_view_module": "@jupyter-widgets/controls",
            "_view_module_version": "1.5.0",
            "_view_name": "ProgressView",
            "bar_style": "danger",
            "description": "",
            "description_tooltip": null,
            "layout": "IPY_MODEL_4d46ff75154c4a9eba66387cf3a5a835",
            "max": 226834,
            "min": 0,
            "orientation": "horizontal",
            "style": "IPY_MODEL_e0bbd4d09ed5437580cfa79790eb5846",
            "value": 1866
          }
        },
        "a61ac167fa8846b1acf7c2ad4559fb59": {
          "model_module": "@jupyter-widgets/controls",
          "model_name": "HTMLModel",
          "model_module_version": "1.5.0",
          "state": {
            "_dom_classes": [],
            "_model_module": "@jupyter-widgets/controls",
            "_model_module_version": "1.5.0",
            "_model_name": "HTMLModel",
            "_view_count": null,
            "_view_module": "@jupyter-widgets/controls",
            "_view_module_version": "1.5.0",
            "_view_name": "HTMLView",
            "description": "",
            "description_tooltip": null,
            "layout": "IPY_MODEL_f409c1e4dc8e4c80b44e8d40bb2478ba",
            "placeholder": "​",
            "style": "IPY_MODEL_79f434dd78f84dfd9b1c65b710f4b3c9",
            "value": " 1866/226834 [00:08&lt;15:00, 249.74it/s]"
          }
        },
        "079d552bbaba4bef81b2b94df988a21c": {
          "model_module": "@jupyter-widgets/base",
          "model_name": "LayoutModel",
          "model_module_version": "1.2.0",
          "state": {
            "_model_module": "@jupyter-widgets/base",
            "_model_module_version": "1.2.0",
            "_model_name": "LayoutModel",
            "_view_count": null,
            "_view_module": "@jupyter-widgets/base",
            "_view_module_version": "1.2.0",
            "_view_name": "LayoutView",
            "align_content": null,
            "align_items": null,
            "align_self": null,
            "border": null,
            "bottom": null,
            "display": null,
            "flex": null,
            "flex_flow": null,
            "grid_area": null,
            "grid_auto_columns": null,
            "grid_auto_flow": null,
            "grid_auto_rows": null,
            "grid_column": null,
            "grid_gap": null,
            "grid_row": null,
            "grid_template_areas": null,
            "grid_template_columns": null,
            "grid_template_rows": null,
            "height": null,
            "justify_content": null,
            "justify_items": null,
            "left": null,
            "margin": null,
            "max_height": null,
            "max_width": null,
            "min_height": null,
            "min_width": null,
            "object_fit": null,
            "object_position": null,
            "order": null,
            "overflow": null,
            "overflow_x": null,
            "overflow_y": null,
            "padding": null,
            "right": null,
            "top": null,
            "visibility": null,
            "width": null
          }
        },
        "2eeadd8e62bb478aa00c9bebdea8929b": {
          "model_module": "@jupyter-widgets/base",
          "model_name": "LayoutModel",
          "model_module_version": "1.2.0",
          "state": {
            "_model_module": "@jupyter-widgets/base",
            "_model_module_version": "1.2.0",
            "_model_name": "LayoutModel",
            "_view_count": null,
            "_view_module": "@jupyter-widgets/base",
            "_view_module_version": "1.2.0",
            "_view_name": "LayoutView",
            "align_content": null,
            "align_items": null,
            "align_self": null,
            "border": null,
            "bottom": null,
            "display": null,
            "flex": null,
            "flex_flow": null,
            "grid_area": null,
            "grid_auto_columns": null,
            "grid_auto_flow": null,
            "grid_auto_rows": null,
            "grid_column": null,
            "grid_gap": null,
            "grid_row": null,
            "grid_template_areas": null,
            "grid_template_columns": null,
            "grid_template_rows": null,
            "height": null,
            "justify_content": null,
            "justify_items": null,
            "left": null,
            "margin": null,
            "max_height": null,
            "max_width": null,
            "min_height": null,
            "min_width": null,
            "object_fit": null,
            "object_position": null,
            "order": null,
            "overflow": null,
            "overflow_x": null,
            "overflow_y": null,
            "padding": null,
            "right": null,
            "top": null,
            "visibility": null,
            "width": null
          }
        },
        "05c28f759d0a4b4e825cbe2a7b703c62": {
          "model_module": "@jupyter-widgets/controls",
          "model_name": "DescriptionStyleModel",
          "model_module_version": "1.5.0",
          "state": {
            "_model_module": "@jupyter-widgets/controls",
            "_model_module_version": "1.5.0",
            "_model_name": "DescriptionStyleModel",
            "_view_count": null,
            "_view_module": "@jupyter-widgets/base",
            "_view_module_version": "1.2.0",
            "_view_name": "StyleView",
            "description_width": ""
          }
        },
        "4d46ff75154c4a9eba66387cf3a5a835": {
          "model_module": "@jupyter-widgets/base",
          "model_name": "LayoutModel",
          "model_module_version": "1.2.0",
          "state": {
            "_model_module": "@jupyter-widgets/base",
            "_model_module_version": "1.2.0",
            "_model_name": "LayoutModel",
            "_view_count": null,
            "_view_module": "@jupyter-widgets/base",
            "_view_module_version": "1.2.0",
            "_view_name": "LayoutView",
            "align_content": null,
            "align_items": null,
            "align_self": null,
            "border": null,
            "bottom": null,
            "display": null,
            "flex": null,
            "flex_flow": null,
            "grid_area": null,
            "grid_auto_columns": null,
            "grid_auto_flow": null,
            "grid_auto_rows": null,
            "grid_column": null,
            "grid_gap": null,
            "grid_row": null,
            "grid_template_areas": null,
            "grid_template_columns": null,
            "grid_template_rows": null,
            "height": null,
            "justify_content": null,
            "justify_items": null,
            "left": null,
            "margin": null,
            "max_height": null,
            "max_width": null,
            "min_height": null,
            "min_width": null,
            "object_fit": null,
            "object_position": null,
            "order": null,
            "overflow": null,
            "overflow_x": null,
            "overflow_y": null,
            "padding": null,
            "right": null,
            "top": null,
            "visibility": null,
            "width": null
          }
        },
        "e0bbd4d09ed5437580cfa79790eb5846": {
          "model_module": "@jupyter-widgets/controls",
          "model_name": "ProgressStyleModel",
          "model_module_version": "1.5.0",
          "state": {
            "_model_module": "@jupyter-widgets/controls",
            "_model_module_version": "1.5.0",
            "_model_name": "ProgressStyleModel",
            "_view_count": null,
            "_view_module": "@jupyter-widgets/base",
            "_view_module_version": "1.2.0",
            "_view_name": "StyleView",
            "bar_color": null,
            "description_width": ""
          }
        },
        "f409c1e4dc8e4c80b44e8d40bb2478ba": {
          "model_module": "@jupyter-widgets/base",
          "model_name": "LayoutModel",
          "model_module_version": "1.2.0",
          "state": {
            "_model_module": "@jupyter-widgets/base",
            "_model_module_version": "1.2.0",
            "_model_name": "LayoutModel",
            "_view_count": null,
            "_view_module": "@jupyter-widgets/base",
            "_view_module_version": "1.2.0",
            "_view_name": "LayoutView",
            "align_content": null,
            "align_items": null,
            "align_self": null,
            "border": null,
            "bottom": null,
            "display": null,
            "flex": null,
            "flex_flow": null,
            "grid_area": null,
            "grid_auto_columns": null,
            "grid_auto_flow": null,
            "grid_auto_rows": null,
            "grid_column": null,
            "grid_gap": null,
            "grid_row": null,
            "grid_template_areas": null,
            "grid_template_columns": null,
            "grid_template_rows": null,
            "height": null,
            "justify_content": null,
            "justify_items": null,
            "left": null,
            "margin": null,
            "max_height": null,
            "max_width": null,
            "min_height": null,
            "min_width": null,
            "object_fit": null,
            "object_position": null,
            "order": null,
            "overflow": null,
            "overflow_x": null,
            "overflow_y": null,
            "padding": null,
            "right": null,
            "top": null,
            "visibility": null,
            "width": null
          }
        },
        "79f434dd78f84dfd9b1c65b710f4b3c9": {
          "model_module": "@jupyter-widgets/controls",
          "model_name": "DescriptionStyleModel",
          "model_module_version": "1.5.0",
          "state": {
            "_model_module": "@jupyter-widgets/controls",
            "_model_module_version": "1.5.0",
            "_model_name": "DescriptionStyleModel",
            "_view_count": null,
            "_view_module": "@jupyter-widgets/base",
            "_view_module_version": "1.2.0",
            "_view_name": "StyleView",
            "description_width": ""
          }
        },
        "03a314e993ed455ab683666506cc3d08": {
          "model_module": "@jupyter-widgets/controls",
          "model_name": "HBoxModel",
          "model_module_version": "1.5.0",
          "state": {
            "_dom_classes": [],
            "_model_module": "@jupyter-widgets/controls",
            "_model_module_version": "1.5.0",
            "_model_name": "HBoxModel",
            "_view_count": null,
            "_view_module": "@jupyter-widgets/controls",
            "_view_module_version": "1.5.0",
            "_view_name": "HBoxView",
            "box_style": "",
            "children": [
              "IPY_MODEL_c8a1a6a23b83441d9b721837de743e4b",
              "IPY_MODEL_d6a49a1bc47546d6a9e19b0c9a10e102",
              "IPY_MODEL_30e05b85e4b840e68a97da37b7cf3661"
            ],
            "layout": "IPY_MODEL_e6c2c70a8dd3409c831187c8c1db3aaa"
          }
        },
        "c8a1a6a23b83441d9b721837de743e4b": {
          "model_module": "@jupyter-widgets/controls",
          "model_name": "HTMLModel",
          "model_module_version": "1.5.0",
          "state": {
            "_dom_classes": [],
            "_model_module": "@jupyter-widgets/controls",
            "_model_module_version": "1.5.0",
            "_model_name": "HTMLModel",
            "_view_count": null,
            "_view_module": "@jupyter-widgets/controls",
            "_view_module_version": "1.5.0",
            "_view_name": "HTMLView",
            "description": "",
            "description_tooltip": null,
            "layout": "IPY_MODEL_a143c3a06a1842f6b05537b35582e5ab",
            "placeholder": "​",
            "style": "IPY_MODEL_0c22ecd77f494efea58855f68595acbe",
            "value": "100%"
          }
        },
        "d6a49a1bc47546d6a9e19b0c9a10e102": {
          "model_module": "@jupyter-widgets/controls",
          "model_name": "FloatProgressModel",
          "model_module_version": "1.5.0",
          "state": {
            "_dom_classes": [],
            "_model_module": "@jupyter-widgets/controls",
            "_model_module_version": "1.5.0",
            "_model_name": "FloatProgressModel",
            "_view_count": null,
            "_view_module": "@jupyter-widgets/controls",
            "_view_module_version": "1.5.0",
            "_view_name": "ProgressView",
            "bar_style": "success",
            "description": "",
            "description_tooltip": null,
            "layout": "IPY_MODEL_c1863d0d353b445eb820098a0cb6ac70",
            "max": 529416,
            "min": 0,
            "orientation": "horizontal",
            "style": "IPY_MODEL_63ce7779aad243aba0ff5db15ee24c10",
            "value": 529416
          }
        },
        "30e05b85e4b840e68a97da37b7cf3661": {
          "model_module": "@jupyter-widgets/controls",
          "model_name": "HTMLModel",
          "model_module_version": "1.5.0",
          "state": {
            "_dom_classes": [],
            "_model_module": "@jupyter-widgets/controls",
            "_model_module_version": "1.5.0",
            "_model_name": "HTMLModel",
            "_view_count": null,
            "_view_module": "@jupyter-widgets/controls",
            "_view_module_version": "1.5.0",
            "_view_name": "HTMLView",
            "description": "",
            "description_tooltip": null,
            "layout": "IPY_MODEL_97a3ca39932d4a98891a2d52644e440d",
            "placeholder": "​",
            "style": "IPY_MODEL_85b775ffb40846a58b635d7f963b89e6",
            "value": " 529416/529416 [00:07&lt;00:00, 45304.05it/s]"
          }
        },
        "e6c2c70a8dd3409c831187c8c1db3aaa": {
          "model_module": "@jupyter-widgets/base",
          "model_name": "LayoutModel",
          "model_module_version": "1.2.0",
          "state": {
            "_model_module": "@jupyter-widgets/base",
            "_model_module_version": "1.2.0",
            "_model_name": "LayoutModel",
            "_view_count": null,
            "_view_module": "@jupyter-widgets/base",
            "_view_module_version": "1.2.0",
            "_view_name": "LayoutView",
            "align_content": null,
            "align_items": null,
            "align_self": null,
            "border": null,
            "bottom": null,
            "display": null,
            "flex": null,
            "flex_flow": null,
            "grid_area": null,
            "grid_auto_columns": null,
            "grid_auto_flow": null,
            "grid_auto_rows": null,
            "grid_column": null,
            "grid_gap": null,
            "grid_row": null,
            "grid_template_areas": null,
            "grid_template_columns": null,
            "grid_template_rows": null,
            "height": null,
            "justify_content": null,
            "justify_items": null,
            "left": null,
            "margin": null,
            "max_height": null,
            "max_width": null,
            "min_height": null,
            "min_width": null,
            "object_fit": null,
            "object_position": null,
            "order": null,
            "overflow": null,
            "overflow_x": null,
            "overflow_y": null,
            "padding": null,
            "right": null,
            "top": null,
            "visibility": null,
            "width": null
          }
        },
        "a143c3a06a1842f6b05537b35582e5ab": {
          "model_module": "@jupyter-widgets/base",
          "model_name": "LayoutModel",
          "model_module_version": "1.2.0",
          "state": {
            "_model_module": "@jupyter-widgets/base",
            "_model_module_version": "1.2.0",
            "_model_name": "LayoutModel",
            "_view_count": null,
            "_view_module": "@jupyter-widgets/base",
            "_view_module_version": "1.2.0",
            "_view_name": "LayoutView",
            "align_content": null,
            "align_items": null,
            "align_self": null,
            "border": null,
            "bottom": null,
            "display": null,
            "flex": null,
            "flex_flow": null,
            "grid_area": null,
            "grid_auto_columns": null,
            "grid_auto_flow": null,
            "grid_auto_rows": null,
            "grid_column": null,
            "grid_gap": null,
            "grid_row": null,
            "grid_template_areas": null,
            "grid_template_columns": null,
            "grid_template_rows": null,
            "height": null,
            "justify_content": null,
            "justify_items": null,
            "left": null,
            "margin": null,
            "max_height": null,
            "max_width": null,
            "min_height": null,
            "min_width": null,
            "object_fit": null,
            "object_position": null,
            "order": null,
            "overflow": null,
            "overflow_x": null,
            "overflow_y": null,
            "padding": null,
            "right": null,
            "top": null,
            "visibility": null,
            "width": null
          }
        },
        "0c22ecd77f494efea58855f68595acbe": {
          "model_module": "@jupyter-widgets/controls",
          "model_name": "DescriptionStyleModel",
          "model_module_version": "1.5.0",
          "state": {
            "_model_module": "@jupyter-widgets/controls",
            "_model_module_version": "1.5.0",
            "_model_name": "DescriptionStyleModel",
            "_view_count": null,
            "_view_module": "@jupyter-widgets/base",
            "_view_module_version": "1.2.0",
            "_view_name": "StyleView",
            "description_width": ""
          }
        },
        "c1863d0d353b445eb820098a0cb6ac70": {
          "model_module": "@jupyter-widgets/base",
          "model_name": "LayoutModel",
          "model_module_version": "1.2.0",
          "state": {
            "_model_module": "@jupyter-widgets/base",
            "_model_module_version": "1.2.0",
            "_model_name": "LayoutModel",
            "_view_count": null,
            "_view_module": "@jupyter-widgets/base",
            "_view_module_version": "1.2.0",
            "_view_name": "LayoutView",
            "align_content": null,
            "align_items": null,
            "align_self": null,
            "border": null,
            "bottom": null,
            "display": null,
            "flex": null,
            "flex_flow": null,
            "grid_area": null,
            "grid_auto_columns": null,
            "grid_auto_flow": null,
            "grid_auto_rows": null,
            "grid_column": null,
            "grid_gap": null,
            "grid_row": null,
            "grid_template_areas": null,
            "grid_template_columns": null,
            "grid_template_rows": null,
            "height": null,
            "justify_content": null,
            "justify_items": null,
            "left": null,
            "margin": null,
            "max_height": null,
            "max_width": null,
            "min_height": null,
            "min_width": null,
            "object_fit": null,
            "object_position": null,
            "order": null,
            "overflow": null,
            "overflow_x": null,
            "overflow_y": null,
            "padding": null,
            "right": null,
            "top": null,
            "visibility": null,
            "width": null
          }
        },
        "63ce7779aad243aba0ff5db15ee24c10": {
          "model_module": "@jupyter-widgets/controls",
          "model_name": "ProgressStyleModel",
          "model_module_version": "1.5.0",
          "state": {
            "_model_module": "@jupyter-widgets/controls",
            "_model_module_version": "1.5.0",
            "_model_name": "ProgressStyleModel",
            "_view_count": null,
            "_view_module": "@jupyter-widgets/base",
            "_view_module_version": "1.2.0",
            "_view_name": "StyleView",
            "bar_color": null,
            "description_width": ""
          }
        },
        "97a3ca39932d4a98891a2d52644e440d": {
          "model_module": "@jupyter-widgets/base",
          "model_name": "LayoutModel",
          "model_module_version": "1.2.0",
          "state": {
            "_model_module": "@jupyter-widgets/base",
            "_model_module_version": "1.2.0",
            "_model_name": "LayoutModel",
            "_view_count": null,
            "_view_module": "@jupyter-widgets/base",
            "_view_module_version": "1.2.0",
            "_view_name": "LayoutView",
            "align_content": null,
            "align_items": null,
            "align_self": null,
            "border": null,
            "bottom": null,
            "display": null,
            "flex": null,
            "flex_flow": null,
            "grid_area": null,
            "grid_auto_columns": null,
            "grid_auto_flow": null,
            "grid_auto_rows": null,
            "grid_column": null,
            "grid_gap": null,
            "grid_row": null,
            "grid_template_areas": null,
            "grid_template_columns": null,
            "grid_template_rows": null,
            "height": null,
            "justify_content": null,
            "justify_items": null,
            "left": null,
            "margin": null,
            "max_height": null,
            "max_width": null,
            "min_height": null,
            "min_width": null,
            "object_fit": null,
            "object_position": null,
            "order": null,
            "overflow": null,
            "overflow_x": null,
            "overflow_y": null,
            "padding": null,
            "right": null,
            "top": null,
            "visibility": null,
            "width": null
          }
        },
        "85b775ffb40846a58b635d7f963b89e6": {
          "model_module": "@jupyter-widgets/controls",
          "model_name": "DescriptionStyleModel",
          "model_module_version": "1.5.0",
          "state": {
            "_model_module": "@jupyter-widgets/controls",
            "_model_module_version": "1.5.0",
            "_model_name": "DescriptionStyleModel",
            "_view_count": null,
            "_view_module": "@jupyter-widgets/base",
            "_view_module_version": "1.2.0",
            "_view_name": "StyleView",
            "description_width": ""
          }
        }
      }
    }
  },
  "cells": [
    {
      "cell_type": "markdown",
      "metadata": {
        "id": "ypt7ymI8X-rM"
      },
      "source": [
        "# Embeddings  [![Open In Colab](https://colab.research.google.com/assets/colab-badge.svg)](https://colab.research.google.com/github/PragmaticsLab/NLP-course-FinTech/blob/master/seminars/2/2_embeddings.ipynb)\n",
        "\n",
        "## Word2Vec\n",
        "\n",
        "Векторные модели, которые мы рассматривали до этого (tf-idf, BOW), условно называются *счётными*. Они основываются на том, что так или иначе \"считают\" слова и их соседей, и на основе этого строят вектора для слов.\n",
        "\n",
        "Другой класс моделей, который более повсевмёстно распространён на сегодняшний день, называется *предсказательными* (или *нейронными*) моделями. Идея этих моделей заключается в использовании нейросетевых архитектур, которые \"предсказывают\" (а не считают) соседей слов. Одной из самых известных таких моделей является word2vec. Технология основана на нейронной сети, предсказывающей вероятность встретить слово в заданном контексте. Этот инструмент был разработан группой исследователей Google в 2013 году, руководителем проекта был Томаш Миколов (сейчас работает в Facebook). Вот две самые главные статьи:\n",
        "\n",
        "* [Efficient Estimation of Word Representations in Vector Space](https://arxiv.org/pdf/1301.3781.pdf)\n",
        "* [Distributed Representations of Words and Phrases and their Compositionality](https://arxiv.org/abs/1310.4546)\n",
        "\n",
        "\n",
        "Полученные таким образом вектора называются *распределенными представлениями слов*, или **эмбеддингами**.\n",
        "\n",
        "\n",
        "### Как это обучается?\n",
        "Мы задаём вектор для каждого слова с помощью матрицы $w$ и вектор контекста с помощью матрицы $W$. По сути, word2vec является обобщающим названием для двух архитектур Skip-Gram и Continuous Bag-Of-Words (CBOW).  \n",
        "\n",
        "**CBOW** предсказывает текущее слово, исходя из окружающего его контекста.\n",
        "\n",
        "**Skip-gram**, наоборот, использует текущее слово, чтобы предугадывать окружающие его слова.\n",
        "\n",
        "### Как это работает?\n",
        "Word2vec принимает большой текстовый корпус в качестве входных данных и сопоставляет каждому слову вектор, выдавая координаты слов на выходе. Сначала он создает словарь, «обучаясь» на входных текстовых данных, а затем вычисляет векторное представление слов. Векторное представление основывается на контекстной близости: слова, встречающиеся в тексте рядом с одинаковыми словами (а следовательно, согласно дистрибутивной гипотезе, имеющие схожий смысл), в векторном представлении будут иметь близкие координаты векторов-слов. Для вычисления близости слов используется косинусное расстояние между их векторами.\n",
        "\n",
        "\n",
        "С помощью дистрибутивных векторных моделей можно строить семантические пропорции (они же аналогии) и решать примеры:\n",
        "\n",
        "* *король: мужчина = королева: женщина*\n",
        " $\\Rightarrow$\n",
        "* *король - мужчина + женщина = королева*"
      ]
    },
    {
      "cell_type": "markdown",
      "metadata": {
        "id": "Z3sSyfHaX-rN"
      },
      "source": [
        "![w2v](https://cdn-images-1.medium.com/max/2600/1*sXNXYfAqfLUeiDXPCo130w.png)"
      ]
    },
    {
      "cell_type": "markdown",
      "metadata": {
        "id": "0oH_UDyFX-rO"
      },
      "source": [
        "### Проблемы\n",
        "Невозможно установить тип семантических отношений между словами: синонимы, антонимы и т.д. будут одинаково близки, потому что обычно употребляются в схожих контекстах. Поэтому близкие в векторном пространстве слова называют *семантическими ассоциатами*. Это значит, что они семантически связаны, но как именно — непонятно.\n",
        "\n",
        "\n",
        "## RusVectōrēs\n",
        "\n",
        "\n",
        "На сайте [RusVectōrēs](https://rusvectores.org/ru/) собраны предобученные на различных данных модели для русского языка. Также можно поискать наиболее близкие слова к заданному, посчитать семантическую близость нескольких слов и порешать примеры с помощью «калькулятором семантической близости».\n",
        "\n",
        "\n",
        "Для других языков также можно найти предобученные модели — например, модели [fastText](https://fasttext.cc/docs/en/english-vectors.html) и [GloVe](https://nlp.stanford.edu/projects/glove/) (о них чуть дальше)."
      ]
    },
    {
      "cell_type": "markdown",
      "metadata": {
        "id": "yXNm8flVX-rP"
      },
      "source": [
        "## Gensim\n",
        "\n",
        "Использовать предобученную модель эмбеддингов или обучить свою можно с помощью библиотеки `gensim`. Вот [ее документация](https://radimrehurek.com/gensim/models/word2vec.html).\n",
        "\n",
        "### Как использовать готовую модель\n",
        "\n",
        "Модели word2vec бывают разных форматов:\n",
        "\n",
        "* .vec.gz — обычный файл\n",
        "* .bin.gz — бинарник\n",
        "\n",
        "Загружаются они с помощью одного и того же класса `KeyedVectors`, меняется только параметр `binary` у функции `load_word2vec_format`.\n",
        "\n",
        "Если же эмбеддинги обучены **не** с помощью word2vec, то для загрузки нужно использовать функцию `load`. Т.е. для загрузки предобученных эмбеддингов *glove, fasttext, bpe* и любых других нужна именно она.\n",
        "\n",
        "Скачаем с RusVectōrēs модель для русского языка, обученную на НКРЯ образца 2018 г."
      ]
    },
    {
      "cell_type": "code",
      "metadata": {
        "id": "sTLnNKaNX-rP",
        "colab": {
          "base_uri": "https://localhost:8080/"
        },
        "outputId": "49affe69-fa34-41fc-8f8d-6cd9aa0e70cc"
      },
      "source": [
        "import re\n",
        "import gensim\n",
        "import logging\n",
        "import nltk.data\n",
        "import pandas as pd\n",
        "import urllib.request\n",
        "from bs4 import BeautifulSoup\n",
        "from nltk.corpus import stopwords\n",
        "from gensim.models import word2vec\n",
        "from nltk.tokenize import sent_tokenize, RegexpTokenizer\n",
        "nltk.download('punkt')"
      ],
      "execution_count": 1,
      "outputs": [
        {
          "output_type": "stream",
          "name": "stderr",
          "text": [
            "[nltk_data] Downloading package punkt to /root/nltk_data...\n",
            "[nltk_data]   Unzipping tokenizers/punkt.zip.\n"
          ]
        },
        {
          "output_type": "execute_result",
          "data": {
            "text/plain": [
              "True"
            ]
          },
          "metadata": {},
          "execution_count": 1
        }
      ]
    },
    {
      "cell_type": "code",
      "metadata": {
        "id": "zm9z6SN3X-rS",
        "colab": {
          "base_uri": "https://localhost:8080/"
        },
        "outputId": "dd12827a-bbc2-4c2a-bd83-6239f7bbed54"
      },
      "source": [
        "#urllib.request.urlretrieve(\"http://rusvectores.org/static/models/rusvectores2/ruscorpora_mystem_cbow_300_2_2015.bin.gz\", \"ruscorpora_mystem_cbow_300_2_2015.bin.gz\")\n",
        "urllib.request.urlretrieve(\"https://rusvectores.org/static/models/rusvectores4/ruwikiruscorpora/ruwikiruscorpora_upos_skipgram_300_2_2018.vec.gz\", \"ruwikiruscorpora_upos_skipgram_300_2_2018.vec.gz\")"
      ],
      "execution_count": 2,
      "outputs": [
        {
          "output_type": "execute_result",
          "data": {
            "text/plain": [
              "('ruwikiruscorpora_upos_skipgram_300_2_2018.vec.gz',\n",
              " <http.client.HTTPMessage at 0x7ff86c3093f0>)"
            ]
          },
          "metadata": {},
          "execution_count": 2
        }
      ]
    },
    {
      "cell_type": "code",
      "metadata": {
        "id": "mkuCawyFX-rW"
      },
      "source": [
        "#model_path = 'ruscorpora_mystem_cbow_300_2_2015.bin.gz'\n",
        "model_path = 'ruwikiruscorpora_upos_skipgram_300_2_2018.vec.gz'\n",
        "\n",
        "model_ru = gensim.models.KeyedVectors.load_word2vec_format(model_path, binary=False)"
      ],
      "execution_count": 3,
      "outputs": []
    },
    {
      "cell_type": "code",
      "metadata": {
        "id": "H4D0hMgkX-rY"
      },
      "source": [
        "words = ['день_NOUN', 'ночь_NOUN', 'человек_NOUN', 'лук_NOUN', 'биткоин_NOUN']"
      ],
      "execution_count": null,
      "outputs": []
    },
    {
      "cell_type": "markdown",
      "metadata": {
        "id": "jbTShU9aX-ra"
      },
      "source": [
        "Частеречные тэги нужны, поскольку это специфика скачанной модели - она была натренирована на словах, аннотированных их частями речи (и лемматизированных). **NB!** В названиях моделей на `rusvectores` указано, какой тегсет они используют (mystem, upos и т.д.)\n",
        "\n",
        "Попросим у модели 10 ближайших соседей для каждого слова и коэффициент косинусной близости для каждого:"
      ]
    },
    {
      "cell_type": "code",
      "metadata": {
        "id": "9Uer5sHyX-ra",
        "colab": {
          "base_uri": "https://localhost:8080/"
        },
        "outputId": "49519549-d8a5-4c9b-f64e-a2e3fe0e6a63"
      },
      "source": [
        "for word in words:\n",
        "    # есть ли слово в модели?\n",
        "    if word in model_ru:\n",
        "        print(word)\n",
        "        # смотрим на вектор слова (его размерность 300, смотрим на первые 10 чисел)\n",
        "        print(model_ru[word][:10])\n",
        "        # выдаем 10 ближайших соседей слова:\n",
        "        for word, sim in model_ru.most_similar(positive=[word], topn=10):\n",
        "            # слово + коэффициент косинусной близости\n",
        "            print(word, ': ', sim)\n",
        "        print('\\n')\n",
        "    else:\n",
        "        # Увы!\n",
        "        print('Увы, слова \"%s\" нет в модели!' % word)"
      ],
      "execution_count": null,
      "outputs": [
        {
          "output_type": "stream",
          "name": "stdout",
          "text": [
            "день_NOUN\n",
            "[-0.028439 -0.037945  0.011242 -0.021425  0.057268  0.071456 -0.001182\n",
            "  0.026486 -0.033046 -0.019704]\n",
            "неделя_NOUN :  0.7097942233085632\n",
            "месяц_NOUN :  0.6908209919929504\n",
            "утро_NOUN :  0.6243225932121277\n",
            "днемя_NOUN :  0.6224159598350525\n",
            "днями_NOUN :  0.6100884675979614\n",
            "воскресенье_NOUN :  0.6087555885314941\n",
            "вечер_NOUN :  0.6030082702636719\n",
            "дня_NOUN :  0.592153012752533\n",
            "час_NOUN :  0.590473473072052\n",
            "сутки_NOUN :  0.5869504809379578\n",
            "\n",
            "\n",
            "ночь_NOUN\n",
            "[ 0.046085  0.00211   0.065384  0.010745 -0.035544  0.053312  0.084506\n",
            "  0.005005 -0.037686 -0.006833]\n",
            "ночь_PROPN :  0.7704508304595947\n",
            "вечер_NOUN :  0.7683228254318237\n",
            "утро_NOUN :  0.7520124316215515\n",
            "полночь_NOUN :  0.7201331853866577\n",
            "рассвет_NOUN :  0.6792924404144287\n",
            "полдень_NOUN :  0.6637035012245178\n",
            "утро_PROPN :  0.6531521677970886\n",
            "ночь_ADV :  0.6248846650123596\n",
            "сумерки_NOUN :  0.6227153539657593\n",
            "ночью_NOUN :  0.6219336986541748\n",
            "\n",
            "\n",
            "человек_NOUN\n",
            "[-0.018347  0.00314   0.100693 -0.020991 -0.028008  0.075846 -0.105468\n",
            " -0.043332 -0.042502 -0.006973]\n",
            "людямя_NOUN :  0.6312709450721741\n",
            "человек_PROPN :  0.6004737615585327\n",
            "человекомя_NOUN :  0.6001946330070496\n",
            "человеколо_NOUN :  0.5959703326225281\n",
            "людей_NOUN :  0.572259783744812\n",
            "человѣкъ_PROPN :  0.5592873692512512\n",
            "чел[овек_NOUN :  0.538690984249115\n",
            "человека_NOUN :  0.537072479724884\n",
            "женщинута_NOUN :  0.5307294726371765\n",
            "женщина_NOUN :  0.5291808843612671\n",
            "\n",
            "\n",
            "лук_NOUN\n",
            "[-0.015615 -0.079346 -0.043113  0.053256 -0.000794  0.052243 -0.013659\n",
            " -0.050797  0.155728 -0.078184]\n",
            "репчатый_VERB :  0.6195790767669678\n",
            "репчатый_ADJ :  0.6127849221229553\n",
            "лук-порей_NOUN :  0.6045054793357849\n",
            "нашинковать_VERB :  0.5951056480407715\n",
            "лук-порей_ADV :  0.5933340191841125\n",
            "чеснок_NOUN :  0.5835685133934021\n",
            "колчанин_NOUN :  0.566977858543396\n",
            "колчивать_NOUN :  0.5602989196777344\n",
            "копье_NOUN :  0.5591253042221069\n",
            "арбалет_NOUN :  0.552923321723938\n",
            "\n",
            "\n",
            "Увы, слова \"биткоин_NOUN\" нет в модели!\n"
          ]
        }
      ]
    },
    {
      "cell_type": "markdown",
      "metadata": {
        "id": "1GqDmAcJX-rc"
      },
      "source": [
        "Находим косинусную близость пары слов:"
      ]
    },
    {
      "cell_type": "code",
      "metadata": {
        "id": "MDFjOSJjX-rd",
        "colab": {
          "base_uri": "https://localhost:8080/"
        },
        "outputId": "3e053203-18b0-48c6-fde9-ec4d82865653"
      },
      "source": [
        "print(model_ru.similarity('человек_NOUN', 'обезьяна_NOUN'))"
      ],
      "execution_count": null,
      "outputs": [
        {
          "output_type": "stream",
          "name": "stdout",
          "text": [
            "0.32542086\n"
          ]
        }
      ]
    },
    {
      "cell_type": "markdown",
      "metadata": {
        "id": "B0w4pQooX-rf"
      },
      "source": [
        "Что получится, если вычесть из пиццы Италию и прибавить Сибирь?\n",
        "\n",
        "* positive — вектора, которые мы складываем\n",
        "* negative — вектора, которые вычитаем"
      ]
    },
    {
      "cell_type": "code",
      "metadata": {
        "id": "N0L5_TCQX-rf",
        "colab": {
          "base_uri": "https://localhost:8080/"
        },
        "outputId": "4b847983-be80-4266-d663-57385d25e8a0"
      },
      "source": [
        "print(model_ru.most_similar(positive=['пицца_NOUN', 'сибирь_NOUN'], negative=['италия_NOUN'])[0][0])"
      ],
      "execution_count": null,
      "outputs": [
        {
          "output_type": "stream",
          "name": "stdout",
          "text": [
            "пельмень_NOUN\n"
          ]
        }
      ]
    },
    {
      "cell_type": "code",
      "metadata": {
        "id": "DrN2Jc31X-rh",
        "colab": {
          "base_uri": "https://localhost:8080/",
          "height": 35
        },
        "outputId": "6c2e070f-b78b-4f49-dd6c-dd10df3b5f52"
      },
      "source": [
        "model_ru.doesnt_match('пицца_NOUN пельмень_NOUN хот-дог_NOUN ананас_NOUN'.split())"
      ],
      "execution_count": null,
      "outputs": [
        {
          "output_type": "execute_result",
          "data": {
            "text/plain": [
              "'ананас_NOUN'"
            ],
            "application/vnd.google.colaboratory.intrinsic+json": {
              "type": "string"
            }
          },
          "metadata": {},
          "execution_count": 8
        }
      ]
    },
    {
      "cell_type": "markdown",
      "metadata": {
        "id": "ZNHMtmbqX-rl"
      },
      "source": [
        "### Как обучить свою модель\n",
        "\n",
        "В качестве обучающих данных возьмем размеченные и неразмеченные отзывы о фильмах (датасет взят с Kaggle)."
      ]
    },
    {
      "cell_type": "code",
      "metadata": {
        "id": "-1Vz9le-X-rl",
        "colab": {
          "base_uri": "https://localhost:8080/"
        },
        "outputId": "9b9c7675-9195-401d-de95-0e66959ad704"
      },
      "source": [
        "! wget https://raw.githubusercontent.com/ancatmara/data-science-nlp/master/data/w2v/train/unlabeledTrainData.tsv"
      ],
      "execution_count": null,
      "outputs": [
        {
          "output_type": "stream",
          "name": "stdout",
          "text": [
            "--2024-09-16 09:50:32--  https://raw.githubusercontent.com/ancatmara/data-science-nlp/master/data/w2v/train/unlabeledTrainData.tsv\n",
            "Resolving raw.githubusercontent.com (raw.githubusercontent.com)... 185.199.108.133, 185.199.109.133, 185.199.110.133, ...\n",
            "Connecting to raw.githubusercontent.com (raw.githubusercontent.com)|185.199.108.133|:443... connected.\n",
            "HTTP request sent, awaiting response... 200 OK\n",
            "Length: 67281491 (64M) [text/plain]\n",
            "Saving to: ‘unlabeledTrainData.tsv’\n",
            "\n",
            "unlabeledTrainData. 100%[===================>]  64.16M   243MB/s    in 0.3s    \n",
            "\n",
            "2024-09-16 09:50:34 (243 MB/s) - ‘unlabeledTrainData.tsv’ saved [67281491/67281491]\n",
            "\n"
          ]
        }
      ]
    },
    {
      "cell_type": "code",
      "metadata": {
        "id": "B2wv-vSxX-ro",
        "colab": {
          "base_uri": "https://localhost:8080/"
        },
        "outputId": "0d5e7959-7f62-455a-c4bc-bc95896b65bf"
      },
      "source": [
        "data = pd.read_csv(\"unlabeledTrainData.tsv\", header=0, delimiter=\"\\t\", quoting=3)\n",
        "\n",
        "len(data)"
      ],
      "execution_count": null,
      "outputs": [
        {
          "output_type": "execute_result",
          "data": {
            "text/plain": [
              "50000"
            ]
          },
          "metadata": {},
          "execution_count": 10
        }
      ]
    },
    {
      "cell_type": "code",
      "metadata": {
        "id": "eEGmrh-nX-rq",
        "colab": {
          "base_uri": "https://localhost:8080/",
          "height": 206
        },
        "outputId": "abfe6222-f997-4565-f70a-9a8c1c48a586"
      },
      "source": [
        "data.head()"
      ],
      "execution_count": null,
      "outputs": [
        {
          "output_type": "execute_result",
          "data": {
            "text/plain": [
              "          id                                             review\n",
              "0   \"9999_0\"  \"Watching Time Chasers, it obvious that it was...\n",
              "1  \"45057_0\"  \"I saw this film about 20 years ago and rememb...\n",
              "2  \"15561_0\"  \"Minor Spoilers<br /><br />In New York, Joan B...\n",
              "3   \"7161_0\"  \"I went to see this film with a great deal of ...\n",
              "4  \"43971_0\"  \"Yes, I agree with everyone on this site this ..."
            ],
            "text/html": [
              "\n",
              "  <div id=\"df-ef4c4e03-3926-43e8-88a4-a4b2adbff8fc\" class=\"colab-df-container\">\n",
              "    <div>\n",
              "<style scoped>\n",
              "    .dataframe tbody tr th:only-of-type {\n",
              "        vertical-align: middle;\n",
              "    }\n",
              "\n",
              "    .dataframe tbody tr th {\n",
              "        vertical-align: top;\n",
              "    }\n",
              "\n",
              "    .dataframe thead th {\n",
              "        text-align: right;\n",
              "    }\n",
              "</style>\n",
              "<table border=\"1\" class=\"dataframe\">\n",
              "  <thead>\n",
              "    <tr style=\"text-align: right;\">\n",
              "      <th></th>\n",
              "      <th>id</th>\n",
              "      <th>review</th>\n",
              "    </tr>\n",
              "  </thead>\n",
              "  <tbody>\n",
              "    <tr>\n",
              "      <th>0</th>\n",
              "      <td>\"9999_0\"</td>\n",
              "      <td>\"Watching Time Chasers, it obvious that it was...</td>\n",
              "    </tr>\n",
              "    <tr>\n",
              "      <th>1</th>\n",
              "      <td>\"45057_0\"</td>\n",
              "      <td>\"I saw this film about 20 years ago and rememb...</td>\n",
              "    </tr>\n",
              "    <tr>\n",
              "      <th>2</th>\n",
              "      <td>\"15561_0\"</td>\n",
              "      <td>\"Minor Spoilers&lt;br /&gt;&lt;br /&gt;In New York, Joan B...</td>\n",
              "    </tr>\n",
              "    <tr>\n",
              "      <th>3</th>\n",
              "      <td>\"7161_0\"</td>\n",
              "      <td>\"I went to see this film with a great deal of ...</td>\n",
              "    </tr>\n",
              "    <tr>\n",
              "      <th>4</th>\n",
              "      <td>\"43971_0\"</td>\n",
              "      <td>\"Yes, I agree with everyone on this site this ...</td>\n",
              "    </tr>\n",
              "  </tbody>\n",
              "</table>\n",
              "</div>\n",
              "    <div class=\"colab-df-buttons\">\n",
              "\n",
              "  <div class=\"colab-df-container\">\n",
              "    <button class=\"colab-df-convert\" onclick=\"convertToInteractive('df-ef4c4e03-3926-43e8-88a4-a4b2adbff8fc')\"\n",
              "            title=\"Convert this dataframe to an interactive table.\"\n",
              "            style=\"display:none;\">\n",
              "\n",
              "  <svg xmlns=\"http://www.w3.org/2000/svg\" height=\"24px\" viewBox=\"0 -960 960 960\">\n",
              "    <path d=\"M120-120v-720h720v720H120Zm60-500h600v-160H180v160Zm220 220h160v-160H400v160Zm0 220h160v-160H400v160ZM180-400h160v-160H180v160Zm440 0h160v-160H620v160ZM180-180h160v-160H180v160Zm440 0h160v-160H620v160Z\"/>\n",
              "  </svg>\n",
              "    </button>\n",
              "\n",
              "  <style>\n",
              "    .colab-df-container {\n",
              "      display:flex;\n",
              "      gap: 12px;\n",
              "    }\n",
              "\n",
              "    .colab-df-convert {\n",
              "      background-color: #E8F0FE;\n",
              "      border: none;\n",
              "      border-radius: 50%;\n",
              "      cursor: pointer;\n",
              "      display: none;\n",
              "      fill: #1967D2;\n",
              "      height: 32px;\n",
              "      padding: 0 0 0 0;\n",
              "      width: 32px;\n",
              "    }\n",
              "\n",
              "    .colab-df-convert:hover {\n",
              "      background-color: #E2EBFA;\n",
              "      box-shadow: 0px 1px 2px rgba(60, 64, 67, 0.3), 0px 1px 3px 1px rgba(60, 64, 67, 0.15);\n",
              "      fill: #174EA6;\n",
              "    }\n",
              "\n",
              "    .colab-df-buttons div {\n",
              "      margin-bottom: 4px;\n",
              "    }\n",
              "\n",
              "    [theme=dark] .colab-df-convert {\n",
              "      background-color: #3B4455;\n",
              "      fill: #D2E3FC;\n",
              "    }\n",
              "\n",
              "    [theme=dark] .colab-df-convert:hover {\n",
              "      background-color: #434B5C;\n",
              "      box-shadow: 0px 1px 3px 1px rgba(0, 0, 0, 0.15);\n",
              "      filter: drop-shadow(0px 1px 2px rgba(0, 0, 0, 0.3));\n",
              "      fill: #FFFFFF;\n",
              "    }\n",
              "  </style>\n",
              "\n",
              "    <script>\n",
              "      const buttonEl =\n",
              "        document.querySelector('#df-ef4c4e03-3926-43e8-88a4-a4b2adbff8fc button.colab-df-convert');\n",
              "      buttonEl.style.display =\n",
              "        google.colab.kernel.accessAllowed ? 'block' : 'none';\n",
              "\n",
              "      async function convertToInteractive(key) {\n",
              "        const element = document.querySelector('#df-ef4c4e03-3926-43e8-88a4-a4b2adbff8fc');\n",
              "        const dataTable =\n",
              "          await google.colab.kernel.invokeFunction('convertToInteractive',\n",
              "                                                    [key], {});\n",
              "        if (!dataTable) return;\n",
              "\n",
              "        const docLinkHtml = 'Like what you see? Visit the ' +\n",
              "          '<a target=\"_blank\" href=https://colab.research.google.com/notebooks/data_table.ipynb>data table notebook</a>'\n",
              "          + ' to learn more about interactive tables.';\n",
              "        element.innerHTML = '';\n",
              "        dataTable['output_type'] = 'display_data';\n",
              "        await google.colab.output.renderOutput(dataTable, element);\n",
              "        const docLink = document.createElement('div');\n",
              "        docLink.innerHTML = docLinkHtml;\n",
              "        element.appendChild(docLink);\n",
              "      }\n",
              "    </script>\n",
              "  </div>\n",
              "\n",
              "\n",
              "<div id=\"df-cb1aa9b4-7dbc-4f5a-be99-a99c0e558c0f\">\n",
              "  <button class=\"colab-df-quickchart\" onclick=\"quickchart('df-cb1aa9b4-7dbc-4f5a-be99-a99c0e558c0f')\"\n",
              "            title=\"Suggest charts\"\n",
              "            style=\"display:none;\">\n",
              "\n",
              "<svg xmlns=\"http://www.w3.org/2000/svg\" height=\"24px\"viewBox=\"0 0 24 24\"\n",
              "     width=\"24px\">\n",
              "    <g>\n",
              "        <path d=\"M19 3H5c-1.1 0-2 .9-2 2v14c0 1.1.9 2 2 2h14c1.1 0 2-.9 2-2V5c0-1.1-.9-2-2-2zM9 17H7v-7h2v7zm4 0h-2V7h2v10zm4 0h-2v-4h2v4z\"/>\n",
              "    </g>\n",
              "</svg>\n",
              "  </button>\n",
              "\n",
              "<style>\n",
              "  .colab-df-quickchart {\n",
              "      --bg-color: #E8F0FE;\n",
              "      --fill-color: #1967D2;\n",
              "      --hover-bg-color: #E2EBFA;\n",
              "      --hover-fill-color: #174EA6;\n",
              "      --disabled-fill-color: #AAA;\n",
              "      --disabled-bg-color: #DDD;\n",
              "  }\n",
              "\n",
              "  [theme=dark] .colab-df-quickchart {\n",
              "      --bg-color: #3B4455;\n",
              "      --fill-color: #D2E3FC;\n",
              "      --hover-bg-color: #434B5C;\n",
              "      --hover-fill-color: #FFFFFF;\n",
              "      --disabled-bg-color: #3B4455;\n",
              "      --disabled-fill-color: #666;\n",
              "  }\n",
              "\n",
              "  .colab-df-quickchart {\n",
              "    background-color: var(--bg-color);\n",
              "    border: none;\n",
              "    border-radius: 50%;\n",
              "    cursor: pointer;\n",
              "    display: none;\n",
              "    fill: var(--fill-color);\n",
              "    height: 32px;\n",
              "    padding: 0;\n",
              "    width: 32px;\n",
              "  }\n",
              "\n",
              "  .colab-df-quickchart:hover {\n",
              "    background-color: var(--hover-bg-color);\n",
              "    box-shadow: 0 1px 2px rgba(60, 64, 67, 0.3), 0 1px 3px 1px rgba(60, 64, 67, 0.15);\n",
              "    fill: var(--button-hover-fill-color);\n",
              "  }\n",
              "\n",
              "  .colab-df-quickchart-complete:disabled,\n",
              "  .colab-df-quickchart-complete:disabled:hover {\n",
              "    background-color: var(--disabled-bg-color);\n",
              "    fill: var(--disabled-fill-color);\n",
              "    box-shadow: none;\n",
              "  }\n",
              "\n",
              "  .colab-df-spinner {\n",
              "    border: 2px solid var(--fill-color);\n",
              "    border-color: transparent;\n",
              "    border-bottom-color: var(--fill-color);\n",
              "    animation:\n",
              "      spin 1s steps(1) infinite;\n",
              "  }\n",
              "\n",
              "  @keyframes spin {\n",
              "    0% {\n",
              "      border-color: transparent;\n",
              "      border-bottom-color: var(--fill-color);\n",
              "      border-left-color: var(--fill-color);\n",
              "    }\n",
              "    20% {\n",
              "      border-color: transparent;\n",
              "      border-left-color: var(--fill-color);\n",
              "      border-top-color: var(--fill-color);\n",
              "    }\n",
              "    30% {\n",
              "      border-color: transparent;\n",
              "      border-left-color: var(--fill-color);\n",
              "      border-top-color: var(--fill-color);\n",
              "      border-right-color: var(--fill-color);\n",
              "    }\n",
              "    40% {\n",
              "      border-color: transparent;\n",
              "      border-right-color: var(--fill-color);\n",
              "      border-top-color: var(--fill-color);\n",
              "    }\n",
              "    60% {\n",
              "      border-color: transparent;\n",
              "      border-right-color: var(--fill-color);\n",
              "    }\n",
              "    80% {\n",
              "      border-color: transparent;\n",
              "      border-right-color: var(--fill-color);\n",
              "      border-bottom-color: var(--fill-color);\n",
              "    }\n",
              "    90% {\n",
              "      border-color: transparent;\n",
              "      border-bottom-color: var(--fill-color);\n",
              "    }\n",
              "  }\n",
              "</style>\n",
              "\n",
              "  <script>\n",
              "    async function quickchart(key) {\n",
              "      const quickchartButtonEl =\n",
              "        document.querySelector('#' + key + ' button');\n",
              "      quickchartButtonEl.disabled = true;  // To prevent multiple clicks.\n",
              "      quickchartButtonEl.classList.add('colab-df-spinner');\n",
              "      try {\n",
              "        const charts = await google.colab.kernel.invokeFunction(\n",
              "            'suggestCharts', [key], {});\n",
              "      } catch (error) {\n",
              "        console.error('Error during call to suggestCharts:', error);\n",
              "      }\n",
              "      quickchartButtonEl.classList.remove('colab-df-spinner');\n",
              "      quickchartButtonEl.classList.add('colab-df-quickchart-complete');\n",
              "    }\n",
              "    (() => {\n",
              "      let quickchartButtonEl =\n",
              "        document.querySelector('#df-cb1aa9b4-7dbc-4f5a-be99-a99c0e558c0f button');\n",
              "      quickchartButtonEl.style.display =\n",
              "        google.colab.kernel.accessAllowed ? 'block' : 'none';\n",
              "    })();\n",
              "  </script>\n",
              "</div>\n",
              "    </div>\n",
              "  </div>\n"
            ],
            "application/vnd.google.colaboratory.intrinsic+json": {
              "type": "dataframe",
              "variable_name": "data",
              "summary": "{\n  \"name\": \"data\",\n  \"rows\": 50000,\n  \"fields\": [\n    {\n      \"column\": \"id\",\n      \"properties\": {\n        \"dtype\": \"string\",\n        \"num_unique_values\": 50000,\n        \"samples\": [\n          \"\\\"2545_0\\\"\",\n          \"\\\"8811_0\\\"\",\n          \"\\\"3696_0\\\"\"\n        ],\n        \"semantic_type\": \"\",\n        \"description\": \"\"\n      }\n    },\n    {\n      \"column\": \"review\",\n      \"properties\": {\n        \"dtype\": \"string\",\n        \"num_unique_values\": 49507,\n        \"samples\": [\n          \"\\\"Oh God, where do I begin? The murder in the alley? The bad guy with the shark mask? The Nazi Pope? The clumsy lip synching by the plastic woman in the wheel chair? The plastic woman having sex? All the above? Yes and much more.<br /><br />Lets cut to the chase: this movie is awful. The first thing is the bad script. Crappy burger chain using human remains funded by the 'Nazi Pope' with crappy F-rated detectives on their tale. And somehow related to a shark-man who wants revenge. Already makes your head hurt.<br /><br />Then you got the crappy sound editing and the lousy camera work. Could they get the mannequin to lip synch right or was that out of the budget? And what is up with the mannequin sex scene? Just plain retarded in every aspect.<br /><br />Quite frankly this is the worst movie I have never seen such bad acting in all my life. In fact, this is the worst movie I have ever seen so far in my life. The only comparable film in horrible quality is \\\\\\\"Deady Drifter\\\\\\\" - aka \\\\\\\"Out\\\\\\\" with Danny Glover. But this one, with its non-ending ending and lack of brain power prove to be the undoing before this one ever began.<br /><br />Sucks, sucks, and yes - sucks. \\\\\\\"F\\\\\\\"\\\"\",\n          \"\\\"Okay, I understand that this is a kid's movie, and that it's intended to simply be fun. However, that's no excuse for the wreck of a screenplay provided by Britt Allcroft. Some day I may be compelled out of sheer obsession to document the many problems with this movie, but the most fundamental flaw is the continued use of the \\\\\\\"Shining Time\\\\\\\" additions to the Awdry stories. Didi Conn is the only thing shining in Shining Time, created for US TV audiences to stitch together the excellent model railroad Thomas stories. The only thing is, they didn't need to be stitched together, as they stand up just fine on their own in book and video. Worse, the Shining Time portions on TV are excruciating to watch...and now the whole premise is brought to a movie.<br /><br />Now it seems there's some kind of magic railroad connecting a mythical British island railroad to Shining Time, clearly in the USA. In fact, it must be in Lancaster, PA, USA, because the Strasburg Railroad locomotive #475 makes a few appearances in the movie (in Strasburg and Harrisburg, PA) and I doubt it's ever been across the Atlantic.<br /><br />Anyway, to make a long and painful story short, there's almost no motivation for any of the characters in this story to do anything at all. Somehow Mr. Conductor (not an Awdry creation) is running out of gold dust, which will somehow make his \\\\\\\"universe\\\\\\\" fall apart. There's no mention as to why supplies would dwindle to nothing when it's the only thing holding Sodor together - Mr. Conductor is pretty irresponsible if you ask me. He summons his idiot brother who is no help at all, and together they and the rest of the characters stumble on the answer and save the day in a completely underwhelming conclusion.<br /><br />The gold dust emergency happens to coincide with the apparent return of a diesel engine intent on destroying steam engines. The whole evil-diesel and his predictable sidekick-duo are completely unnecessary and just scare the little kids (like my two-year-old). I assume that the marketing folks needed a few more new characters to work into the merchandising mix because there's no excuse for the plot damage caused by the diesel.<br /><br />Your kids may enjoy the railroad scenes, but don't watch this movie unless you want your brains to leak out of your head and turn to mush. The models are great, but the acting and writing are ridiculous. Avoid at all costs!!!\\\"\",\n          \"\\\"The Fans of \\\\\\\"Star Wars - Clone Wars\\\\\\\" may tar and feather me for my opinion, but after seeing this on TV a few months ago (aired directly after the original \\\\\\\"Star Wars - Attack of the Clones\\\\\\\"-Picture) i was extremely disappointed. As a \\\\\\\"Star Wars\\\\\\\"-Fan since 1977 i expected something, that surely will not par up to George Lucas original movies, but a least pay homage to the original movies, but after 15 Minutes i turned the TV off. The cheap animation (boldly called in another comment \\\\\\\"state-of-the-art\\\\\\\"...) was on the roughest level, The movings, explosions and laser-shots was always the same animation-cels reused and reused, the depicting of the actors in his animated forms was ridiculous, the dialogue was extremely stupid... i can't help, i simply did not like this film! It was an insult to George Lucas original movies for me! The next shock for me was to search here on the IMDb for it... Rating 8.1!! Come on: Ed Wood (in drunken condition) would it done better! Everyone has it's own opinion, but i did not like this film, and no power (even not \\\\\\\"the force\\\\\\\" :-) will force me to see the whole thing!\\\"\"\n        ],\n        \"semantic_type\": \"\",\n        \"description\": \"\"\n      }\n    }\n  ]\n}"
            }
          },
          "metadata": {},
          "execution_count": 11
        }
      ]
    },
    {
      "cell_type": "markdown",
      "metadata": {
        "id": "oIZaQ3kYX-rt"
      },
      "source": [
        "Убираем из данных ссылки, html-разметку и небуквенные символы, а затем приводим все к нижнему регистру и токенизируем. На выходе получается массив из предложений, каждое из которых представляет собой массив слов. Здесь используется токенизатор из библиотеки `nltk`."
      ]
    },
    {
      "cell_type": "code",
      "metadata": {
        "id": "lOo_xaS60y6c"
      },
      "source": [
        "tokenizer = nltk.data.load('tokenizers/punkt/english.pickle')"
      ],
      "execution_count": null,
      "outputs": []
    },
    {
      "cell_type": "code",
      "metadata": {
        "id": "irbunSOfX-rt"
      },
      "source": [
        "def review_to_wordlist(review, remove_stopwords=False ):\n",
        "    # убираем ссылки вне тегов\n",
        "    review = re.sub(r\"http[s]?://(?:[a-zA-Z]|[0-9]|[$-_@.&+]|[!*\\(\\),]|(?:%[0-9a-fA-F][0-9a-fA-F]))+\", \" \", review)\n",
        "    review_text = BeautifulSoup(review, \"lxml\").get_text()\n",
        "    review_text = re.sub(\"[^a-zA-Z]\",\" \", review_text)\n",
        "    words = review_text.lower().split()\n",
        "    if remove_stopwords:\n",
        "        stops = stopwords.words(\"english\")\n",
        "        words = [w for w in words if not w in stops]\n",
        "    return(words)\n",
        "\n",
        "def review_to_sentences(review, tokenizer, remove_stopwords=False):\n",
        "    raw_sentences = tokenizer.tokenize(review.strip())\n",
        "    sentences = []\n",
        "    for raw_sentence in raw_sentences:\n",
        "        if len(raw_sentence) > 0:\n",
        "            sentences.append(review_to_wordlist(raw_sentence, remove_stopwords))\n",
        "    return sentences"
      ],
      "execution_count": null,
      "outputs": []
    },
    {
      "cell_type": "code",
      "metadata": {
        "id": "bolPEuQgX-rv",
        "colab": {
          "base_uri": "https://localhost:8080/"
        },
        "outputId": "a092a0b8-9c8b-400a-8cff-6fc4ba7e4ac9"
      },
      "source": [
        "#logging.basicConfig(format='%(asctime)s : %(levelname)s : %(message)s', level=logging.INFO)\n",
        "\n",
        "sentences = []\n",
        "\n",
        "print(\"Parsing sentences from training set...\")\n",
        "for review in data[\"review\"]:\n",
        "    sentences += review_to_sentences(review, tokenizer)"
      ],
      "execution_count": null,
      "outputs": [
        {
          "output_type": "stream",
          "name": "stdout",
          "text": [
            "Parsing sentences from training set...\n"
          ]
        },
        {
          "output_type": "stream",
          "name": "stderr",
          "text": [
            "<ipython-input-13-a616f10ffbb7>:4: MarkupResemblesLocatorWarning: The input looks more like a filename than markup. You may want to open this file and pass the filehandle into Beautiful Soup.\n",
            "  review_text = BeautifulSoup(review, \"lxml\").get_text()\n"
          ]
        }
      ]
    },
    {
      "cell_type": "code",
      "metadata": {
        "id": "FbrH6TdfX-rx",
        "colab": {
          "base_uri": "https://localhost:8080/"
        },
        "outputId": "949fe705-5287-4a67-bc56-359da0002aab"
      },
      "source": [
        "print(len(sentences))\n",
        "print(sentences[0])"
      ],
      "execution_count": null,
      "outputs": [
        {
          "output_type": "stream",
          "name": "stdout",
          "text": [
            "529416\n",
            "['watching', 'time', 'chasers', 'it', 'obvious', 'that', 'it', 'was', 'made', 'by', 'a', 'bunch', 'of', 'friends']\n"
          ]
        }
      ]
    },
    {
      "cell_type": "code",
      "metadata": {
        "id": "Cqb_NOteX-rz"
      },
      "source": [
        "# это понадобится нам позже\n",
        "\n",
        "with open('clean_text.txt', 'w') as f:\n",
        "    for s in sentences[:5000]:\n",
        "        f.write(' '.join(s))\n",
        "        f.write('\\n')"
      ],
      "execution_count": null,
      "outputs": []
    },
    {
      "cell_type": "markdown",
      "metadata": {
        "id": "qqFhuv7XX-r1"
      },
      "source": [
        "Обучаем и сохраняем модель.\n",
        "\n",
        "\n",
        "Основные параметры:\n",
        "* данные должны быть итерируемым объектом\n",
        "* vector_size — размер вектора,\n",
        "* window — размер окна наблюдения,\n",
        "* min_count — мин. частотность слова в корпусе,\n",
        "* sg — используемый алгоритм обучения (0 — CBOW, 1 — Skip-gram),\n",
        "* sample — порог для downsampling'a высокочастотных слов,\n",
        "* workers — количество потоков,\n",
        "* alpha — learning rate,\n",
        "* iter — количество итераций,\n",
        "* max_vocab_size — позволяет выставить ограничение по памяти при создании словаря (т.е. если ограничение превышается, то низкочастотные слова будут выбрасываться). Для сравнения: 10 млн слов = 1Гб RAM.\n",
        "\n",
        "**NB!** Обратите внимание, что тренировка модели не включает препроцессинг! Это значит, что избавляться от пунктуации, приводить слова к нижнему регистру, лемматизировать их, проставлять частеречные теги придется до тренировки модели (если, конечно, это необходимо для вашей задачи). Т.е. в каком виде слова будут в исходном тексте, в таком они будут и в модели."
      ]
    },
    {
      "cell_type": "code",
      "metadata": {
        "id": "OB2FqIioX-r1",
        "colab": {
          "base_uri": "https://localhost:8080/",
          "height": 447
        },
        "outputId": "6d34378b-3424-48d1-dc68-419306002dbf"
      },
      "source": [
        "print(\"Training model...\")\n",
        "\n",
        "%time model_en = word2vec.Word2Vec(sentences, workers=4, vector_size=300, min_count=10, window=10, sample=1e-3)"
      ],
      "execution_count": null,
      "outputs": [
        {
          "output_type": "stream",
          "name": "stdout",
          "text": [
            "Training model...\n"
          ]
        },
        {
          "output_type": "error",
          "ename": "KeyboardInterrupt",
          "evalue": "",
          "traceback": [
            "\u001b[0;31m---------------------------------------------------------------------------\u001b[0m",
            "\u001b[0;31mKeyboardInterrupt\u001b[0m                         Traceback (most recent call last)",
            "\u001b[0;32m<timed exec>\u001b[0m in \u001b[0;36m<module>\u001b[0;34m\u001b[0m\n",
            "\u001b[0;32m/usr/local/lib/python3.10/dist-packages/gensim/models/word2vec.py\u001b[0m in \u001b[0;36m__init__\u001b[0;34m(self, sentences, corpus_file, vector_size, alpha, window, min_count, max_vocab_size, sample, seed, workers, min_alpha, sg, hs, negative, ns_exponent, cbow_mean, hashfxn, epochs, null_word, trim_rule, sorted_vocab, batch_words, compute_loss, callbacks, comment, max_final_vocab, shrink_windows)\u001b[0m\n\u001b[1;32m    428\u001b[0m             \u001b[0mself\u001b[0m\u001b[0;34m.\u001b[0m\u001b[0m_check_corpus_sanity\u001b[0m\u001b[0;34m(\u001b[0m\u001b[0mcorpus_iterable\u001b[0m\u001b[0;34m=\u001b[0m\u001b[0mcorpus_iterable\u001b[0m\u001b[0;34m,\u001b[0m \u001b[0mcorpus_file\u001b[0m\u001b[0;34m=\u001b[0m\u001b[0mcorpus_file\u001b[0m\u001b[0;34m,\u001b[0m \u001b[0mpasses\u001b[0m\u001b[0;34m=\u001b[0m\u001b[0;34m(\u001b[0m\u001b[0mepochs\u001b[0m \u001b[0;34m+\u001b[0m \u001b[0;36m1\u001b[0m\u001b[0;34m)\u001b[0m\u001b[0;34m)\u001b[0m\u001b[0;34m\u001b[0m\u001b[0;34m\u001b[0m\u001b[0m\n\u001b[1;32m    429\u001b[0m             \u001b[0mself\u001b[0m\u001b[0;34m.\u001b[0m\u001b[0mbuild_vocab\u001b[0m\u001b[0;34m(\u001b[0m\u001b[0mcorpus_iterable\u001b[0m\u001b[0;34m=\u001b[0m\u001b[0mcorpus_iterable\u001b[0m\u001b[0;34m,\u001b[0m \u001b[0mcorpus_file\u001b[0m\u001b[0;34m=\u001b[0m\u001b[0mcorpus_file\u001b[0m\u001b[0;34m,\u001b[0m \u001b[0mtrim_rule\u001b[0m\u001b[0;34m=\u001b[0m\u001b[0mtrim_rule\u001b[0m\u001b[0;34m)\u001b[0m\u001b[0;34m\u001b[0m\u001b[0;34m\u001b[0m\u001b[0m\n\u001b[0;32m--> 430\u001b[0;31m             self.train(\n\u001b[0m\u001b[1;32m    431\u001b[0m                 \u001b[0mcorpus_iterable\u001b[0m\u001b[0;34m=\u001b[0m\u001b[0mcorpus_iterable\u001b[0m\u001b[0;34m,\u001b[0m \u001b[0mcorpus_file\u001b[0m\u001b[0;34m=\u001b[0m\u001b[0mcorpus_file\u001b[0m\u001b[0;34m,\u001b[0m \u001b[0mtotal_examples\u001b[0m\u001b[0;34m=\u001b[0m\u001b[0mself\u001b[0m\u001b[0;34m.\u001b[0m\u001b[0mcorpus_count\u001b[0m\u001b[0;34m,\u001b[0m\u001b[0;34m\u001b[0m\u001b[0;34m\u001b[0m\u001b[0m\n\u001b[1;32m    432\u001b[0m                 \u001b[0mtotal_words\u001b[0m\u001b[0;34m=\u001b[0m\u001b[0mself\u001b[0m\u001b[0;34m.\u001b[0m\u001b[0mcorpus_total_words\u001b[0m\u001b[0;34m,\u001b[0m \u001b[0mepochs\u001b[0m\u001b[0;34m=\u001b[0m\u001b[0mself\u001b[0m\u001b[0;34m.\u001b[0m\u001b[0mepochs\u001b[0m\u001b[0;34m,\u001b[0m \u001b[0mstart_alpha\u001b[0m\u001b[0;34m=\u001b[0m\u001b[0mself\u001b[0m\u001b[0;34m.\u001b[0m\u001b[0malpha\u001b[0m\u001b[0;34m,\u001b[0m\u001b[0;34m\u001b[0m\u001b[0;34m\u001b[0m\u001b[0m\n",
            "\u001b[0;32m/usr/local/lib/python3.10/dist-packages/gensim/models/word2vec.py\u001b[0m in \u001b[0;36mtrain\u001b[0;34m(self, corpus_iterable, corpus_file, total_examples, total_words, epochs, start_alpha, end_alpha, word_count, queue_factor, report_delay, compute_loss, callbacks, **kwargs)\u001b[0m\n\u001b[1;32m   1071\u001b[0m \u001b[0;34m\u001b[0m\u001b[0m\n\u001b[1;32m   1072\u001b[0m             \u001b[0;32mif\u001b[0m \u001b[0mcorpus_iterable\u001b[0m \u001b[0;32mis\u001b[0m \u001b[0;32mnot\u001b[0m \u001b[0;32mNone\u001b[0m\u001b[0;34m:\u001b[0m\u001b[0;34m\u001b[0m\u001b[0;34m\u001b[0m\u001b[0m\n\u001b[0;32m-> 1073\u001b[0;31m                 trained_word_count_epoch, raw_word_count_epoch, job_tally_epoch = self._train_epoch(\n\u001b[0m\u001b[1;32m   1074\u001b[0m                     \u001b[0mcorpus_iterable\u001b[0m\u001b[0;34m,\u001b[0m \u001b[0mcur_epoch\u001b[0m\u001b[0;34m=\u001b[0m\u001b[0mcur_epoch\u001b[0m\u001b[0;34m,\u001b[0m \u001b[0mtotal_examples\u001b[0m\u001b[0;34m=\u001b[0m\u001b[0mtotal_examples\u001b[0m\u001b[0;34m,\u001b[0m\u001b[0;34m\u001b[0m\u001b[0;34m\u001b[0m\u001b[0m\n\u001b[1;32m   1075\u001b[0m                     \u001b[0mtotal_words\u001b[0m\u001b[0;34m=\u001b[0m\u001b[0mtotal_words\u001b[0m\u001b[0;34m,\u001b[0m \u001b[0mqueue_factor\u001b[0m\u001b[0;34m=\u001b[0m\u001b[0mqueue_factor\u001b[0m\u001b[0;34m,\u001b[0m \u001b[0mreport_delay\u001b[0m\u001b[0;34m=\u001b[0m\u001b[0mreport_delay\u001b[0m\u001b[0;34m,\u001b[0m\u001b[0;34m\u001b[0m\u001b[0;34m\u001b[0m\u001b[0m\n",
            "\u001b[0;32m/usr/local/lib/python3.10/dist-packages/gensim/models/word2vec.py\u001b[0m in \u001b[0;36m_train_epoch\u001b[0;34m(self, data_iterable, cur_epoch, total_examples, total_words, queue_factor, report_delay, callbacks)\u001b[0m\n\u001b[1;32m   1432\u001b[0m             \u001b[0mthread\u001b[0m\u001b[0;34m.\u001b[0m\u001b[0mstart\u001b[0m\u001b[0;34m(\u001b[0m\u001b[0;34m)\u001b[0m\u001b[0;34m\u001b[0m\u001b[0;34m\u001b[0m\u001b[0m\n\u001b[1;32m   1433\u001b[0m \u001b[0;34m\u001b[0m\u001b[0m\n\u001b[0;32m-> 1434\u001b[0;31m         trained_word_count, raw_word_count, job_tally = self._log_epoch_progress(\n\u001b[0m\u001b[1;32m   1435\u001b[0m             \u001b[0mprogress_queue\u001b[0m\u001b[0;34m,\u001b[0m \u001b[0mjob_queue\u001b[0m\u001b[0;34m,\u001b[0m \u001b[0mcur_epoch\u001b[0m\u001b[0;34m=\u001b[0m\u001b[0mcur_epoch\u001b[0m\u001b[0;34m,\u001b[0m \u001b[0mtotal_examples\u001b[0m\u001b[0;34m=\u001b[0m\u001b[0mtotal_examples\u001b[0m\u001b[0;34m,\u001b[0m\u001b[0;34m\u001b[0m\u001b[0;34m\u001b[0m\u001b[0m\n\u001b[1;32m   1436\u001b[0m             \u001b[0mtotal_words\u001b[0m\u001b[0;34m=\u001b[0m\u001b[0mtotal_words\u001b[0m\u001b[0;34m,\u001b[0m \u001b[0mreport_delay\u001b[0m\u001b[0;34m=\u001b[0m\u001b[0mreport_delay\u001b[0m\u001b[0;34m,\u001b[0m \u001b[0mis_corpus_file_mode\u001b[0m\u001b[0;34m=\u001b[0m\u001b[0;32mFalse\u001b[0m\u001b[0;34m,\u001b[0m\u001b[0;34m\u001b[0m\u001b[0;34m\u001b[0m\u001b[0m\n",
            "\u001b[0;32m/usr/local/lib/python3.10/dist-packages/gensim/models/word2vec.py\u001b[0m in \u001b[0;36m_log_epoch_progress\u001b[0;34m(self, progress_queue, job_queue, cur_epoch, total_examples, total_words, report_delay, is_corpus_file_mode)\u001b[0m\n\u001b[1;32m   1287\u001b[0m \u001b[0;34m\u001b[0m\u001b[0m\n\u001b[1;32m   1288\u001b[0m         \u001b[0;32mwhile\u001b[0m \u001b[0munfinished_worker_count\u001b[0m \u001b[0;34m>\u001b[0m \u001b[0;36m0\u001b[0m\u001b[0;34m:\u001b[0m\u001b[0;34m\u001b[0m\u001b[0;34m\u001b[0m\u001b[0m\n\u001b[0;32m-> 1289\u001b[0;31m             \u001b[0mreport\u001b[0m \u001b[0;34m=\u001b[0m \u001b[0mprogress_queue\u001b[0m\u001b[0;34m.\u001b[0m\u001b[0mget\u001b[0m\u001b[0;34m(\u001b[0m\u001b[0;34m)\u001b[0m  \u001b[0;31m# blocks if workers too slow\u001b[0m\u001b[0;34m\u001b[0m\u001b[0;34m\u001b[0m\u001b[0m\n\u001b[0m\u001b[1;32m   1290\u001b[0m             \u001b[0;32mif\u001b[0m \u001b[0mreport\u001b[0m \u001b[0;32mis\u001b[0m \u001b[0;32mNone\u001b[0m\u001b[0;34m:\u001b[0m  \u001b[0;31m# a thread reporting that it finished\u001b[0m\u001b[0;34m\u001b[0m\u001b[0;34m\u001b[0m\u001b[0m\n\u001b[1;32m   1291\u001b[0m                 \u001b[0munfinished_worker_count\u001b[0m \u001b[0;34m-=\u001b[0m \u001b[0;36m1\u001b[0m\u001b[0;34m\u001b[0m\u001b[0;34m\u001b[0m\u001b[0m\n",
            "\u001b[0;32m/usr/lib/python3.10/queue.py\u001b[0m in \u001b[0;36mget\u001b[0;34m(self, block, timeout)\u001b[0m\n\u001b[1;32m    169\u001b[0m             \u001b[0;32melif\u001b[0m \u001b[0mtimeout\u001b[0m \u001b[0;32mis\u001b[0m \u001b[0;32mNone\u001b[0m\u001b[0;34m:\u001b[0m\u001b[0;34m\u001b[0m\u001b[0;34m\u001b[0m\u001b[0m\n\u001b[1;32m    170\u001b[0m                 \u001b[0;32mwhile\u001b[0m \u001b[0;32mnot\u001b[0m \u001b[0mself\u001b[0m\u001b[0;34m.\u001b[0m\u001b[0m_qsize\u001b[0m\u001b[0;34m(\u001b[0m\u001b[0;34m)\u001b[0m\u001b[0;34m:\u001b[0m\u001b[0;34m\u001b[0m\u001b[0;34m\u001b[0m\u001b[0m\n\u001b[0;32m--> 171\u001b[0;31m                     \u001b[0mself\u001b[0m\u001b[0;34m.\u001b[0m\u001b[0mnot_empty\u001b[0m\u001b[0;34m.\u001b[0m\u001b[0mwait\u001b[0m\u001b[0;34m(\u001b[0m\u001b[0;34m)\u001b[0m\u001b[0;34m\u001b[0m\u001b[0;34m\u001b[0m\u001b[0m\n\u001b[0m\u001b[1;32m    172\u001b[0m             \u001b[0;32melif\u001b[0m \u001b[0mtimeout\u001b[0m \u001b[0;34m<\u001b[0m \u001b[0;36m0\u001b[0m\u001b[0;34m:\u001b[0m\u001b[0;34m\u001b[0m\u001b[0;34m\u001b[0m\u001b[0m\n\u001b[1;32m    173\u001b[0m                 \u001b[0;32mraise\u001b[0m \u001b[0mValueError\u001b[0m\u001b[0;34m(\u001b[0m\u001b[0;34m\"'timeout' must be a non-negative number\"\u001b[0m\u001b[0;34m)\u001b[0m\u001b[0;34m\u001b[0m\u001b[0;34m\u001b[0m\u001b[0m\n",
            "\u001b[0;32m/usr/lib/python3.10/threading.py\u001b[0m in \u001b[0;36mwait\u001b[0;34m(self, timeout)\u001b[0m\n\u001b[1;32m    318\u001b[0m         \u001b[0;32mtry\u001b[0m\u001b[0;34m:\u001b[0m    \u001b[0;31m# restore state no matter what (e.g., KeyboardInterrupt)\u001b[0m\u001b[0;34m\u001b[0m\u001b[0;34m\u001b[0m\u001b[0m\n\u001b[1;32m    319\u001b[0m             \u001b[0;32mif\u001b[0m \u001b[0mtimeout\u001b[0m \u001b[0;32mis\u001b[0m \u001b[0;32mNone\u001b[0m\u001b[0;34m:\u001b[0m\u001b[0;34m\u001b[0m\u001b[0;34m\u001b[0m\u001b[0m\n\u001b[0;32m--> 320\u001b[0;31m                 \u001b[0mwaiter\u001b[0m\u001b[0;34m.\u001b[0m\u001b[0macquire\u001b[0m\u001b[0;34m(\u001b[0m\u001b[0;34m)\u001b[0m\u001b[0;34m\u001b[0m\u001b[0;34m\u001b[0m\u001b[0m\n\u001b[0m\u001b[1;32m    321\u001b[0m                 \u001b[0mgotit\u001b[0m \u001b[0;34m=\u001b[0m \u001b[0;32mTrue\u001b[0m\u001b[0;34m\u001b[0m\u001b[0;34m\u001b[0m\u001b[0m\n\u001b[1;32m    322\u001b[0m             \u001b[0;32melse\u001b[0m\u001b[0;34m:\u001b[0m\u001b[0;34m\u001b[0m\u001b[0;34m\u001b[0m\u001b[0m\n",
            "\u001b[0;31mKeyboardInterrupt\u001b[0m: "
          ]
        }
      ]
    },
    {
      "cell_type": "markdown",
      "metadata": {
        "id": "HFU6SYAZX-r3"
      },
      "source": [
        "Смотрим, сколько в модели слов."
      ]
    },
    {
      "cell_type": "code",
      "metadata": {
        "id": "HA3P0CUYX-r4",
        "colab": {
          "base_uri": "https://localhost:8080/"
        },
        "outputId": "821eda18-1267-423c-c303-ac4f7b828f16"
      },
      "source": [
        "print(len(model_en.wv.key_to_index))"
      ],
      "execution_count": null,
      "outputs": [
        {
          "output_type": "stream",
          "name": "stdout",
          "text": [
            "28308\n"
          ]
        }
      ]
    },
    {
      "cell_type": "markdown",
      "metadata": {
        "id": "2mU9sbGYX-r8"
      },
      "source": [
        "Попробуем оценить модель вручную, порешав примеры. Несколько дано ниже, попробуйте придумать свои."
      ]
    },
    {
      "cell_type": "code",
      "metadata": {
        "id": "n8OQxmUyX-r9",
        "colab": {
          "base_uri": "https://localhost:8080/"
        },
        "outputId": "b42ce61a-d1a0-4929-84c1-ab48226a36d3"
      },
      "source": [
        "print(model_en.wv.most_similar(positive=[\"woman\", \"actor\"], negative=[\"man\"], topn=1))\n",
        "print(model_en.wv.most_similar(positive=[\"dogs\", \"man\"], negative=[\"dog\"], topn=1))\n",
        "\n",
        "print(model_en.wv.most_similar(\"usa\", topn=3))\n",
        "\n",
        "print(model_en.wv.doesnt_match(\"comedy thriller western novel\".split()))"
      ],
      "execution_count": null,
      "outputs": [
        {
          "output_type": "stream",
          "name": "stdout",
          "text": [
            "[('actress', 0.7482154965400696)]\n",
            "[('men', 0.6500297784805298)]\n",
            "[('europe', 0.7372652292251587), ('germany', 0.7072169184684753), ('russia', 0.6918783783912659)]\n",
            "novel\n"
          ]
        }
      ]
    },
    {
      "cell_type": "markdown",
      "metadata": {
        "id": "juR4NX0wX-r_"
      },
      "source": [
        "### Как дообучить существующую модель\n",
        "\n",
        "При тренировке модели \"с нуля\" веса инициализируются случайно, однако можно использовать для инициализации векторов веса из предобученной модели, таким образом как бы дообучая ее.\n",
        "\n",
        "Сначала посмотрим близость какой-нибудь пары слов в имеющейся модели, чтобы потом сравнить результат с дообученной."
      ]
    },
    {
      "cell_type": "code",
      "metadata": {
        "id": "rAUVp96kX-sA",
        "colab": {
          "base_uri": "https://localhost:8080/"
        },
        "outputId": "d4d8ab8c-775d-400c-8f56-4e85547bf1e1"
      },
      "source": [
        "model_en.wv.similarity('lion', 'rabbit')"
      ],
      "execution_count": null,
      "outputs": [
        {
          "output_type": "execute_result",
          "data": {
            "text/plain": [
              "0.27667698"
            ]
          },
          "metadata": {},
          "execution_count": 22
        }
      ]
    },
    {
      "cell_type": "markdown",
      "metadata": {
        "id": "Mxsz8DKMX-sD"
      },
      "source": [
        "В качестве дополнительных данных для обучения возьмем английский текст «Алисы в Зазеркалье»."
      ]
    },
    {
      "cell_type": "code",
      "metadata": {
        "id": "4eTCOgpMX-sE",
        "colab": {
          "base_uri": "https://localhost:8080/"
        },
        "outputId": "af27cc14-e8df-4832-8a5f-57ee574a661d"
      },
      "source": [
        "! wget https://raw.githubusercontent.com/ancatmara/data-science-nlp/master/data/w2v/train/alice.txt"
      ],
      "execution_count": null,
      "outputs": [
        {
          "output_type": "stream",
          "name": "stdout",
          "text": [
            "--2023-09-21 13:47:07--  https://raw.githubusercontent.com/ancatmara/data-science-nlp/master/data/w2v/train/alice.txt\n",
            "Resolving raw.githubusercontent.com (raw.githubusercontent.com)... 185.199.108.133, 185.199.109.133, 185.199.110.133, ...\n",
            "Connecting to raw.githubusercontent.com (raw.githubusercontent.com)|185.199.108.133|:443... connected.\n",
            "HTTP request sent, awaiting response... 200 OK\n",
            "Length: 167631 (164K) [text/plain]\n",
            "Saving to: ‘alice.txt’\n",
            "\n",
            "\ralice.txt             0%[                    ]       0  --.-KB/s               \ralice.txt           100%[===================>] 163.70K  --.-KB/s    in 0.1s    \n",
            "\n",
            "2023-09-21 13:47:07 (1.46 MB/s) - ‘alice.txt’ saved [167631/167631]\n",
            "\n"
          ]
        }
      ]
    },
    {
      "cell_type": "code",
      "metadata": {
        "id": "yHuXJgB_X-sI",
        "colab": {
          "base_uri": "https://localhost:8080/"
        },
        "outputId": "0f5f22de-e154-45b4-9d86-a8692c219d06"
      },
      "source": [
        "with open(\"alice.txt\", 'r', encoding='utf-8') as f:\n",
        "    text = f.read()\n",
        "\n",
        "text = re.sub('\\n', ' ', text)\n",
        "sents = sent_tokenize(text)\n",
        "\n",
        "punct = '!\"#$%&()*+,-./:;<=>?@[\\]^_`{|}~„“«»†*—/\\-‘’'\n",
        "clean_sents = []\n",
        "\n",
        "for sent in sents:\n",
        "    s = [w.lower().strip(punct) for w in sent.split()]\n",
        "    clean_sents.append(s)\n",
        "\n",
        "print(clean_sents[:2])"
      ],
      "execution_count": null,
      "outputs": [
        {
          "output_type": "stream",
          "name": "stdout",
          "text": [
            "[['through', 'the', 'looking-glass', 'by', 'lewis', 'carroll', 'chapter', 'i', 'looking-glass', 'house', 'one', 'thing', 'was', 'certain', 'that', 'the', 'white', 'kitten', 'had', 'had', 'nothing', 'to', 'do', 'with', 'it', '', 'it', 'was', 'the', 'black', 'kitten’s', 'fault', 'entirely'], ['for', 'the', 'white', 'kitten', 'had', 'been', 'having', 'its', 'face', 'washed', 'by', 'the', 'old', 'cat', 'for', 'the', 'last', 'quarter', 'of', 'an', 'hour', 'and', 'bearing', 'it', 'pretty', 'well', 'considering', 'so', 'you', 'see', 'that', 'it', 'couldn’t', 'have', 'had', 'any', 'hand', 'in', 'the', 'mischief']]\n"
          ]
        }
      ]
    },
    {
      "cell_type": "markdown",
      "metadata": {
        "id": "dH8f7GNBX-sK"
      },
      "source": [
        "Чтобы дообучить модель, надо сначала ее сохранить, а потом загрузить. Все параметры тренировки (размер вектора, мин. частота слова и т.п.) будут взяты из загруженной модели, т.е. задать их заново нельзя.\n",
        "\n",
        "**NB!** Дообучить можно только полную модель, а `KeyedVectors` — нельзя. Поэтому сохранять модель нужно в соответствующем формате. Подробнее о разнице [вот тут](https://radimrehurek.com/gensim/models/keyedvectors.html)."
      ]
    },
    {
      "cell_type": "code",
      "metadata": {
        "id": "Rv--44TmX-sL",
        "colab": {
          "base_uri": "https://localhost:8080/"
        },
        "outputId": "68109a60-1631-4140-c7e8-18c3e70edff6"
      },
      "source": [
        "model_path = \"movie_reviews.model\"\n",
        "\n",
        "print(\"Saving model...\")\n",
        "model_en.save(model_path)"
      ],
      "execution_count": null,
      "outputs": [
        {
          "output_type": "stream",
          "name": "stdout",
          "text": [
            "Saving model...\n"
          ]
        }
      ]
    },
    {
      "cell_type": "code",
      "metadata": {
        "id": "f6eZwBQzX-sQ",
        "colab": {
          "base_uri": "https://localhost:8080/"
        },
        "outputId": "cc242b06-b44b-48d2-ee7c-b2a91d377b51"
      },
      "source": [
        "model = word2vec.Word2Vec.load(model_path)\n",
        "\n",
        "model.build_vocab(clean_sents, update=True)\n",
        "model.train(clean_sents, total_examples=model.corpus_count, epochs=5)"
      ],
      "execution_count": null,
      "outputs": [
        {
          "output_type": "stream",
          "name": "stderr",
          "text": [
            "WARNING:gensim.models.word2vec:Effective 'alpha' higher than previous training cycles\n"
          ]
        },
        {
          "output_type": "execute_result",
          "data": {
            "text/plain": [
              "(96564, 150225)"
            ]
          },
          "metadata": {},
          "execution_count": 26
        }
      ]
    },
    {
      "cell_type": "markdown",
      "metadata": {
        "id": "nMLhISWiX-sS"
      },
      "source": [
        "Лев и кролик стали... дальше друг от друга!"
      ]
    },
    {
      "cell_type": "code",
      "metadata": {
        "id": "4USaUjmzX-sS",
        "colab": {
          "base_uri": "https://localhost:8080/"
        },
        "outputId": "8f08673a-4663-4ee4-aacf-f88c1b08926d"
      },
      "source": [
        "model.wv.similarity('lion', 'rabbit')"
      ],
      "execution_count": null,
      "outputs": [
        {
          "output_type": "execute_result",
          "data": {
            "text/plain": [
              "0.27090475"
            ]
          },
          "metadata": {},
          "execution_count": 27
        }
      ]
    },
    {
      "cell_type": "markdown",
      "metadata": {
        "id": "F5bYd1qmX-sT"
      },
      "source": [
        "Можно нормализовать вектора, тогда модель будет занимать меньше RAM. Однако после этого её нельзя дотренировывать. Здесь используется L2-нормализация: вектора нормализуются так, что если сложить квадраты всех элементов вектора, в сумме получится 1.\n",
        "\n",
        "Кроме того, сохраним не полные вектора, а `KeyedVectors`."
      ]
    },
    {
      "cell_type": "code",
      "metadata": {
        "id": "ZAVaTYvQX-sU",
        "colab": {
          "base_uri": "https://localhost:8080/"
        },
        "outputId": "ec0fdb05-39d8-468a-e929-ba0453286cc5"
      },
      "source": [
        "model.init_sims(replace=True)\n",
        "model_path = \"movies_alice.bin\"\n",
        "\n",
        "print(\"Saving model...\")\n",
        "model_en.wv.save_word2vec_format(model_path, binary=True)"
      ],
      "execution_count": null,
      "outputs": [
        {
          "output_type": "stream",
          "name": "stderr",
          "text": [
            "<ipython-input-28-b59eacbacf4e>:1: DeprecationWarning: Call to deprecated `init_sims` (Gensim 4.0.0 implemented internal optimizations that make calls to init_sims() unnecessary. init_sims() is now obsoleted and will be completely removed in future versions. See https://github.com/RaRe-Technologies/gensim/wiki/Migrating-from-Gensim-3.x-to-4).\n",
            "  model.init_sims(replace=True)\n",
            "WARNING:gensim.models.keyedvectors:destructive init_sims(replace=True) deprecated & no longer required for space-efficiency\n"
          ]
        },
        {
          "output_type": "stream",
          "name": "stdout",
          "text": [
            "Saving model...\n"
          ]
        }
      ]
    },
    {
      "cell_type": "markdown",
      "metadata": {
        "id": "CXKnPffPX-sY"
      },
      "source": [
        "## Оценка\n",
        "\n",
        "Это, конечно, хорошо, но как понять, какая модель лучше? Или вот, например, я сделал свою модель, а как понять, насколько она хорошая?\n",
        "\n",
        "Для этого существуют специальные датасеты для оценки качества дистрибутивных моделей. Основных два: один измеряет точность решения задач на аналогии (про Россию и пельмени), а второй используется для оценки коэффициента семантической близости.\n",
        "\n",
        "### Word Similarity\n",
        "\n",
        "Этот метод заключается в том, чтобы оценить, насколько представления о семантической близости слов в модели соотносятся с \"представлениями\" людей.\n",
        "\n",
        "| слово 1    | слово 2    | близость |\n",
        "|------------|------------|----------|\n",
        "| кошка      | собака     | 0.7      |  \n",
        "| чашка      | кружка     | 0.9      |       \n",
        "\n",
        "Для каждой пары слов из заранее заданного датасета мы можем посчитать косинусное расстояние, и получить список таких значений близости. При этом у нас уже есть список значений близостей, сделанный людьми. Мы можем сравнить эти два списка и понять, насколько они похожи (например, посчитав корреляцию). Эта мера схожести должна говорить о том, насколько модель хорошо моделирует расстояния до слова.\n",
        "\n",
        "### Аналогии\n",
        "\n",
        "Другая популярная задача для \"внутренней\" оценки называется задачей поиска аналогий. Как мы уже разбирали выше, с помощью простых арифметических операций мы можем модифицировать значение слова. Если заранее собрать набор слов-модификаторов, а также слов, которые мы хотим получить в результаты модификации, то на основе подсчёта количества \"попаданий\" в желаемое слово мы можем оценить, насколько хорошо работает модель.\n",
        "\n",
        "В качестве слов-модификаторов мы можем использовать семантические аналогии. Скажем, если у нас есть некоторое отношение \"страна-столица\", то для оценки модели мы можем использовать пары наподобие \"Россия-Москва\", \"Норвегия-Осло\", и т.д. Датасет будет выглядеть следующим образом:\n",
        "\n",
        "| слово 1    | слово 2    | отношение     |\n",
        "|------------|------------|---------------|\n",
        "| Россия     | Москва     | страна-столица|  \n",
        "| Норвегия   | Осло       | страна-столица|\n",
        "\n",
        "Рассматривая случайные две пары из этого набора, мы хотим, имея триплет (Россия, Москва, Норвегия), получить слово \"Осло\", т.е. найти такое слово, которое будет находиться в том же отношении со словом \"Норвегия\", как \"Россия\" находится с Москвой.\n",
        "\n",
        "Датасеты для русского языка можно скачать на странице с моделями на RusVectores. Посчитаем качество нашей модели НКРЯ на датасете про аналогии:"
      ]
    },
    {
      "cell_type": "code",
      "metadata": {
        "id": "-YhZcONZX-sY",
        "colab": {
          "base_uri": "https://localhost:8080/"
        },
        "outputId": "f763aacf-2dc4-4604-d71a-9a17c76b5f3d"
      },
      "source": [
        "! wget https://raw.githubusercontent.com/ancatmara/data-science-nlp/master/data/w2v/evaluation/ru_analogy_tagged.txt"
      ],
      "execution_count": null,
      "outputs": [
        {
          "output_type": "stream",
          "name": "stdout",
          "text": [
            "--2023-09-21 13:54:13--  https://raw.githubusercontent.com/ancatmara/data-science-nlp/master/data/w2v/evaluation/ru_analogy_tagged.txt\n",
            "Resolving raw.githubusercontent.com (raw.githubusercontent.com)... 185.199.108.133, 185.199.109.133, 185.199.110.133, ...\n",
            "Connecting to raw.githubusercontent.com (raw.githubusercontent.com)|185.199.108.133|:443... connected.\n",
            "HTTP request sent, awaiting response... 200 OK\n",
            "Length: 871776 (851K) [text/plain]\n",
            "Saving to: ‘ru_analogy_tagged.txt’\n",
            "\n",
            "ru_analogy_tagged.t 100%[===================>] 851.34K  4.53MB/s    in 0.2s    \n",
            "\n",
            "2023-09-21 13:54:13 (4.53 MB/s) - ‘ru_analogy_tagged.txt’ saved [871776/871776]\n",
            "\n"
          ]
        }
      ]
    },
    {
      "cell_type": "code",
      "metadata": {
        "id": "z54TWXlcX-sb"
      },
      "source": [
        "from gensim.test.utils import datapath\n",
        "\n",
        "#res = model_ru.accuracy('ru_analogy_tagged.txt')\n",
        "analogy_scores = model.wv.evaluate_word_analogies(datapath('questions-words.txt'))"
      ],
      "execution_count": null,
      "outputs": []
    },
    {
      "cell_type": "code",
      "metadata": {
        "id": "tWNppFBeX-sd",
        "colab": {
          "base_uri": "https://localhost:8080/"
        },
        "outputId": "9e7e66ae-7560-466b-977a-deb43004bf4e"
      },
      "source": [
        "print(analogy_scores[0])\n",
        "#print(res[4]['incorrect'][:10])"
      ],
      "execution_count": null,
      "outputs": [
        {
          "output_type": "stream",
          "name": "stdout",
          "text": [
            "0.2286837331183229\n"
          ]
        }
      ]
    },
    {
      "cell_type": "markdown",
      "metadata": {
        "id": "Sv0wxUXIX-se"
      },
      "source": [
        "## Визуализация\n",
        "\n",
        "На полученную модель можно посмотреть, визуализировав ее, например, на плоскости.\n",
        "### t-SNE\n",
        "\n",
        "**t-SNE**  (*t-distributed Stochastic Neighbor Embedding*) — техника нелинейного снижения размерности и визуализации многомерных переменных. Она разработана специально для данных высокой размерности Л. ван дер Маатеном и Д. Хинтоном, [вот их статья](http://jmlr.org/papers/volume9/vandermaaten08a/vandermaaten08a.pdf). t-SNE — это итеративный алгоритм, основанный на вычислении попарных расстояний между всеми объектами (в том числе поэтому он довольно медленный).\n",
        "\n",
        "\n",
        "Изобразим на плоскости 1000 самых частотных слов из коллекции текстов про кино:"
      ]
    },
    {
      "cell_type": "code",
      "metadata": {
        "id": "5UH91gFyX-sf",
        "colab": {
          "base_uri": "https://localhost:8080/",
          "height": 334,
          "referenced_widgets": [
            "03a314e993ed455ab683666506cc3d08",
            "c8a1a6a23b83441d9b721837de743e4b",
            "d6a49a1bc47546d6a9e19b0c9a10e102",
            "30e05b85e4b840e68a97da37b7cf3661",
            "e6c2c70a8dd3409c831187c8c1db3aaa",
            "a143c3a06a1842f6b05537b35582e5ab",
            "0c22ecd77f494efea58855f68595acbe",
            "c1863d0d353b445eb820098a0cb6ac70",
            "63ce7779aad243aba0ff5db15ee24c10",
            "97a3ca39932d4a98891a2d52644e440d",
            "85b775ffb40846a58b635d7f963b89e6"
          ]
        },
        "outputId": "275723f5-3b27-42ed-bf7c-fd8c7cde8035"
      },
      "source": [
        "from nltk import FreqDist\n",
        "from tqdm import tqdm_notebook as tqdm\n",
        "from sklearn.manifold import TSNE\n",
        "\n",
        "top_words = []\n",
        "\n",
        "\n",
        "fd = FreqDist()\n",
        "for s in tqdm(sentences):\n",
        "    fd.update(s)\n",
        "\n",
        "for w in fd.most_common(1000):\n",
        "    top_words.append(w[0])\n",
        "\n",
        "print(top_words[:50:])\n",
        "top_words_vec = model[top_words]"
      ],
      "execution_count": null,
      "outputs": [
        {
          "output_type": "stream",
          "name": "stderr",
          "text": [
            "<ipython-input-33-27801841c15c>:9: TqdmDeprecationWarning: This function will be removed in tqdm==5.0.0\n",
            "Please use `tqdm.notebook.tqdm` instead of `tqdm.tqdm_notebook`\n",
            "  for s in tqdm(sentences):\n"
          ]
        },
        {
          "output_type": "display_data",
          "data": {
            "text/plain": [
              "  0%|          | 0/529416 [00:00<?, ?it/s]"
            ],
            "application/vnd.jupyter.widget-view+json": {
              "version_major": 2,
              "version_minor": 0,
              "model_id": "03a314e993ed455ab683666506cc3d08"
            }
          },
          "metadata": {}
        },
        {
          "output_type": "stream",
          "name": "stdout",
          "text": [
            "['the', 'and', 'a', 'of', 'to', 'is', 'it', 'in', 'i', 'this', 'that', 's', 'was', 'as', 'with', 'for', 'movie', 'but', 'film', 'you', 't', 'on', 'not', 'he', 'are', 'his', 'have', 'be', 'one', 'all', 'they', 'at', 'by', 'who', 'an', 'from', 'so', 'like', 'there', 'or', 'her', 'just', 'about', 'out', 'has', 'if', 'what', 'some', 'good', 'can']\n"
          ]
        },
        {
          "output_type": "error",
          "ename": "TypeError",
          "evalue": "ignored",
          "traceback": [
            "\u001b[0;31m---------------------------------------------------------------------------\u001b[0m",
            "\u001b[0;31mTypeError\u001b[0m                                 Traceback (most recent call last)",
            "\u001b[0;32m<ipython-input-33-27801841c15c>\u001b[0m in \u001b[0;36m<cell line: 16>\u001b[0;34m()\u001b[0m\n\u001b[1;32m     14\u001b[0m \u001b[0;34m\u001b[0m\u001b[0m\n\u001b[1;32m     15\u001b[0m \u001b[0mprint\u001b[0m\u001b[0;34m(\u001b[0m\u001b[0mtop_words\u001b[0m\u001b[0;34m[\u001b[0m\u001b[0;34m:\u001b[0m\u001b[0;36m50\u001b[0m\u001b[0;34m:\u001b[0m\u001b[0;34m]\u001b[0m\u001b[0;34m)\u001b[0m\u001b[0;34m\u001b[0m\u001b[0;34m\u001b[0m\u001b[0m\n\u001b[0;32m---> 16\u001b[0;31m \u001b[0mtop_words_vec\u001b[0m \u001b[0;34m=\u001b[0m \u001b[0mmodel\u001b[0m\u001b[0;34m[\u001b[0m\u001b[0mtop_words\u001b[0m\u001b[0;34m]\u001b[0m\u001b[0;34m\u001b[0m\u001b[0;34m\u001b[0m\u001b[0m\n\u001b[0m",
            "\u001b[0;31mTypeError\u001b[0m: 'Word2Vec' object is not subscriptable"
          ]
        }
      ]
    },
    {
      "cell_type": "code",
      "metadata": {
        "id": "UojZiR7c0zBW",
        "colab": {
          "base_uri": "https://localhost:8080/"
        },
        "outputId": "6e59be78-309f-419c-9479-85bc80520e2c"
      },
      "source": [
        "top_words_vec = model[top_words]"
      ],
      "execution_count": null,
      "outputs": [
        {
          "output_type": "stream",
          "name": "stderr",
          "text": [
            "/usr/local/lib/python3.7/dist-packages/ipykernel_launcher.py:1: DeprecationWarning: Call to deprecated `__getitem__` (Method will be removed in 4.0.0, use self.wv.__getitem__() instead).\n",
            "  \"\"\"Entry point for launching an IPython kernel.\n"
          ]
        }
      ]
    },
    {
      "cell_type": "code",
      "metadata": {
        "id": "74FvTsuuX-sg",
        "colab": {
          "base_uri": "https://localhost:8080/"
        },
        "outputId": "4637d27c-4d27-463d-f38b-03fa7fdcdb80"
      },
      "source": [
        "%%time\n",
        "tsne = TSNE(n_components=2, random_state=0)\n",
        "top_words_tsne = tsne.fit_transform(top_words_vec)"
      ],
      "execution_count": null,
      "outputs": [
        {
          "output_type": "stream",
          "name": "stderr",
          "text": [
            "/usr/local/lib/python3.7/dist-packages/sklearn/manifold/_t_sne.py:783: FutureWarning: The default initialization in TSNE will change from 'random' to 'pca' in 1.2.\n",
            "  FutureWarning,\n",
            "/usr/local/lib/python3.7/dist-packages/sklearn/manifold/_t_sne.py:793: FutureWarning: The default learning rate in TSNE will change from 200.0 to 'auto' in 1.2.\n",
            "  FutureWarning,\n"
          ]
        },
        {
          "output_type": "stream",
          "name": "stdout",
          "text": [
            "CPU times: user 9.7 s, sys: 193 ms, total: 9.9 s\n",
            "Wall time: 5.04 s\n"
          ]
        }
      ]
    },
    {
      "cell_type": "code",
      "metadata": {
        "id": "UcR4rOu40zCA",
        "outputId": "5047768e-97ab-49db-a0ae-8402c5032c1c",
        "colab": {
          "base_uri": "https://localhost:8080/"
        }
      },
      "source": [
        " !pip install bokeh"
      ],
      "execution_count": null,
      "outputs": [
        {
          "output_type": "stream",
          "name": "stdout",
          "text": [
            "Looking in indexes: https://pypi.org/simple, https://us-python.pkg.dev/colab-wheels/public/simple/\n",
            "Requirement already satisfied: bokeh in /usr/local/lib/python3.7/dist-packages (2.3.3)\n",
            "Requirement already satisfied: PyYAML>=3.10 in /usr/local/lib/python3.7/dist-packages (from bokeh) (6.0)\n",
            "Requirement already satisfied: numpy>=1.11.3 in /usr/local/lib/python3.7/dist-packages (from bokeh) (1.21.6)\n",
            "Requirement already satisfied: tornado>=5.1 in /usr/local/lib/python3.7/dist-packages (from bokeh) (5.1.1)\n",
            "Requirement already satisfied: python-dateutil>=2.1 in /usr/local/lib/python3.7/dist-packages (from bokeh) (2.8.2)\n",
            "Requirement already satisfied: Jinja2>=2.9 in /usr/local/lib/python3.7/dist-packages (from bokeh) (2.11.3)\n",
            "Requirement already satisfied: pillow>=7.1.0 in /usr/local/lib/python3.7/dist-packages (from bokeh) (7.1.2)\n",
            "Requirement already satisfied: packaging>=16.8 in /usr/local/lib/python3.7/dist-packages (from bokeh) (21.3)\n",
            "Requirement already satisfied: typing-extensions>=3.7.4 in /usr/local/lib/python3.7/dist-packages (from bokeh) (4.1.1)\n",
            "Requirement already satisfied: MarkupSafe>=0.23 in /usr/local/lib/python3.7/dist-packages (from Jinja2>=2.9->bokeh) (2.0.1)\n",
            "Requirement already satisfied: pyparsing!=3.0.5,>=2.0.2 in /usr/local/lib/python3.7/dist-packages (from packaging>=16.8->bokeh) (3.0.9)\n",
            "Requirement already satisfied: six>=1.5 in /usr/local/lib/python3.7/dist-packages (from python-dateutil>=2.1->bokeh) (1.15.0)\n"
          ]
        }
      ]
    },
    {
      "cell_type": "code",
      "metadata": {
        "id": "R0A__XKwX-si",
        "colab": {
          "base_uri": "https://localhost:8080/",
          "height": 617
        },
        "outputId": "b8d2d7ca-0551-416e-c9dc-f6925df95a18"
      },
      "source": [
        "from bokeh.models import ColumnDataSource, LabelSet\n",
        "from bokeh.plotting import figure, show, output_file\n",
        "from bokeh.io import output_notebook\n",
        "output_notebook()\n",
        "\n",
        "p = figure(tools=\"pan,wheel_zoom,reset,save\",\n",
        "           toolbar_location=\"above\",\n",
        "           title=\"word2vec T-SNE (eng model, top1000 words)\")\n",
        "\n",
        "source = ColumnDataSource(data=dict(x1=top_words_tsne[:,0],\n",
        "                                    x2=top_words_tsne[:,1],\n",
        "                                    names=top_words))\n",
        "\n",
        "p.scatter(x=\"x1\", y=\"x2\", size=8, source=source)\n",
        "\n",
        "labels = LabelSet(x=\"x1\", y=\"x2\", text=\"names\", y_offset=6,\n",
        "                  text_font_size=\"8pt\", text_color=\"#555555\",\n",
        "                  source=source, text_align='center')\n",
        "p.add_layout(labels)\n",
        "\n",
        "show(p)"
      ],
      "execution_count": null,
      "outputs": [
        {
          "output_type": "display_data",
          "data": {
            "application/javascript": [
              "\n",
              "(function(root) {\n",
              "  function now() {\n",
              "    return new Date();\n",
              "  }\n",
              "\n",
              "  var force = true;\n",
              "\n",
              "  if (typeof root._bokeh_onload_callbacks === \"undefined\" || force === true) {\n",
              "    root._bokeh_onload_callbacks = [];\n",
              "    root._bokeh_is_loading = undefined;\n",
              "  }\n",
              "\n",
              "  var JS_MIME_TYPE = 'application/javascript';\n",
              "  var HTML_MIME_TYPE = 'text/html';\n",
              "  var EXEC_MIME_TYPE = 'application/vnd.bokehjs_exec.v0+json';\n",
              "  var CLASS_NAME = 'output_bokeh rendered_html';\n",
              "\n",
              "  /**\n",
              "   * Render data to the DOM node\n",
              "   */\n",
              "  function render(props, node) {\n",
              "    var script = document.createElement(\"script\");\n",
              "    node.appendChild(script);\n",
              "  }\n",
              "\n",
              "  /**\n",
              "   * Handle when an output is cleared or removed\n",
              "   */\n",
              "  function handleClearOutput(event, handle) {\n",
              "    var cell = handle.cell;\n",
              "\n",
              "    var id = cell.output_area._bokeh_element_id;\n",
              "    var server_id = cell.output_area._bokeh_server_id;\n",
              "    // Clean up Bokeh references\n",
              "    if (id != null && id in Bokeh.index) {\n",
              "      Bokeh.index[id].model.document.clear();\n",
              "      delete Bokeh.index[id];\n",
              "    }\n",
              "\n",
              "    if (server_id !== undefined) {\n",
              "      // Clean up Bokeh references\n",
              "      var cmd = \"from bokeh.io.state import curstate; print(curstate().uuid_to_server['\" + server_id + \"'].get_sessions()[0].document.roots[0]._id)\";\n",
              "      cell.notebook.kernel.execute(cmd, {\n",
              "        iopub: {\n",
              "          output: function(msg) {\n",
              "            var id = msg.content.text.trim();\n",
              "            if (id in Bokeh.index) {\n",
              "              Bokeh.index[id].model.document.clear();\n",
              "              delete Bokeh.index[id];\n",
              "            }\n",
              "          }\n",
              "        }\n",
              "      });\n",
              "      // Destroy server and session\n",
              "      var cmd = \"import bokeh.io.notebook as ion; ion.destroy_server('\" + server_id + \"')\";\n",
              "      cell.notebook.kernel.execute(cmd);\n",
              "    }\n",
              "  }\n",
              "\n",
              "  /**\n",
              "   * Handle when a new output is added\n",
              "   */\n",
              "  function handleAddOutput(event, handle) {\n",
              "    var output_area = handle.output_area;\n",
              "    var output = handle.output;\n",
              "\n",
              "    // limit handleAddOutput to display_data with EXEC_MIME_TYPE content only\n",
              "    if ((output.output_type != \"display_data\") || (!Object.prototype.hasOwnProperty.call(output.data, EXEC_MIME_TYPE))) {\n",
              "      return\n",
              "    }\n",
              "\n",
              "    var toinsert = output_area.element.find(\".\" + CLASS_NAME.split(' ')[0]);\n",
              "\n",
              "    if (output.metadata[EXEC_MIME_TYPE][\"id\"] !== undefined) {\n",
              "      toinsert[toinsert.length - 1].firstChild.textContent = output.data[JS_MIME_TYPE];\n",
              "      // store reference to embed id on output_area\n",
              "      output_area._bokeh_element_id = output.metadata[EXEC_MIME_TYPE][\"id\"];\n",
              "    }\n",
              "    if (output.metadata[EXEC_MIME_TYPE][\"server_id\"] !== undefined) {\n",
              "      var bk_div = document.createElement(\"div\");\n",
              "      bk_div.innerHTML = output.data[HTML_MIME_TYPE];\n",
              "      var script_attrs = bk_div.children[0].attributes;\n",
              "      for (var i = 0; i < script_attrs.length; i++) {\n",
              "        toinsert[toinsert.length - 1].firstChild.setAttribute(script_attrs[i].name, script_attrs[i].value);\n",
              "        toinsert[toinsert.length - 1].firstChild.textContent = bk_div.children[0].textContent\n",
              "      }\n",
              "      // store reference to server id on output_area\n",
              "      output_area._bokeh_server_id = output.metadata[EXEC_MIME_TYPE][\"server_id\"];\n",
              "    }\n",
              "  }\n",
              "\n",
              "  function register_renderer(events, OutputArea) {\n",
              "\n",
              "    function append_mime(data, metadata, element) {\n",
              "      // create a DOM node to render to\n",
              "      var toinsert = this.create_output_subarea(\n",
              "        metadata,\n",
              "        CLASS_NAME,\n",
              "        EXEC_MIME_TYPE\n",
              "      );\n",
              "      this.keyboard_manager.register_events(toinsert);\n",
              "      // Render to node\n",
              "      var props = {data: data, metadata: metadata[EXEC_MIME_TYPE]};\n",
              "      render(props, toinsert[toinsert.length - 1]);\n",
              "      element.append(toinsert);\n",
              "      return toinsert\n",
              "    }\n",
              "\n",
              "    /* Handle when an output is cleared or removed */\n",
              "    events.on('clear_output.CodeCell', handleClearOutput);\n",
              "    events.on('delete.Cell', handleClearOutput);\n",
              "\n",
              "    /* Handle when a new output is added */\n",
              "    events.on('output_added.OutputArea', handleAddOutput);\n",
              "\n",
              "    /**\n",
              "     * Register the mime type and append_mime function with output_area\n",
              "     */\n",
              "    OutputArea.prototype.register_mime_type(EXEC_MIME_TYPE, append_mime, {\n",
              "      /* Is output safe? */\n",
              "      safe: true,\n",
              "      /* Index of renderer in `output_area.display_order` */\n",
              "      index: 0\n",
              "    });\n",
              "  }\n",
              "\n",
              "  // register the mime type if in Jupyter Notebook environment and previously unregistered\n",
              "  if (root.Jupyter !== undefined) {\n",
              "    var events = require('base/js/events');\n",
              "    var OutputArea = require('notebook/js/outputarea').OutputArea;\n",
              "\n",
              "    if (OutputArea.prototype.mime_types().indexOf(EXEC_MIME_TYPE) == -1) {\n",
              "      register_renderer(events, OutputArea);\n",
              "    }\n",
              "  }\n",
              "\n",
              "  \n",
              "  if (typeof (root._bokeh_timeout) === \"undefined\" || force === true) {\n",
              "    root._bokeh_timeout = Date.now() + 5000;\n",
              "    root._bokeh_failed_load = false;\n",
              "  }\n",
              "\n",
              "  var NB_LOAD_WARNING = {'data': {'text/html':\n",
              "     \"<div style='background-color: #fdd'>\\n\"+\n",
              "     \"<p>\\n\"+\n",
              "     \"BokehJS does not appear to have successfully loaded. If loading BokehJS from CDN, this \\n\"+\n",
              "     \"may be due to a slow or bad network connection. Possible fixes:\\n\"+\n",
              "     \"</p>\\n\"+\n",
              "     \"<ul>\\n\"+\n",
              "     \"<li>re-rerun `output_notebook()` to attempt to load from CDN again, or</li>\\n\"+\n",
              "     \"<li>use INLINE resources instead, as so:</li>\\n\"+\n",
              "     \"</ul>\\n\"+\n",
              "     \"<code>\\n\"+\n",
              "     \"from bokeh.resources import INLINE\\n\"+\n",
              "     \"output_notebook(resources=INLINE)\\n\"+\n",
              "     \"</code>\\n\"+\n",
              "     \"</div>\"}};\n",
              "\n",
              "  function display_loaded() {\n",
              "    var el = document.getElementById(null);\n",
              "    if (el != null) {\n",
              "      el.textContent = \"BokehJS is loading...\";\n",
              "    }\n",
              "    if (root.Bokeh !== undefined) {\n",
              "      if (el != null) {\n",
              "        el.textContent = \"BokehJS \" + root.Bokeh.version + \" successfully loaded.\";\n",
              "      }\n",
              "    } else if (Date.now() < root._bokeh_timeout) {\n",
              "      setTimeout(display_loaded, 100)\n",
              "    }\n",
              "  }\n",
              "\n",
              "\n",
              "  function run_callbacks() {\n",
              "    try {\n",
              "      root._bokeh_onload_callbacks.forEach(function(callback) {\n",
              "        if (callback != null)\n",
              "          callback();\n",
              "      });\n",
              "    } finally {\n",
              "      delete root._bokeh_onload_callbacks\n",
              "    }\n",
              "    console.debug(\"Bokeh: all callbacks have finished\");\n",
              "  }\n",
              "\n",
              "  function load_libs(css_urls, js_urls, callback) {\n",
              "    if (css_urls == null) css_urls = [];\n",
              "    if (js_urls == null) js_urls = [];\n",
              "\n",
              "    root._bokeh_onload_callbacks.push(callback);\n",
              "    if (root._bokeh_is_loading > 0) {\n",
              "      console.debug(\"Bokeh: BokehJS is being loaded, scheduling callback at\", now());\n",
              "      return null;\n",
              "    }\n",
              "    if (js_urls == null || js_urls.length === 0) {\n",
              "      run_callbacks();\n",
              "      return null;\n",
              "    }\n",
              "    console.debug(\"Bokeh: BokehJS not loaded, scheduling load and callback at\", now());\n",
              "    root._bokeh_is_loading = css_urls.length + js_urls.length;\n",
              "\n",
              "    function on_load() {\n",
              "      root._bokeh_is_loading--;\n",
              "      if (root._bokeh_is_loading === 0) {\n",
              "        console.debug(\"Bokeh: all BokehJS libraries/stylesheets loaded\");\n",
              "        run_callbacks()\n",
              "      }\n",
              "    }\n",
              "\n",
              "    function on_error(url) {\n",
              "      console.error(\"failed to load \" + url);\n",
              "    }\n",
              "\n",
              "    for (let i = 0; i < css_urls.length; i++) {\n",
              "      const url = css_urls[i];\n",
              "      const element = document.createElement(\"link\");\n",
              "      element.onload = on_load;\n",
              "      element.onerror = on_error.bind(null, url);\n",
              "      element.rel = \"stylesheet\";\n",
              "      element.type = \"text/css\";\n",
              "      element.href = url;\n",
              "      console.debug(\"Bokeh: injecting link tag for BokehJS stylesheet: \", url);\n",
              "      document.body.appendChild(element);\n",
              "    }\n",
              "\n",
              "    const hashes = {\"https://cdn.bokeh.org/bokeh/release/bokeh-2.3.3.min.js\": \"dM3QQsP+wXdHg42wTqW85BjZQdLNNIXqlPw/BgKoExPmTG7ZLML4EGqLMfqHT6ON\", \"https://cdn.bokeh.org/bokeh/release/bokeh-tables-2.3.3.min.js\": \"8x57I4YuIfu8XyZfFo0XVr2WAT8EK4rh/uDe3wF7YuW2FNUSNEpJbsPaB1nJ2fz2\", \"https://cdn.bokeh.org/bokeh/release/bokeh-widgets-2.3.3.min.js\": \"3QTqdz9LyAm2i0sG5XTePsHec3UHWwVsrOL68SYRoAXsafvfAyqtQ+h440+qIBhS\"};\n",
              "\n",
              "    for (let i = 0; i < js_urls.length; i++) {\n",
              "      const url = js_urls[i];\n",
              "      const element = document.createElement('script');\n",
              "      element.onload = on_load;\n",
              "      element.onerror = on_error.bind(null, url);\n",
              "      element.async = false;\n",
              "      element.src = url;\n",
              "      if (url in hashes) {\n",
              "        element.crossOrigin = \"anonymous\";\n",
              "        element.integrity = \"sha384-\" + hashes[url];\n",
              "      }\n",
              "      console.debug(\"Bokeh: injecting script tag for BokehJS library: \", url);\n",
              "      document.head.appendChild(element);\n",
              "    }\n",
              "  };\n",
              "\n",
              "  function inject_raw_css(css) {\n",
              "    const element = document.createElement(\"style\");\n",
              "    element.appendChild(document.createTextNode(css));\n",
              "    document.body.appendChild(element);\n",
              "  }\n",
              "\n",
              "  \n",
              "  var js_urls = [\"https://cdn.bokeh.org/bokeh/release/bokeh-2.3.3.min.js\", \"https://cdn.bokeh.org/bokeh/release/bokeh-widgets-2.3.3.min.js\", \"https://cdn.bokeh.org/bokeh/release/bokeh-tables-2.3.3.min.js\"];\n",
              "  var css_urls = [];\n",
              "  \n",
              "\n",
              "  var inline_js = [\n",
              "    function(Bokeh) {\n",
              "      Bokeh.set_log_level(\"info\");\n",
              "    },\n",
              "    function(Bokeh) {\n",
              "    \n",
              "    \n",
              "    }\n",
              "  ];\n",
              "\n",
              "  function run_inline_js() {\n",
              "    \n",
              "    if (root.Bokeh !== undefined || force === true) {\n",
              "      \n",
              "    for (var i = 0; i < inline_js.length; i++) {\n",
              "      inline_js[i].call(root, root.Bokeh);\n",
              "    }\n",
              "    } else if (Date.now() < root._bokeh_timeout) {\n",
              "      setTimeout(run_inline_js, 100);\n",
              "    } else if (!root._bokeh_failed_load) {\n",
              "      console.log(\"Bokeh: BokehJS failed to load within specified timeout.\");\n",
              "      root._bokeh_failed_load = true;\n",
              "    } else if (force !== true) {\n",
              "      var cell = $(document.getElementById(null)).parents('.cell').data().cell;\n",
              "      cell.output_area.append_execute_result(NB_LOAD_WARNING)\n",
              "    }\n",
              "\n",
              "  }\n",
              "\n",
              "  if (root._bokeh_is_loading === 0) {\n",
              "    console.debug(\"Bokeh: BokehJS loaded, going straight to plotting\");\n",
              "    run_inline_js();\n",
              "  } else {\n",
              "    load_libs(css_urls, js_urls, function() {\n",
              "      console.debug(\"Bokeh: BokehJS plotting callback run at\", now());\n",
              "      run_inline_js();\n",
              "    });\n",
              "  }\n",
              "}(window));"
            ],
            "application/vnd.bokehjs_load.v0+json": "\n(function(root) {\n  function now() {\n    return new Date();\n  }\n\n  var force = true;\n\n  if (typeof root._bokeh_onload_callbacks === \"undefined\" || force === true) {\n    root._bokeh_onload_callbacks = [];\n    root._bokeh_is_loading = undefined;\n  }\n\n  \n\n  \n  if (typeof (root._bokeh_timeout) === \"undefined\" || force === true) {\n    root._bokeh_timeout = Date.now() + 5000;\n    root._bokeh_failed_load = false;\n  }\n\n  var NB_LOAD_WARNING = {'data': {'text/html':\n     \"<div style='background-color: #fdd'>\\n\"+\n     \"<p>\\n\"+\n     \"BokehJS does not appear to have successfully loaded. If loading BokehJS from CDN, this \\n\"+\n     \"may be due to a slow or bad network connection. Possible fixes:\\n\"+\n     \"</p>\\n\"+\n     \"<ul>\\n\"+\n     \"<li>re-rerun `output_notebook()` to attempt to load from CDN again, or</li>\\n\"+\n     \"<li>use INLINE resources instead, as so:</li>\\n\"+\n     \"</ul>\\n\"+\n     \"<code>\\n\"+\n     \"from bokeh.resources import INLINE\\n\"+\n     \"output_notebook(resources=INLINE)\\n\"+\n     \"</code>\\n\"+\n     \"</div>\"}};\n\n  function display_loaded() {\n    var el = document.getElementById(null);\n    if (el != null) {\n      el.textContent = \"BokehJS is loading...\";\n    }\n    if (root.Bokeh !== undefined) {\n      if (el != null) {\n        el.textContent = \"BokehJS \" + root.Bokeh.version + \" successfully loaded.\";\n      }\n    } else if (Date.now() < root._bokeh_timeout) {\n      setTimeout(display_loaded, 100)\n    }\n  }\n\n\n  function run_callbacks() {\n    try {\n      root._bokeh_onload_callbacks.forEach(function(callback) {\n        if (callback != null)\n          callback();\n      });\n    } finally {\n      delete root._bokeh_onload_callbacks\n    }\n    console.debug(\"Bokeh: all callbacks have finished\");\n  }\n\n  function load_libs(css_urls, js_urls, callback) {\n    if (css_urls == null) css_urls = [];\n    if (js_urls == null) js_urls = [];\n\n    root._bokeh_onload_callbacks.push(callback);\n    if (root._bokeh_is_loading > 0) {\n      console.debug(\"Bokeh: BokehJS is being loaded, scheduling callback at\", now());\n      return null;\n    }\n    if (js_urls == null || js_urls.length === 0) {\n      run_callbacks();\n      return null;\n    }\n    console.debug(\"Bokeh: BokehJS not loaded, scheduling load and callback at\", now());\n    root._bokeh_is_loading = css_urls.length + js_urls.length;\n\n    function on_load() {\n      root._bokeh_is_loading--;\n      if (root._bokeh_is_loading === 0) {\n        console.debug(\"Bokeh: all BokehJS libraries/stylesheets loaded\");\n        run_callbacks()\n      }\n    }\n\n    function on_error(url) {\n      console.error(\"failed to load \" + url);\n    }\n\n    for (let i = 0; i < css_urls.length; i++) {\n      const url = css_urls[i];\n      const element = document.createElement(\"link\");\n      element.onload = on_load;\n      element.onerror = on_error.bind(null, url);\n      element.rel = \"stylesheet\";\n      element.type = \"text/css\";\n      element.href = url;\n      console.debug(\"Bokeh: injecting link tag for BokehJS stylesheet: \", url);\n      document.body.appendChild(element);\n    }\n\n    const hashes = {\"https://cdn.bokeh.org/bokeh/release/bokeh-2.3.3.min.js\": \"dM3QQsP+wXdHg42wTqW85BjZQdLNNIXqlPw/BgKoExPmTG7ZLML4EGqLMfqHT6ON\", \"https://cdn.bokeh.org/bokeh/release/bokeh-tables-2.3.3.min.js\": \"8x57I4YuIfu8XyZfFo0XVr2WAT8EK4rh/uDe3wF7YuW2FNUSNEpJbsPaB1nJ2fz2\", \"https://cdn.bokeh.org/bokeh/release/bokeh-widgets-2.3.3.min.js\": \"3QTqdz9LyAm2i0sG5XTePsHec3UHWwVsrOL68SYRoAXsafvfAyqtQ+h440+qIBhS\"};\n\n    for (let i = 0; i < js_urls.length; i++) {\n      const url = js_urls[i];\n      const element = document.createElement('script');\n      element.onload = on_load;\n      element.onerror = on_error.bind(null, url);\n      element.async = false;\n      element.src = url;\n      if (url in hashes) {\n        element.crossOrigin = \"anonymous\";\n        element.integrity = \"sha384-\" + hashes[url];\n      }\n      console.debug(\"Bokeh: injecting script tag for BokehJS library: \", url);\n      document.head.appendChild(element);\n    }\n  };\n\n  function inject_raw_css(css) {\n    const element = document.createElement(\"style\");\n    element.appendChild(document.createTextNode(css));\n    document.body.appendChild(element);\n  }\n\n  \n  var js_urls = [\"https://cdn.bokeh.org/bokeh/release/bokeh-2.3.3.min.js\", \"https://cdn.bokeh.org/bokeh/release/bokeh-widgets-2.3.3.min.js\", \"https://cdn.bokeh.org/bokeh/release/bokeh-tables-2.3.3.min.js\"];\n  var css_urls = [];\n  \n\n  var inline_js = [\n    function(Bokeh) {\n      Bokeh.set_log_level(\"info\");\n    },\n    function(Bokeh) {\n    \n    \n    }\n  ];\n\n  function run_inline_js() {\n    \n    if (root.Bokeh !== undefined || force === true) {\n      \n    for (var i = 0; i < inline_js.length; i++) {\n      inline_js[i].call(root, root.Bokeh);\n    }\n    } else if (Date.now() < root._bokeh_timeout) {\n      setTimeout(run_inline_js, 100);\n    } else if (!root._bokeh_failed_load) {\n      console.log(\"Bokeh: BokehJS failed to load within specified timeout.\");\n      root._bokeh_failed_load = true;\n    } else if (force !== true) {\n      var cell = $(document.getElementById(null)).parents('.cell').data().cell;\n      cell.output_area.append_execute_result(NB_LOAD_WARNING)\n    }\n\n  }\n\n  if (root._bokeh_is_loading === 0) {\n    console.debug(\"Bokeh: BokehJS loaded, going straight to plotting\");\n    run_inline_js();\n  } else {\n    load_libs(css_urls, js_urls, function() {\n      console.debug(\"Bokeh: BokehJS plotting callback run at\", now());\n      run_inline_js();\n    });\n  }\n}(window));"
          },
          "metadata": {}
        },
        {
          "output_type": "display_data",
          "data": {
            "text/html": [
              "\n",
              "\n",
              "\n",
              "\n",
              "\n",
              "\n",
              "  <div class=\"bk-root\" id=\"bd898634-b100-443c-90c5-a480ac4cbeb2\" data-root-id=\"1002\"></div>\n"
            ]
          },
          "metadata": {}
        },
        {
          "output_type": "display_data",
          "data": {
            "application/javascript": [
              "(function(root) {\n",
              "  function embed_document(root) {\n",
              "    \n",
              "  var docs_json = {\"eb032613-7789-44d7-b3f3-80dfd757bc61\":{\"defs\":[],\"roots\":{\"references\":[{\"attributes\":{\"below\":[{\"id\":\"1013\"}],\"center\":[{\"id\":\"1016\"},{\"id\":\"1020\"},{\"id\":\"1036\"}],\"left\":[{\"id\":\"1017\"}],\"renderers\":[{\"id\":\"1034\"}],\"title\":{\"id\":\"1003\"},\"toolbar\":{\"id\":\"1025\"},\"toolbar_location\":\"above\",\"x_range\":{\"id\":\"1005\"},\"x_scale\":{\"id\":\"1009\"},\"y_range\":{\"id\":\"1007\"},\"y_scale\":{\"id\":\"1011\"}},\"id\":\"1002\",\"subtype\":\"Figure\",\"type\":\"Plot\"},{\"attributes\":{},\"id\":\"1007\",\"type\":\"DataRange1d\"},{\"attributes\":{},\"id\":\"1011\",\"type\":\"LinearScale\"},{\"attributes\":{\"fill_color\":{\"value\":\"#1f77b4\"},\"line_color\":{\"value\":\"#1f77b4\"},\"size\":{\"value\":8},\"x\":{\"field\":\"x1\"},\"y\":{\"field\":\"x2\"}},\"id\":\"1032\",\"type\":\"Scatter\"},{\"attributes\":{},\"id\":\"1005\",\"type\":\"DataRange1d\"},{\"attributes\":{},\"id\":\"1042\",\"type\":\"BasicTickFormatter\"},{\"attributes\":{\"formatter\":{\"id\":\"1039\"},\"major_label_policy\":{\"id\":\"1040\"},\"ticker\":{\"id\":\"1014\"}},\"id\":\"1013\",\"type\":\"LinearAxis\"},{\"attributes\":{},\"id\":\"1043\",\"type\":\"AllLabels\"},{\"attributes\":{},\"id\":\"1018\",\"type\":\"BasicTicker\"},{\"attributes\":{},\"id\":\"1014\",\"type\":\"BasicTicker\"},{\"attributes\":{\"axis\":{\"id\":\"1013\"},\"ticker\":null},\"id\":\"1016\",\"type\":\"Grid\"},{\"attributes\":{\"formatter\":{\"id\":\"1042\"},\"major_label_policy\":{\"id\":\"1043\"},\"ticker\":{\"id\":\"1018\"}},\"id\":\"1017\",\"type\":\"LinearAxis\"},{\"attributes\":{\"text\":\"word2vec T-SNE (eng model, top1000 words)\"},\"id\":\"1003\",\"type\":\"Title\"},{\"attributes\":{},\"id\":\"1021\",\"type\":\"PanTool\"},{\"attributes\":{},\"id\":\"1046\",\"type\":\"UnionRenderers\"},{\"attributes\":{\"data\":{\"names\":[\"the\",\"and\",\"a\",\"of\",\"to\",\"is\",\"it\",\"in\",\"i\",\"this\",\"that\",\"s\",\"was\",\"as\",\"with\",\"for\",\"movie\",\"but\",\"film\",\"you\",\"t\",\"on\",\"not\",\"he\",\"are\",\"his\",\"have\",\"be\",\"one\",\"all\",\"they\",\"at\",\"by\",\"who\",\"an\",\"from\",\"so\",\"like\",\"there\",\"or\",\"her\",\"just\",\"about\",\"out\",\"has\",\"if\",\"what\",\"some\",\"good\",\"can\",\"when\",\"more\",\"very\",\"she\",\"up\",\"no\",\"time\",\"even\",\"would\",\"their\",\"my\",\"which\",\"story\",\"only\",\"really\",\"see\",\"had\",\"were\",\"well\",\"me\",\"we\",\"than\",\"much\",\"bad\",\"been\",\"get\",\"people\",\"great\",\"into\",\"also\",\"do\",\"other\",\"first\",\"will\",\"him\",\"because\",\"most\",\"how\",\"don\",\"them\",\"make\",\"its\",\"made\",\"way\",\"could\",\"then\",\"too\",\"movies\",\"after\",\"any\",\"characters\",\"character\",\"films\",\"two\",\"think\",\"watch\",\"being\",\"plot\",\"many\",\"where\",\"never\",\"love\",\"seen\",\"little\",\"life\",\"acting\",\"best\",\"did\",\"off\",\"know\",\"over\",\"ever\",\"does\",\"show\",\"better\",\"man\",\"your\",\"end\",\"here\",\"scene\",\"while\",\"these\",\"why\",\"still\",\"scenes\",\"something\",\"say\",\"go\",\"m\",\"ve\",\"should\",\"back\",\"such\",\"real\",\"through\",\"those\",\"now\",\"re\",\"doesn\",\"watching\",\"thing\",\"director\",\"funny\",\"though\",\"years\",\"didn\",\"another\",\"actors\",\"new\",\"going\",\"old\",\"makes\",\"nothing\",\"actually\",\"before\",\"work\",\"look\",\"same\",\"find\",\"lot\",\"part\",\"few\",\"every\",\"again\",\"world\",\"action\",\"cast\",\"horror\",\"things\",\"us\",\"quite\",\"want\",\"down\",\"pretty\",\"young\",\"fact\",\"around\",\"seems\",\"enough\",\"both\",\"take\",\"long\",\"however\",\"thought\",\"got\",\"own\",\"give\",\"comedy\",\"between\",\"big\",\"d\",\"must\",\"series\",\"right\",\"may\",\"without\",\"role\",\"guy\",\"original\",\"interesting\",\"whole\",\"come\",\"isn\",\"times\",\"always\",\"saw\",\"least\",\"bit\",\"gets\",\"almost\",\"script\",\"point\",\"last\",\"music\",\"done\",\"minutes\",\"feel\",\"far\",\"since\",\"girl\",\"ll\",\"yet\",\"might\",\"making\",\"performance\",\"away\",\"family\",\"anything\",\"am\",\"probably\",\"hard\",\"woman\",\"tv\",\"kind\",\"fun\",\"rather\",\"day\",\"played\",\"worst\",\"each\",\"found\",\"sure\",\"anyone\",\"especially\",\"trying\",\"having\",\"our\",\"screen\",\"looking\",\"different\",\"believe\",\"sense\",\"place\",\"american\",\"although\",\"ending\",\"goes\",\"worth\",\"course\",\"set\",\"shows\",\"maybe\",\"three\",\"comes\",\"dvd\",\"money\",\"once\",\"everything\",\"plays\",\"effects\",\"put\",\"john\",\"looks\",\"actor\",\"main\",\"together\",\"during\",\"someone\",\"let\",\"wasn\",\"instead\",\"everyone\",\"war\",\"year\",\"reason\",\"takes\",\"special\",\"said\",\"true\",\"high\",\"night\",\"book\",\"seem\",\"job\",\"play\",\"watched\",\"audience\",\"later\",\"wife\",\"black\",\"death\",\"himself\",\"star\",\"half\",\"seeing\",\"used\",\"idea\",\"dead\",\"second\",\"men\",\"left\",\"excellent\",\"simply\",\"shot\",\"else\",\"beautiful\",\"sex\",\"completely\",\"budget\",\"father\",\"women\",\"mind\",\"house\",\"hollywood\",\"poor\",\"less\",\"fan\",\"along\",\"boring\",\"performances\",\"home\",\"line\",\"help\",\"nice\",\"try\",\"couple\",\"top\",\"version\",\"until\",\"either\",\"low\",\"next\",\"camera\",\"use\",\"friends\",\"short\",\"wrong\",\"start\",\"kids\",\"given\",\"mother\",\"read\",\"need\",\"full\",\"enjoy\",\"production\",\"classic\",\"perhaps\",\"school\",\"moments\",\"truly\",\"stupid\",\"keep\",\"awful\",\"getting\",\"rest\",\"video\",\"face\",\"tell\",\"mean\",\"others\",\"itself\",\"understand\",\"boy\",\"terrible\",\"small\",\"name\",\"style\",\"came\",\"won\",\"playing\",\"recommend\",\"doing\",\"lost\",\"person\",\"definitely\",\"gives\",\"dialogue\",\"entertaining\",\"wonderful\",\"often\",\"live\",\"lines\",\"hope\",\"went\",\"stars\",\"case\",\"remember\",\"written\",\"couldn\",\"head\",\"early\",\"title\",\"yes\",\"human\",\"perfect\",\"become\",\"based\",\"friend\",\"children\",\"certainly\",\"liked\",\"problem\",\"drama\",\"son\",\"picture\",\"several\",\"fans\",\"under\",\"lead\",\"laugh\",\"oh\",\"guys\",\"humor\",\"supposed\",\"direction\",\"against\",\"absolutely\",\"overall\",\"sort\",\"piece\",\"episode\",\"finally\",\"game\",\"lives\",\"called\",\"entire\",\"evil\",\"cinema\",\"worse\",\"care\",\"waste\",\"killer\",\"dark\",\"felt\",\"beginning\",\"despite\",\"seemed\",\"genre\",\"final\",\"b\",\"totally\",\"history\",\"wanted\",\"unfortunately\",\"town\",\"throughout\",\"white\",\"city\",\"becomes\",\"able\",\"days\",\"already\",\"turn\",\"guess\",\"run\",\"fine\",\"loved\",\"act\",\"mr\",\"flick\",\"today\",\"horrible\",\"heart\",\"side\",\"hand\",\"kill\",\"tries\",\"wants\",\"starts\",\"quality\",\"killed\",\"past\",\"themselves\",\"child\",\"close\",\"matter\",\"group\",\"sound\",\"turns\",\"daughter\",\"parts\",\"viewer\",\"etc\",\"expect\",\"fight\",\"car\",\"enjoyed\",\"directed\",\"writing\",\"decent\",\"type\",\"violence\",\"stop\",\"example\",\"stuff\",\"self\",\"kid\",\"amazing\",\"behind\",\"soon\",\"blood\",\"favorite\",\"works\",\"known\",\"thinking\",\"gave\",\"obviously\",\"sometimes\",\"hero\",\"eyes\",\"actress\",\"girls\",\"michael\",\"happened\",\"brilliant\",\"stories\",\"except\",\"myself\",\"hour\",\"coming\",\"says\",\"writer\",\"late\",\"husband\",\"extremely\",\"experience\",\"hell\",\"happens\",\"art\",\"heard\",\"police\",\"took\",\"feeling\",\"roles\",\"leave\",\"highly\",\"attempt\",\"taken\",\"interest\",\"wouldn\",\"murder\",\"moment\",\"slow\",\"score\",\"god\",\"including\",\"looked\",\"obvious\",\"involved\",\"living\",\"anyway\",\"robert\",\"david\",\"cool\",\"hours\",\"save\",\"ok\",\"age\",\"voice\",\"o\",\"career\",\"told\",\"across\",\"wonder\",\"none\",\"strong\",\"cut\",\"happen\",\"please\",\"gore\",\"simple\",\"hilarious\",\"brother\",\"important\",\"exactly\",\"power\",\"chance\",\"ago\",\"james\",\"particularly\",\"relationship\",\"documentary\",\"level\",\"complete\",\"light\",\"female\",\"annoying\",\"possible\",\"serious\",\"cannot\",\"hit\",\"crap\",\"sad\",\"running\",\"lack\",\"sequel\",\"talent\",\"usually\",\"whose\",\"basically\",\"reality\",\"ends\",\"seriously\",\"strange\",\"order\",\"finds\",\"call\",\"taking\",\"somewhat\",\"room\",\"happy\",\"silly\",\"scary\",\"middle\",\"turned\",\"alone\",\"apparently\",\"ridiculous\",\"change\",\"clich\",\"country\",\"mostly\",\"attention\",\"miss\",\"four\",\"usual\",\"shown\",\"body\",\"song\",\"wish\",\"jokes\",\"number\",\"opening\",\"released\",\"disappointed\",\"word\",\"jack\",\"thriller\",\"single\",\"opinion\",\"straight\",\"future\",\"english\",\"words\",\"parents\",\"novel\",\"saying\",\"cinematography\",\"yourself\",\"view\",\"cheap\",\"started\",\"french\",\"beyond\",\"huge\",\"talking\",\"non\",\"clearly\",\"sets\",\"talk\",\"major\",\"die\",\"shots\",\"rating\",\"problems\",\"knew\",\"knows\",\"gay\",\"modern\",\"fast\",\"british\",\"due\",\"events\",\"tells\",\"add\",\"bring\",\"comic\",\"clear\",\"ones\",\"above\",\"hate\",\"storyline\",\"york\",\"easy\",\"typical\",\"entertainment\",\"aren\",\"easily\",\"haven\",\"within\",\"local\",\"upon\",\"general\",\"dialog\",\"crime\",\"ten\",\"giving\",\"george\",\"lots\",\"sequence\",\"america\",\"ways\",\"falls\",\"similar\",\"begins\",\"appears\",\"class\",\"near\",\"mystery\",\"named\",\"bunch\",\"filmed\",\"king\",\"elements\",\"romantic\",\"team\",\"certain\",\"review\",\"predictable\",\"working\",\"avoid\",\"stand\",\"de\",\"earth\",\"sorry\",\"th\",\"e\",\"television\",\"mention\",\"enjoyable\",\"supporting\",\"tale\",\"theme\",\"message\",\"points\",\"cop\",\"gone\",\"among\",\"fall\",\"space\",\"tom\",\"viewers\",\"eye\",\"red\",\"truth\",\"leads\",\"surprised\",\"stay\",\"release\",\"kept\",\"minute\",\"richard\",\"five\",\"dull\",\"killing\",\"using\",\"effort\",\"monster\",\"third\",\"brought\",\"musical\",\"feels\",\"suspense\",\"tried\",\"means\",\"whether\",\"comments\",\"sequences\",\"dog\",\"moving\",\"period\",\"peter\",\"lee\",\"needs\",\"doubt\",\"fi\",\"showing\",\"buy\",\"okay\",\"sci\",\"somehow\",\"soundtrack\",\"viewing\",\"rent\",\"herself\",\"nearly\",\"average\",\"songs\",\"theater\",\"episodes\",\"reviews\",\"whatever\",\"follow\",\"surprise\",\"feature\",\"form\",\"move\",\"forget\",\"realistic\",\"believable\",\"free\",\"material\",\"premise\",\"editing\",\"sister\",\"brothers\",\"deep\",\"imagine\",\"gun\",\"forced\",\"famous\",\"poorly\",\"deal\",\"crew\",\"western\",\"indeed\",\"expected\",\"check\",\"possibly\",\"fantastic\",\"lame\",\"society\",\"figure\",\"otherwise\",\"dr\",\"learn\",\"open\",\"paul\",\"eventually\",\"plus\",\"lady\",\"weak\",\"hear\",\"stage\",\"sexual\",\"leaves\",\"question\",\"note\",\"difficult\",\"sit\",\"towards\",\"romance\",\"box\",\"situation\",\"begin\",\"earlier\",\"personal\",\"atmosphere\",\"reading\",\"male\",\"screenplay\",\"wait\",\"decided\",\"joe\",\"battle\",\"interested\",\"powerful\",\"previous\",\"business\",\"greatest\",\"nor\",\"hot\",\"actual\",\"cheesy\",\"became\",\"acted\",\"worked\",\"animation\",\"subject\",\"island\",\"effect\",\"footage\",\"mess\",\"era\",\"oscar\",\"result\",\"meet\",\"rock\",\"credits\",\"features\",\"particular\",\"memorable\",\"whom\",\"boys\",\"air\",\"setting\",\"perfectly\",\"writers\",\"laughs\",\"street\",\"shame\",\"quickly\",\"rich\",\"older\",\"hands\",\"background\",\"keeps\",\"twist\",\"dramatic\",\"bill\",\"total\",\"present\",\"various\",\"appear\",\"pay\",\"telling\",\"directing\",\"william\",\"party\",\"alien\",\"unless\",\"crazy\",\"harry\",\"mark\",\"badly\",\"realize\",\"girlfriend\",\"forward\",\"front\",\"needed\",\"comment\",\"emotional\",\"imdb\",\"development\",\"fighting\",\"secret\",\"break\",\"fairly\",\"unique\",\"c\",\"baby\",\"outside\",\"married\",\"manages\",\"plenty\",\"villain\",\"apart\",\"missing\",\"masterpiece\",\"nature\",\"brings\",\"remake\",\"write\",\"former\",\"superb\",\"weird\",\"doctor\",\"clever\",\"escape\",\"list\",\"incredibly\",\"meets\",\"reasons\",\"hold\",\"created\",\"sounds\",\"sam\",\"inside\",\"unlike\",\"leading\",\"laughing\",\"ideas\",\"japanese\",\"season\",\"prison\",\"directors\",\"copy\",\"cute\",\"public\",\"return\",\"political\",\"violent\",\"success\",\"force\",\"create\",\"caught\",\"admit\",\"meant\",\"water\"],\"x1\":{\"__ndarray__\":\"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\",\"dtype\":\"float32\",\"order\":\"little\",\"shape\":[1000]},\"x2\":{\"__ndarray__\":\"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\",\"dtype\":\"float32\",\"order\":\"little\",\"shape\":[1000]}},\"selected\":{\"id\":\"1045\"},\"selection_policy\":{\"id\":\"1046\"}},\"id\":\"1030\",\"type\":\"ColumnDataSource\"},{\"attributes\":{\"axis\":{\"id\":\"1017\"},\"dimension\":1,\"ticker\":null},\"id\":\"1020\",\"type\":\"Grid\"},{\"attributes\":{},\"id\":\"1040\",\"type\":\"AllLabels\"},{\"attributes\":{\"source\":{\"id\":\"1030\"}},\"id\":\"1035\",\"type\":\"CDSView\"},{\"attributes\":{\"data_source\":{\"id\":\"1030\"},\"glyph\":{\"id\":\"1032\"},\"hover_glyph\":null,\"muted_glyph\":null,\"nonselection_glyph\":{\"id\":\"1033\"},\"view\":{\"id\":\"1035\"}},\"id\":\"1034\",\"type\":\"GlyphRenderer\"},{\"attributes\":{},\"id\":\"1022\",\"type\":\"WheelZoomTool\"},{\"attributes\":{\"source\":{\"id\":\"1030\"},\"text\":{\"field\":\"names\"},\"text_align\":{\"value\":\"center\"},\"text_color\":{\"value\":\"#555555\"},\"text_font_size\":{\"value\":\"8pt\"},\"x\":{\"field\":\"x1\"},\"y\":{\"field\":\"x2\"},\"y_offset\":{\"value\":6}},\"id\":\"1036\",\"type\":\"LabelSet\"},{\"attributes\":{},\"id\":\"1023\",\"type\":\"ResetTool\"},{\"attributes\":{\"fill_alpha\":{\"value\":0.1},\"fill_color\":{\"value\":\"#1f77b4\"},\"line_alpha\":{\"value\":0.1},\"line_color\":{\"value\":\"#1f77b4\"},\"size\":{\"value\":8},\"x\":{\"field\":\"x1\"},\"y\":{\"field\":\"x2\"}},\"id\":\"1033\",\"type\":\"Scatter\"},{\"attributes\":{},\"id\":\"1024\",\"type\":\"SaveTool\"},{\"attributes\":{},\"id\":\"1045\",\"type\":\"Selection\"},{\"attributes\":{\"active_multi\":null,\"tools\":[{\"id\":\"1021\"},{\"id\":\"1022\"},{\"id\":\"1023\"},{\"id\":\"1024\"}]},\"id\":\"1025\",\"type\":\"Toolbar\"},{\"attributes\":{},\"id\":\"1009\",\"type\":\"LinearScale\"},{\"attributes\":{},\"id\":\"1039\",\"type\":\"BasicTickFormatter\"}],\"root_ids\":[\"1002\"]},\"title\":\"Bokeh Application\",\"version\":\"2.3.3\"}};\n",
              "  var render_items = [{\"docid\":\"eb032613-7789-44d7-b3f3-80dfd757bc61\",\"root_ids\":[\"1002\"],\"roots\":{\"1002\":\"bd898634-b100-443c-90c5-a480ac4cbeb2\"}}];\n",
              "  root.Bokeh.embed.embed_items_notebook(docs_json, render_items);\n",
              "\n",
              "  }\n",
              "  if (root.Bokeh !== undefined) {\n",
              "    embed_document(root);\n",
              "  } else {\n",
              "    var attempts = 0;\n",
              "    var timer = setInterval(function(root) {\n",
              "      if (root.Bokeh !== undefined) {\n",
              "        clearInterval(timer);\n",
              "        embed_document(root);\n",
              "      } else {\n",
              "        attempts++;\n",
              "        if (attempts > 100) {\n",
              "          clearInterval(timer);\n",
              "          console.log(\"Bokeh: ERROR: Unable to run BokehJS code because BokehJS library is missing\");\n",
              "        }\n",
              "      }\n",
              "    }, 10, root)\n",
              "  }\n",
              "})(window);"
            ],
            "application/vnd.bokehjs_exec.v0+json": ""
          },
          "metadata": {
            "application/vnd.bokehjs_exec.v0+json": {
              "id": "1002"
            }
          }
        }
      ]
    },
    {
      "cell_type": "markdown",
      "metadata": {
        "id": "2Szes63RX-sl"
      },
      "source": [
        "Чтобы вычислить преобразование t-SNE быстрее (и иногда еще и эффективнее), можно сперва снизить размерность исходных данных с помощью, например, SVD, и потом применять t-SNE:"
      ]
    },
    {
      "cell_type": "code",
      "metadata": {
        "id": "p0R7hvIfX-sm",
        "colab": {
          "base_uri": "https://localhost:8080/"
        },
        "outputId": "7b16df03-94f8-4c49-c2d1-3eceabbde374"
      },
      "source": [
        "from sklearn.decomposition import TruncatedSVD\n",
        "\n",
        "svd_50 = TruncatedSVD(n_components=50)\n",
        "top_words_vec_50 = svd_50.fit_transform(top_words_vec)\n",
        "top_words_tsne2 = TSNE(n_components=2, random_state=0).fit_transform(top_words_vec_50)"
      ],
      "execution_count": null,
      "outputs": [
        {
          "output_type": "stream",
          "name": "stderr",
          "text": [
            "/usr/local/lib/python3.7/dist-packages/sklearn/manifold/_t_sne.py:783: FutureWarning: The default initialization in TSNE will change from 'random' to 'pca' in 1.2.\n",
            "  FutureWarning,\n",
            "/usr/local/lib/python3.7/dist-packages/sklearn/manifold/_t_sne.py:793: FutureWarning: The default learning rate in TSNE will change from 200.0 to 'auto' in 1.2.\n",
            "  FutureWarning,\n"
          ]
        }
      ]
    },
    {
      "cell_type": "code",
      "metadata": {
        "id": "zpUJyJibX-sn",
        "colab": {
          "base_uri": "https://localhost:8080/",
          "height": 617
        },
        "outputId": "fa052b9c-8a58-4a01-90cc-4b2d9a61810a"
      },
      "source": [
        "output_notebook()\n",
        "\n",
        "p = figure(tools=\"pan,wheel_zoom,reset,save\",\n",
        "           toolbar_location=\"above\",\n",
        "           title=\"word2vec T-SNE (eng model, top1000 words, +SVD)\")\n",
        "\n",
        "source = ColumnDataSource(data=dict(x1=top_words_tsne2[:,0],\n",
        "                                    x2=top_words_tsne2[:,1],\n",
        "                                    names=top_words))\n",
        "\n",
        "p.scatter(x=\"x1\", y=\"x2\", size=8, source=source)\n",
        "\n",
        "labels = LabelSet(x=\"x1\", y=\"x2\", text=\"names\", y_offset=6,\n",
        "                  text_font_size=\"8pt\", text_color=\"#555555\",\n",
        "                  source=source, text_align='center')\n",
        "p.add_layout(labels)\n",
        "\n",
        "show(p)"
      ],
      "execution_count": null,
      "outputs": [
        {
          "output_type": "display_data",
          "data": {
            "application/javascript": [
              "\n",
              "(function(root) {\n",
              "  function now() {\n",
              "    return new Date();\n",
              "  }\n",
              "\n",
              "  var force = true;\n",
              "\n",
              "  if (typeof root._bokeh_onload_callbacks === \"undefined\" || force === true) {\n",
              "    root._bokeh_onload_callbacks = [];\n",
              "    root._bokeh_is_loading = undefined;\n",
              "  }\n",
              "\n",
              "  var JS_MIME_TYPE = 'application/javascript';\n",
              "  var HTML_MIME_TYPE = 'text/html';\n",
              "  var EXEC_MIME_TYPE = 'application/vnd.bokehjs_exec.v0+json';\n",
              "  var CLASS_NAME = 'output_bokeh rendered_html';\n",
              "\n",
              "  /**\n",
              "   * Render data to the DOM node\n",
              "   */\n",
              "  function render(props, node) {\n",
              "    var script = document.createElement(\"script\");\n",
              "    node.appendChild(script);\n",
              "  }\n",
              "\n",
              "  /**\n",
              "   * Handle when an output is cleared or removed\n",
              "   */\n",
              "  function handleClearOutput(event, handle) {\n",
              "    var cell = handle.cell;\n",
              "\n",
              "    var id = cell.output_area._bokeh_element_id;\n",
              "    var server_id = cell.output_area._bokeh_server_id;\n",
              "    // Clean up Bokeh references\n",
              "    if (id != null && id in Bokeh.index) {\n",
              "      Bokeh.index[id].model.document.clear();\n",
              "      delete Bokeh.index[id];\n",
              "    }\n",
              "\n",
              "    if (server_id !== undefined) {\n",
              "      // Clean up Bokeh references\n",
              "      var cmd = \"from bokeh.io.state import curstate; print(curstate().uuid_to_server['\" + server_id + \"'].get_sessions()[0].document.roots[0]._id)\";\n",
              "      cell.notebook.kernel.execute(cmd, {\n",
              "        iopub: {\n",
              "          output: function(msg) {\n",
              "            var id = msg.content.text.trim();\n",
              "            if (id in Bokeh.index) {\n",
              "              Bokeh.index[id].model.document.clear();\n",
              "              delete Bokeh.index[id];\n",
              "            }\n",
              "          }\n",
              "        }\n",
              "      });\n",
              "      // Destroy server and session\n",
              "      var cmd = \"import bokeh.io.notebook as ion; ion.destroy_server('\" + server_id + \"')\";\n",
              "      cell.notebook.kernel.execute(cmd);\n",
              "    }\n",
              "  }\n",
              "\n",
              "  /**\n",
              "   * Handle when a new output is added\n",
              "   */\n",
              "  function handleAddOutput(event, handle) {\n",
              "    var output_area = handle.output_area;\n",
              "    var output = handle.output;\n",
              "\n",
              "    // limit handleAddOutput to display_data with EXEC_MIME_TYPE content only\n",
              "    if ((output.output_type != \"display_data\") || (!Object.prototype.hasOwnProperty.call(output.data, EXEC_MIME_TYPE))) {\n",
              "      return\n",
              "    }\n",
              "\n",
              "    var toinsert = output_area.element.find(\".\" + CLASS_NAME.split(' ')[0]);\n",
              "\n",
              "    if (output.metadata[EXEC_MIME_TYPE][\"id\"] !== undefined) {\n",
              "      toinsert[toinsert.length - 1].firstChild.textContent = output.data[JS_MIME_TYPE];\n",
              "      // store reference to embed id on output_area\n",
              "      output_area._bokeh_element_id = output.metadata[EXEC_MIME_TYPE][\"id\"];\n",
              "    }\n",
              "    if (output.metadata[EXEC_MIME_TYPE][\"server_id\"] !== undefined) {\n",
              "      var bk_div = document.createElement(\"div\");\n",
              "      bk_div.innerHTML = output.data[HTML_MIME_TYPE];\n",
              "      var script_attrs = bk_div.children[0].attributes;\n",
              "      for (var i = 0; i < script_attrs.length; i++) {\n",
              "        toinsert[toinsert.length - 1].firstChild.setAttribute(script_attrs[i].name, script_attrs[i].value);\n",
              "        toinsert[toinsert.length - 1].firstChild.textContent = bk_div.children[0].textContent\n",
              "      }\n",
              "      // store reference to server id on output_area\n",
              "      output_area._bokeh_server_id = output.metadata[EXEC_MIME_TYPE][\"server_id\"];\n",
              "    }\n",
              "  }\n",
              "\n",
              "  function register_renderer(events, OutputArea) {\n",
              "\n",
              "    function append_mime(data, metadata, element) {\n",
              "      // create a DOM node to render to\n",
              "      var toinsert = this.create_output_subarea(\n",
              "        metadata,\n",
              "        CLASS_NAME,\n",
              "        EXEC_MIME_TYPE\n",
              "      );\n",
              "      this.keyboard_manager.register_events(toinsert);\n",
              "      // Render to node\n",
              "      var props = {data: data, metadata: metadata[EXEC_MIME_TYPE]};\n",
              "      render(props, toinsert[toinsert.length - 1]);\n",
              "      element.append(toinsert);\n",
              "      return toinsert\n",
              "    }\n",
              "\n",
              "    /* Handle when an output is cleared or removed */\n",
              "    events.on('clear_output.CodeCell', handleClearOutput);\n",
              "    events.on('delete.Cell', handleClearOutput);\n",
              "\n",
              "    /* Handle when a new output is added */\n",
              "    events.on('output_added.OutputArea', handleAddOutput);\n",
              "\n",
              "    /**\n",
              "     * Register the mime type and append_mime function with output_area\n",
              "     */\n",
              "    OutputArea.prototype.register_mime_type(EXEC_MIME_TYPE, append_mime, {\n",
              "      /* Is output safe? */\n",
              "      safe: true,\n",
              "      /* Index of renderer in `output_area.display_order` */\n",
              "      index: 0\n",
              "    });\n",
              "  }\n",
              "\n",
              "  // register the mime type if in Jupyter Notebook environment and previously unregistered\n",
              "  if (root.Jupyter !== undefined) {\n",
              "    var events = require('base/js/events');\n",
              "    var OutputArea = require('notebook/js/outputarea').OutputArea;\n",
              "\n",
              "    if (OutputArea.prototype.mime_types().indexOf(EXEC_MIME_TYPE) == -1) {\n",
              "      register_renderer(events, OutputArea);\n",
              "    }\n",
              "  }\n",
              "\n",
              "  \n",
              "  if (typeof (root._bokeh_timeout) === \"undefined\" || force === true) {\n",
              "    root._bokeh_timeout = Date.now() + 5000;\n",
              "    root._bokeh_failed_load = false;\n",
              "  }\n",
              "\n",
              "  var NB_LOAD_WARNING = {'data': {'text/html':\n",
              "     \"<div style='background-color: #fdd'>\\n\"+\n",
              "     \"<p>\\n\"+\n",
              "     \"BokehJS does not appear to have successfully loaded. If loading BokehJS from CDN, this \\n\"+\n",
              "     \"may be due to a slow or bad network connection. Possible fixes:\\n\"+\n",
              "     \"</p>\\n\"+\n",
              "     \"<ul>\\n\"+\n",
              "     \"<li>re-rerun `output_notebook()` to attempt to load from CDN again, or</li>\\n\"+\n",
              "     \"<li>use INLINE resources instead, as so:</li>\\n\"+\n",
              "     \"</ul>\\n\"+\n",
              "     \"<code>\\n\"+\n",
              "     \"from bokeh.resources import INLINE\\n\"+\n",
              "     \"output_notebook(resources=INLINE)\\n\"+\n",
              "     \"</code>\\n\"+\n",
              "     \"</div>\"}};\n",
              "\n",
              "  function display_loaded() {\n",
              "    var el = document.getElementById(null);\n",
              "    if (el != null) {\n",
              "      el.textContent = \"BokehJS is loading...\";\n",
              "    }\n",
              "    if (root.Bokeh !== undefined) {\n",
              "      if (el != null) {\n",
              "        el.textContent = \"BokehJS \" + root.Bokeh.version + \" successfully loaded.\";\n",
              "      }\n",
              "    } else if (Date.now() < root._bokeh_timeout) {\n",
              "      setTimeout(display_loaded, 100)\n",
              "    }\n",
              "  }\n",
              "\n",
              "\n",
              "  function run_callbacks() {\n",
              "    try {\n",
              "      root._bokeh_onload_callbacks.forEach(function(callback) {\n",
              "        if (callback != null)\n",
              "          callback();\n",
              "      });\n",
              "    } finally {\n",
              "      delete root._bokeh_onload_callbacks\n",
              "    }\n",
              "    console.debug(\"Bokeh: all callbacks have finished\");\n",
              "  }\n",
              "\n",
              "  function load_libs(css_urls, js_urls, callback) {\n",
              "    if (css_urls == null) css_urls = [];\n",
              "    if (js_urls == null) js_urls = [];\n",
              "\n",
              "    root._bokeh_onload_callbacks.push(callback);\n",
              "    if (root._bokeh_is_loading > 0) {\n",
              "      console.debug(\"Bokeh: BokehJS is being loaded, scheduling callback at\", now());\n",
              "      return null;\n",
              "    }\n",
              "    if (js_urls == null || js_urls.length === 0) {\n",
              "      run_callbacks();\n",
              "      return null;\n",
              "    }\n",
              "    console.debug(\"Bokeh: BokehJS not loaded, scheduling load and callback at\", now());\n",
              "    root._bokeh_is_loading = css_urls.length + js_urls.length;\n",
              "\n",
              "    function on_load() {\n",
              "      root._bokeh_is_loading--;\n",
              "      if (root._bokeh_is_loading === 0) {\n",
              "        console.debug(\"Bokeh: all BokehJS libraries/stylesheets loaded\");\n",
              "        run_callbacks()\n",
              "      }\n",
              "    }\n",
              "\n",
              "    function on_error(url) {\n",
              "      console.error(\"failed to load \" + url);\n",
              "    }\n",
              "\n",
              "    for (let i = 0; i < css_urls.length; i++) {\n",
              "      const url = css_urls[i];\n",
              "      const element = document.createElement(\"link\");\n",
              "      element.onload = on_load;\n",
              "      element.onerror = on_error.bind(null, url);\n",
              "      element.rel = \"stylesheet\";\n",
              "      element.type = \"text/css\";\n",
              "      element.href = url;\n",
              "      console.debug(\"Bokeh: injecting link tag for BokehJS stylesheet: \", url);\n",
              "      document.body.appendChild(element);\n",
              "    }\n",
              "\n",
              "    const hashes = {\"https://cdn.bokeh.org/bokeh/release/bokeh-2.3.3.min.js\": \"dM3QQsP+wXdHg42wTqW85BjZQdLNNIXqlPw/BgKoExPmTG7ZLML4EGqLMfqHT6ON\", \"https://cdn.bokeh.org/bokeh/release/bokeh-tables-2.3.3.min.js\": \"8x57I4YuIfu8XyZfFo0XVr2WAT8EK4rh/uDe3wF7YuW2FNUSNEpJbsPaB1nJ2fz2\", \"https://cdn.bokeh.org/bokeh/release/bokeh-widgets-2.3.3.min.js\": \"3QTqdz9LyAm2i0sG5XTePsHec3UHWwVsrOL68SYRoAXsafvfAyqtQ+h440+qIBhS\"};\n",
              "\n",
              "    for (let i = 0; i < js_urls.length; i++) {\n",
              "      const url = js_urls[i];\n",
              "      const element = document.createElement('script');\n",
              "      element.onload = on_load;\n",
              "      element.onerror = on_error.bind(null, url);\n",
              "      element.async = false;\n",
              "      element.src = url;\n",
              "      if (url in hashes) {\n",
              "        element.crossOrigin = \"anonymous\";\n",
              "        element.integrity = \"sha384-\" + hashes[url];\n",
              "      }\n",
              "      console.debug(\"Bokeh: injecting script tag for BokehJS library: \", url);\n",
              "      document.head.appendChild(element);\n",
              "    }\n",
              "  };\n",
              "\n",
              "  function inject_raw_css(css) {\n",
              "    const element = document.createElement(\"style\");\n",
              "    element.appendChild(document.createTextNode(css));\n",
              "    document.body.appendChild(element);\n",
              "  }\n",
              "\n",
              "  \n",
              "  var js_urls = [\"https://cdn.bokeh.org/bokeh/release/bokeh-2.3.3.min.js\", \"https://cdn.bokeh.org/bokeh/release/bokeh-widgets-2.3.3.min.js\", \"https://cdn.bokeh.org/bokeh/release/bokeh-tables-2.3.3.min.js\"];\n",
              "  var css_urls = [];\n",
              "  \n",
              "\n",
              "  var inline_js = [\n",
              "    function(Bokeh) {\n",
              "      Bokeh.set_log_level(\"info\");\n",
              "    },\n",
              "    function(Bokeh) {\n",
              "    \n",
              "    \n",
              "    }\n",
              "  ];\n",
              "\n",
              "  function run_inline_js() {\n",
              "    \n",
              "    if (root.Bokeh !== undefined || force === true) {\n",
              "      \n",
              "    for (var i = 0; i < inline_js.length; i++) {\n",
              "      inline_js[i].call(root, root.Bokeh);\n",
              "    }\n",
              "    } else if (Date.now() < root._bokeh_timeout) {\n",
              "      setTimeout(run_inline_js, 100);\n",
              "    } else if (!root._bokeh_failed_load) {\n",
              "      console.log(\"Bokeh: BokehJS failed to load within specified timeout.\");\n",
              "      root._bokeh_failed_load = true;\n",
              "    } else if (force !== true) {\n",
              "      var cell = $(document.getElementById(null)).parents('.cell').data().cell;\n",
              "      cell.output_area.append_execute_result(NB_LOAD_WARNING)\n",
              "    }\n",
              "\n",
              "  }\n",
              "\n",
              "  if (root._bokeh_is_loading === 0) {\n",
              "    console.debug(\"Bokeh: BokehJS loaded, going straight to plotting\");\n",
              "    run_inline_js();\n",
              "  } else {\n",
              "    load_libs(css_urls, js_urls, function() {\n",
              "      console.debug(\"Bokeh: BokehJS plotting callback run at\", now());\n",
              "      run_inline_js();\n",
              "    });\n",
              "  }\n",
              "}(window));"
            ],
            "application/vnd.bokehjs_load.v0+json": "\n(function(root) {\n  function now() {\n    return new Date();\n  }\n\n  var force = true;\n\n  if (typeof root._bokeh_onload_callbacks === \"undefined\" || force === true) {\n    root._bokeh_onload_callbacks = [];\n    root._bokeh_is_loading = undefined;\n  }\n\n  \n\n  \n  if (typeof (root._bokeh_timeout) === \"undefined\" || force === true) {\n    root._bokeh_timeout = Date.now() + 5000;\n    root._bokeh_failed_load = false;\n  }\n\n  var NB_LOAD_WARNING = {'data': {'text/html':\n     \"<div style='background-color: #fdd'>\\n\"+\n     \"<p>\\n\"+\n     \"BokehJS does not appear to have successfully loaded. If loading BokehJS from CDN, this \\n\"+\n     \"may be due to a slow or bad network connection. Possible fixes:\\n\"+\n     \"</p>\\n\"+\n     \"<ul>\\n\"+\n     \"<li>re-rerun `output_notebook()` to attempt to load from CDN again, or</li>\\n\"+\n     \"<li>use INLINE resources instead, as so:</li>\\n\"+\n     \"</ul>\\n\"+\n     \"<code>\\n\"+\n     \"from bokeh.resources import INLINE\\n\"+\n     \"output_notebook(resources=INLINE)\\n\"+\n     \"</code>\\n\"+\n     \"</div>\"}};\n\n  function display_loaded() {\n    var el = document.getElementById(null);\n    if (el != null) {\n      el.textContent = \"BokehJS is loading...\";\n    }\n    if (root.Bokeh !== undefined) {\n      if (el != null) {\n        el.textContent = \"BokehJS \" + root.Bokeh.version + \" successfully loaded.\";\n      }\n    } else if (Date.now() < root._bokeh_timeout) {\n      setTimeout(display_loaded, 100)\n    }\n  }\n\n\n  function run_callbacks() {\n    try {\n      root._bokeh_onload_callbacks.forEach(function(callback) {\n        if (callback != null)\n          callback();\n      });\n    } finally {\n      delete root._bokeh_onload_callbacks\n    }\n    console.debug(\"Bokeh: all callbacks have finished\");\n  }\n\n  function load_libs(css_urls, js_urls, callback) {\n    if (css_urls == null) css_urls = [];\n    if (js_urls == null) js_urls = [];\n\n    root._bokeh_onload_callbacks.push(callback);\n    if (root._bokeh_is_loading > 0) {\n      console.debug(\"Bokeh: BokehJS is being loaded, scheduling callback at\", now());\n      return null;\n    }\n    if (js_urls == null || js_urls.length === 0) {\n      run_callbacks();\n      return null;\n    }\n    console.debug(\"Bokeh: BokehJS not loaded, scheduling load and callback at\", now());\n    root._bokeh_is_loading = css_urls.length + js_urls.length;\n\n    function on_load() {\n      root._bokeh_is_loading--;\n      if (root._bokeh_is_loading === 0) {\n        console.debug(\"Bokeh: all BokehJS libraries/stylesheets loaded\");\n        run_callbacks()\n      }\n    }\n\n    function on_error(url) {\n      console.error(\"failed to load \" + url);\n    }\n\n    for (let i = 0; i < css_urls.length; i++) {\n      const url = css_urls[i];\n      const element = document.createElement(\"link\");\n      element.onload = on_load;\n      element.onerror = on_error.bind(null, url);\n      element.rel = \"stylesheet\";\n      element.type = \"text/css\";\n      element.href = url;\n      console.debug(\"Bokeh: injecting link tag for BokehJS stylesheet: \", url);\n      document.body.appendChild(element);\n    }\n\n    const hashes = {\"https://cdn.bokeh.org/bokeh/release/bokeh-2.3.3.min.js\": \"dM3QQsP+wXdHg42wTqW85BjZQdLNNIXqlPw/BgKoExPmTG7ZLML4EGqLMfqHT6ON\", \"https://cdn.bokeh.org/bokeh/release/bokeh-tables-2.3.3.min.js\": \"8x57I4YuIfu8XyZfFo0XVr2WAT8EK4rh/uDe3wF7YuW2FNUSNEpJbsPaB1nJ2fz2\", \"https://cdn.bokeh.org/bokeh/release/bokeh-widgets-2.3.3.min.js\": \"3QTqdz9LyAm2i0sG5XTePsHec3UHWwVsrOL68SYRoAXsafvfAyqtQ+h440+qIBhS\"};\n\n    for (let i = 0; i < js_urls.length; i++) {\n      const url = js_urls[i];\n      const element = document.createElement('script');\n      element.onload = on_load;\n      element.onerror = on_error.bind(null, url);\n      element.async = false;\n      element.src = url;\n      if (url in hashes) {\n        element.crossOrigin = \"anonymous\";\n        element.integrity = \"sha384-\" + hashes[url];\n      }\n      console.debug(\"Bokeh: injecting script tag for BokehJS library: \", url);\n      document.head.appendChild(element);\n    }\n  };\n\n  function inject_raw_css(css) {\n    const element = document.createElement(\"style\");\n    element.appendChild(document.createTextNode(css));\n    document.body.appendChild(element);\n  }\n\n  \n  var js_urls = [\"https://cdn.bokeh.org/bokeh/release/bokeh-2.3.3.min.js\", \"https://cdn.bokeh.org/bokeh/release/bokeh-widgets-2.3.3.min.js\", \"https://cdn.bokeh.org/bokeh/release/bokeh-tables-2.3.3.min.js\"];\n  var css_urls = [];\n  \n\n  var inline_js = [\n    function(Bokeh) {\n      Bokeh.set_log_level(\"info\");\n    },\n    function(Bokeh) {\n    \n    \n    }\n  ];\n\n  function run_inline_js() {\n    \n    if (root.Bokeh !== undefined || force === true) {\n      \n    for (var i = 0; i < inline_js.length; i++) {\n      inline_js[i].call(root, root.Bokeh);\n    }\n    } else if (Date.now() < root._bokeh_timeout) {\n      setTimeout(run_inline_js, 100);\n    } else if (!root._bokeh_failed_load) {\n      console.log(\"Bokeh: BokehJS failed to load within specified timeout.\");\n      root._bokeh_failed_load = true;\n    } else if (force !== true) {\n      var cell = $(document.getElementById(null)).parents('.cell').data().cell;\n      cell.output_area.append_execute_result(NB_LOAD_WARNING)\n    }\n\n  }\n\n  if (root._bokeh_is_loading === 0) {\n    console.debug(\"Bokeh: BokehJS loaded, going straight to plotting\");\n    run_inline_js();\n  } else {\n    load_libs(css_urls, js_urls, function() {\n      console.debug(\"Bokeh: BokehJS plotting callback run at\", now());\n      run_inline_js();\n    });\n  }\n}(window));"
          },
          "metadata": {}
        },
        {
          "output_type": "display_data",
          "data": {
            "text/html": [
              "\n",
              "\n",
              "\n",
              "\n",
              "\n",
              "\n",
              "  <div class=\"bk-root\" id=\"f8a53117-4a9e-4e62-a1de-8fe33ba6603e\" data-root-id=\"1092\"></div>\n"
            ]
          },
          "metadata": {}
        },
        {
          "output_type": "display_data",
          "data": {
            "application/javascript": [
              "(function(root) {\n",
              "  function embed_document(root) {\n",
              "    \n",
              "  var docs_json = {\"64045a08-c903-4cee-a850-cad2e8374ead\":{\"defs\":[],\"roots\":{\"references\":[{\"attributes\":{\"below\":[{\"id\":\"1103\"}],\"center\":[{\"id\":\"1106\"},{\"id\":\"1110\"},{\"id\":\"1126\"}],\"left\":[{\"id\":\"1107\"}],\"renderers\":[{\"id\":\"1124\"}],\"title\":{\"id\":\"1093\"},\"toolbar\":{\"id\":\"1115\"},\"toolbar_location\":\"above\",\"x_range\":{\"id\":\"1095\"},\"x_scale\":{\"id\":\"1099\"},\"y_range\":{\"id\":\"1097\"},\"y_scale\":{\"id\":\"1101\"}},\"id\":\"1092\",\"subtype\":\"Figure\",\"type\":\"Plot\"},{\"attributes\":{},\"id\":\"1099\",\"type\":\"LinearScale\"},{\"attributes\":{},\"id\":\"1139\",\"type\":\"AllLabels\"},{\"attributes\":{\"formatter\":{\"id\":\"1138\"},\"major_label_policy\":{\"id\":\"1139\"},\"ticker\":{\"id\":\"1104\"}},\"id\":\"1103\",\"type\":\"LinearAxis\"},{\"attributes\":{\"axis\":{\"id\":\"1107\"},\"dimension\":1,\"ticker\":null},\"id\":\"1110\",\"type\":\"Grid\"},{\"attributes\":{},\"id\":\"1144\",\"type\":\"Selection\"},{\"attributes\":{},\"id\":\"1145\",\"type\":\"UnionRenderers\"},{\"attributes\":{\"axis\":{\"id\":\"1103\"},\"ticker\":null},\"id\":\"1106\",\"type\":\"Grid\"},{\"attributes\":{\"active_multi\":null,\"tools\":[{\"id\":\"1111\"},{\"id\":\"1112\"},{\"id\":\"1113\"},{\"id\":\"1114\"}]},\"id\":\"1115\",\"type\":\"Toolbar\"},{\"attributes\":{},\"id\":\"1112\",\"type\":\"WheelZoomTool\"},{\"attributes\":{},\"id\":\"1104\",\"type\":\"BasicTicker\"},{\"attributes\":{},\"id\":\"1111\",\"type\":\"PanTool\"},{\"attributes\":{\"data_source\":{\"id\":\"1120\"},\"glyph\":{\"id\":\"1122\"},\"hover_glyph\":null,\"muted_glyph\":null,\"nonselection_glyph\":{\"id\":\"1123\"},\"view\":{\"id\":\"1125\"}},\"id\":\"1124\",\"type\":\"GlyphRenderer\"},{\"attributes\":{\"source\":{\"id\":\"1120\"}},\"id\":\"1125\",\"type\":\"CDSView\"},{\"attributes\":{\"fill_color\":{\"value\":\"#1f77b4\"},\"line_color\":{\"value\":\"#1f77b4\"},\"size\":{\"value\":8},\"x\":{\"field\":\"x1\"},\"y\":{\"field\":\"x2\"}},\"id\":\"1122\",\"type\":\"Scatter\"},{\"attributes\":{},\"id\":\"1113\",\"type\":\"ResetTool\"},{\"attributes\":{},\"id\":\"1138\",\"type\":\"BasicTickFormatter\"},{\"attributes\":{},\"id\":\"1141\",\"type\":\"BasicTickFormatter\"},{\"attributes\":{},\"id\":\"1114\",\"type\":\"SaveTool\"},{\"attributes\":{},\"id\":\"1142\",\"type\":\"AllLabels\"},{\"attributes\":{},\"id\":\"1095\",\"type\":\"DataRange1d\"},{\"attributes\":{\"source\":{\"id\":\"1120\"},\"text\":{\"field\":\"names\"},\"text_align\":{\"value\":\"center\"},\"text_color\":{\"value\":\"#555555\"},\"text_font_size\":{\"value\":\"8pt\"},\"x\":{\"field\":\"x1\"},\"y\":{\"field\":\"x2\"},\"y_offset\":{\"value\":6}},\"id\":\"1126\",\"type\":\"LabelSet\"},{\"attributes\":{},\"id\":\"1108\",\"type\":\"BasicTicker\"},{\"attributes\":{},\"id\":\"1101\",\"type\":\"LinearScale\"},{\"attributes\":{\"formatter\":{\"id\":\"1141\"},\"major_label_policy\":{\"id\":\"1142\"},\"ticker\":{\"id\":\"1108\"}},\"id\":\"1107\",\"type\":\"LinearAxis\"},{\"attributes\":{\"fill_alpha\":{\"value\":0.1},\"fill_color\":{\"value\":\"#1f77b4\"},\"line_alpha\":{\"value\":0.1},\"line_color\":{\"value\":\"#1f77b4\"},\"size\":{\"value\":8},\"x\":{\"field\":\"x1\"},\"y\":{\"field\":\"x2\"}},\"id\":\"1123\",\"type\":\"Scatter\"},{\"attributes\":{\"text\":\"word2vec T-SNE (eng model, top1000 words, +SVD)\"},\"id\":\"1093\",\"type\":\"Title\"},{\"attributes\":{\"data\":{\"names\":[\"the\",\"and\",\"a\",\"of\",\"to\",\"is\",\"it\",\"in\",\"i\",\"this\",\"that\",\"s\",\"was\",\"as\",\"with\",\"for\",\"movie\",\"but\",\"film\",\"you\",\"t\",\"on\",\"not\",\"he\",\"are\",\"his\",\"have\",\"be\",\"one\",\"all\",\"they\",\"at\",\"by\",\"who\",\"an\",\"from\",\"so\",\"like\",\"there\",\"or\",\"her\",\"just\",\"about\",\"out\",\"has\",\"if\",\"what\",\"some\",\"good\",\"can\",\"when\",\"more\",\"very\",\"she\",\"up\",\"no\",\"time\",\"even\",\"would\",\"their\",\"my\",\"which\",\"story\",\"only\",\"really\",\"see\",\"had\",\"were\",\"well\",\"me\",\"we\",\"than\",\"much\",\"bad\",\"been\",\"get\",\"people\",\"great\",\"into\",\"also\",\"do\",\"other\",\"first\",\"will\",\"him\",\"because\",\"most\",\"how\",\"don\",\"them\",\"make\",\"its\",\"made\",\"way\",\"could\",\"then\",\"too\",\"movies\",\"after\",\"any\",\"characters\",\"character\",\"films\",\"two\",\"think\",\"watch\",\"being\",\"plot\",\"many\",\"where\",\"never\",\"love\",\"seen\",\"little\",\"life\",\"acting\",\"best\",\"did\",\"off\",\"know\",\"over\",\"ever\",\"does\",\"show\",\"better\",\"man\",\"your\",\"end\",\"here\",\"scene\",\"while\",\"these\",\"why\",\"still\",\"scenes\",\"something\",\"say\",\"go\",\"m\",\"ve\",\"should\",\"back\",\"such\",\"real\",\"through\",\"those\",\"now\",\"re\",\"doesn\",\"watching\",\"thing\",\"director\",\"funny\",\"though\",\"years\",\"didn\",\"another\",\"actors\",\"new\",\"going\",\"old\",\"makes\",\"nothing\",\"actually\",\"before\",\"work\",\"look\",\"same\",\"find\",\"lot\",\"part\",\"few\",\"every\",\"again\",\"world\",\"action\",\"cast\",\"horror\",\"things\",\"us\",\"quite\",\"want\",\"down\",\"pretty\",\"young\",\"fact\",\"around\",\"seems\",\"enough\",\"both\",\"take\",\"long\",\"however\",\"thought\",\"got\",\"own\",\"give\",\"comedy\",\"between\",\"big\",\"d\",\"must\",\"series\",\"right\",\"may\",\"without\",\"role\",\"guy\",\"original\",\"interesting\",\"whole\",\"come\",\"isn\",\"times\",\"always\",\"saw\",\"least\",\"bit\",\"gets\",\"almost\",\"script\",\"point\",\"last\",\"music\",\"done\",\"minutes\",\"feel\",\"far\",\"since\",\"girl\",\"ll\",\"yet\",\"might\",\"making\",\"performance\",\"away\",\"family\",\"anything\",\"am\",\"probably\",\"hard\",\"woman\",\"tv\",\"kind\",\"fun\",\"rather\",\"day\",\"played\",\"worst\",\"each\",\"found\",\"sure\",\"anyone\",\"especially\",\"trying\",\"having\",\"our\",\"screen\",\"looking\",\"different\",\"believe\",\"sense\",\"place\",\"american\",\"although\",\"ending\",\"goes\",\"worth\",\"course\",\"set\",\"shows\",\"maybe\",\"three\",\"comes\",\"dvd\",\"money\",\"once\",\"everything\",\"plays\",\"effects\",\"put\",\"john\",\"looks\",\"actor\",\"main\",\"together\",\"during\",\"someone\",\"let\",\"wasn\",\"instead\",\"everyone\",\"war\",\"year\",\"reason\",\"takes\",\"special\",\"said\",\"true\",\"high\",\"night\",\"book\",\"seem\",\"job\",\"play\",\"watched\",\"audience\",\"later\",\"wife\",\"black\",\"death\",\"himself\",\"star\",\"half\",\"seeing\",\"used\",\"idea\",\"dead\",\"second\",\"men\",\"left\",\"excellent\",\"simply\",\"shot\",\"else\",\"beautiful\",\"sex\",\"completely\",\"budget\",\"father\",\"women\",\"mind\",\"house\",\"hollywood\",\"poor\",\"less\",\"fan\",\"along\",\"boring\",\"performances\",\"home\",\"line\",\"help\",\"nice\",\"try\",\"couple\",\"top\",\"version\",\"until\",\"either\",\"low\",\"next\",\"camera\",\"use\",\"friends\",\"short\",\"wrong\",\"start\",\"kids\",\"given\",\"mother\",\"read\",\"need\",\"full\",\"enjoy\",\"production\",\"classic\",\"perhaps\",\"school\",\"moments\",\"truly\",\"stupid\",\"keep\",\"awful\",\"getting\",\"rest\",\"video\",\"face\",\"tell\",\"mean\",\"others\",\"itself\",\"understand\",\"boy\",\"terrible\",\"small\",\"name\",\"style\",\"came\",\"won\",\"playing\",\"recommend\",\"doing\",\"lost\",\"person\",\"definitely\",\"gives\",\"dialogue\",\"entertaining\",\"wonderful\",\"often\",\"live\",\"lines\",\"hope\",\"went\",\"stars\",\"case\",\"remember\",\"written\",\"couldn\",\"head\",\"early\",\"title\",\"yes\",\"human\",\"perfect\",\"become\",\"based\",\"friend\",\"children\",\"certainly\",\"liked\",\"problem\",\"drama\",\"son\",\"picture\",\"several\",\"fans\",\"under\",\"lead\",\"laugh\",\"oh\",\"guys\",\"humor\",\"supposed\",\"direction\",\"against\",\"absolutely\",\"overall\",\"sort\",\"piece\",\"episode\",\"finally\",\"game\",\"lives\",\"called\",\"entire\",\"evil\",\"cinema\",\"worse\",\"care\",\"waste\",\"killer\",\"dark\",\"felt\",\"beginning\",\"despite\",\"seemed\",\"genre\",\"final\",\"b\",\"totally\",\"history\",\"wanted\",\"unfortunately\",\"town\",\"throughout\",\"white\",\"city\",\"becomes\",\"able\",\"days\",\"already\",\"turn\",\"guess\",\"run\",\"fine\",\"loved\",\"act\",\"mr\",\"flick\",\"today\",\"horrible\",\"heart\",\"side\",\"hand\",\"kill\",\"tries\",\"wants\",\"starts\",\"quality\",\"killed\",\"past\",\"themselves\",\"child\",\"close\",\"matter\",\"group\",\"sound\",\"turns\",\"daughter\",\"parts\",\"viewer\",\"etc\",\"expect\",\"fight\",\"car\",\"enjoyed\",\"directed\",\"writing\",\"decent\",\"type\",\"violence\",\"stop\",\"example\",\"stuff\",\"self\",\"kid\",\"amazing\",\"behind\",\"soon\",\"blood\",\"favorite\",\"works\",\"known\",\"thinking\",\"gave\",\"obviously\",\"sometimes\",\"hero\",\"eyes\",\"actress\",\"girls\",\"michael\",\"happened\",\"brilliant\",\"stories\",\"except\",\"myself\",\"hour\",\"coming\",\"says\",\"writer\",\"late\",\"husband\",\"extremely\",\"experience\",\"hell\",\"happens\",\"art\",\"heard\",\"police\",\"took\",\"feeling\",\"roles\",\"leave\",\"highly\",\"attempt\",\"taken\",\"interest\",\"wouldn\",\"murder\",\"moment\",\"slow\",\"score\",\"god\",\"including\",\"looked\",\"obvious\",\"involved\",\"living\",\"anyway\",\"robert\",\"david\",\"cool\",\"hours\",\"save\",\"ok\",\"age\",\"voice\",\"o\",\"career\",\"told\",\"across\",\"wonder\",\"none\",\"strong\",\"cut\",\"happen\",\"please\",\"gore\",\"simple\",\"hilarious\",\"brother\",\"important\",\"exactly\",\"power\",\"chance\",\"ago\",\"james\",\"particularly\",\"relationship\",\"documentary\",\"level\",\"complete\",\"light\",\"female\",\"annoying\",\"possible\",\"serious\",\"cannot\",\"hit\",\"crap\",\"sad\",\"running\",\"lack\",\"sequel\",\"talent\",\"usually\",\"whose\",\"basically\",\"reality\",\"ends\",\"seriously\",\"strange\",\"order\",\"finds\",\"call\",\"taking\",\"somewhat\",\"room\",\"happy\",\"silly\",\"scary\",\"middle\",\"turned\",\"alone\",\"apparently\",\"ridiculous\",\"change\",\"clich\",\"country\",\"mostly\",\"attention\",\"miss\",\"four\",\"usual\",\"shown\",\"body\",\"song\",\"wish\",\"jokes\",\"number\",\"opening\",\"released\",\"disappointed\",\"word\",\"jack\",\"thriller\",\"single\",\"opinion\",\"straight\",\"future\",\"english\",\"words\",\"parents\",\"novel\",\"saying\",\"cinematography\",\"yourself\",\"view\",\"cheap\",\"started\",\"french\",\"beyond\",\"huge\",\"talking\",\"non\",\"clearly\",\"sets\",\"talk\",\"major\",\"die\",\"shots\",\"rating\",\"problems\",\"knew\",\"knows\",\"gay\",\"modern\",\"fast\",\"british\",\"due\",\"events\",\"tells\",\"add\",\"bring\",\"comic\",\"clear\",\"ones\",\"above\",\"hate\",\"storyline\",\"york\",\"easy\",\"typical\",\"entertainment\",\"aren\",\"easily\",\"haven\",\"within\",\"local\",\"upon\",\"general\",\"dialog\",\"crime\",\"ten\",\"giving\",\"george\",\"lots\",\"sequence\",\"america\",\"ways\",\"falls\",\"similar\",\"begins\",\"appears\",\"class\",\"near\",\"mystery\",\"named\",\"bunch\",\"filmed\",\"king\",\"elements\",\"romantic\",\"team\",\"certain\",\"review\",\"predictable\",\"working\",\"avoid\",\"stand\",\"de\",\"earth\",\"sorry\",\"th\",\"e\",\"television\",\"mention\",\"enjoyable\",\"supporting\",\"tale\",\"theme\",\"message\",\"points\",\"cop\",\"gone\",\"among\",\"fall\",\"space\",\"tom\",\"viewers\",\"eye\",\"red\",\"truth\",\"leads\",\"surprised\",\"stay\",\"release\",\"kept\",\"minute\",\"richard\",\"five\",\"dull\",\"killing\",\"using\",\"effort\",\"monster\",\"third\",\"brought\",\"musical\",\"feels\",\"suspense\",\"tried\",\"means\",\"whether\",\"comments\",\"sequences\",\"dog\",\"moving\",\"period\",\"peter\",\"lee\",\"needs\",\"doubt\",\"fi\",\"showing\",\"buy\",\"okay\",\"sci\",\"somehow\",\"soundtrack\",\"viewing\",\"rent\",\"herself\",\"nearly\",\"average\",\"songs\",\"theater\",\"episodes\",\"reviews\",\"whatever\",\"follow\",\"surprise\",\"feature\",\"form\",\"move\",\"forget\",\"realistic\",\"believable\",\"free\",\"material\",\"premise\",\"editing\",\"sister\",\"brothers\",\"deep\",\"imagine\",\"gun\",\"forced\",\"famous\",\"poorly\",\"deal\",\"crew\",\"western\",\"indeed\",\"expected\",\"check\",\"possibly\",\"fantastic\",\"lame\",\"society\",\"figure\",\"otherwise\",\"dr\",\"learn\",\"open\",\"paul\",\"eventually\",\"plus\",\"lady\",\"weak\",\"hear\",\"stage\",\"sexual\",\"leaves\",\"question\",\"note\",\"difficult\",\"sit\",\"towards\",\"romance\",\"box\",\"situation\",\"begin\",\"earlier\",\"personal\",\"atmosphere\",\"reading\",\"male\",\"screenplay\",\"wait\",\"decided\",\"joe\",\"battle\",\"interested\",\"powerful\",\"previous\",\"business\",\"greatest\",\"nor\",\"hot\",\"actual\",\"cheesy\",\"became\",\"acted\",\"worked\",\"animation\",\"subject\",\"island\",\"effect\",\"footage\",\"mess\",\"era\",\"oscar\",\"result\",\"meet\",\"rock\",\"credits\",\"features\",\"particular\",\"memorable\",\"whom\",\"boys\",\"air\",\"setting\",\"perfectly\",\"writers\",\"laughs\",\"street\",\"shame\",\"quickly\",\"rich\",\"older\",\"hands\",\"background\",\"keeps\",\"twist\",\"dramatic\",\"bill\",\"total\",\"present\",\"various\",\"appear\",\"pay\",\"telling\",\"directing\",\"william\",\"party\",\"alien\",\"unless\",\"crazy\",\"harry\",\"mark\",\"badly\",\"realize\",\"girlfriend\",\"forward\",\"front\",\"needed\",\"comment\",\"emotional\",\"imdb\",\"development\",\"fighting\",\"secret\",\"break\",\"fairly\",\"unique\",\"c\",\"baby\",\"outside\",\"married\",\"manages\",\"plenty\",\"villain\",\"apart\",\"missing\",\"masterpiece\",\"nature\",\"brings\",\"remake\",\"write\",\"former\",\"superb\",\"weird\",\"doctor\",\"clever\",\"escape\",\"list\",\"incredibly\",\"meets\",\"reasons\",\"hold\",\"created\",\"sounds\",\"sam\",\"inside\",\"unlike\",\"leading\",\"laughing\",\"ideas\",\"japanese\",\"season\",\"prison\",\"directors\",\"copy\",\"cute\",\"public\",\"return\",\"political\",\"violent\",\"success\",\"force\",\"create\",\"caught\",\"admit\",\"meant\",\"water\"],\"x1\":{\"__ndarray__\":\"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\",\"dtype\":\"float32\",\"order\":\"little\",\"shape\":[1000]},\"x2\":{\"__ndarray__\":\"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\",\"dtype\":\"float32\",\"order\":\"little\",\"shape\":[1000]}},\"selected\":{\"id\":\"1144\"},\"selection_policy\":{\"id\":\"1145\"}},\"id\":\"1120\",\"type\":\"ColumnDataSource\"},{\"attributes\":{},\"id\":\"1097\",\"type\":\"DataRange1d\"}],\"root_ids\":[\"1092\"]},\"title\":\"Bokeh Application\",\"version\":\"2.3.3\"}};\n",
              "  var render_items = [{\"docid\":\"64045a08-c903-4cee-a850-cad2e8374ead\",\"root_ids\":[\"1092\"],\"roots\":{\"1092\":\"f8a53117-4a9e-4e62-a1de-8fe33ba6603e\"}}];\n",
              "  root.Bokeh.embed.embed_items_notebook(docs_json, render_items);\n",
              "\n",
              "  }\n",
              "  if (root.Bokeh !== undefined) {\n",
              "    embed_document(root);\n",
              "  } else {\n",
              "    var attempts = 0;\n",
              "    var timer = setInterval(function(root) {\n",
              "      if (root.Bokeh !== undefined) {\n",
              "        clearInterval(timer);\n",
              "        embed_document(root);\n",
              "      } else {\n",
              "        attempts++;\n",
              "        if (attempts > 100) {\n",
              "          clearInterval(timer);\n",
              "          console.log(\"Bokeh: ERROR: Unable to run BokehJS code because BokehJS library is missing\");\n",
              "        }\n",
              "      }\n",
              "    }, 10, root)\n",
              "  }\n",
              "})(window);"
            ],
            "application/vnd.bokehjs_exec.v0+json": ""
          },
          "metadata": {
            "application/vnd.bokehjs_exec.v0+json": {
              "id": "1092"
            }
          }
        }
      ]
    },
    {
      "cell_type": "markdown",
      "metadata": {
        "id": "9qZcF3nGX-sp"
      },
      "source": [
        "## FastText\n",
        "\n",
        "FastText использует не только эмбеддинги слов, но и эмбеддинги n-грам. В корпусе каждое слово автоматически представляется в виде набора символьных n-грамм. Скажем, если мы установим n=3, то вектор для слова \"where\" будет представлен суммой векторов следующих триграм: \"<wh\", \"whe\", \"her\", \"ere\", \"re>\" (где \"<\" и \">\" символы, обозначающие начало и конец слова). Благодаря этому мы можем также получать вектора для слов, отсутствующих в словаре, а также эффективно работать с текстами, содержащими ошибки и опечатки.\n",
        "\n",
        "* [Статья](https://aclweb.org/anthology/Q17-1010)\n",
        "* [Сайт](https://fasttext.cc/)\n",
        "* [Тьюториал](https://fasttext.cc/docs/en/support.html)\n",
        "* [Вектора для 157 языков](https://fasttext.cc/docs/en/crawl-vectors.html)\n",
        "* [Вектора, обученные на википедии](https://fasttext.cc/docs/en/pretrained-vectors.html) (отдельно для 294 разных языков)\n",
        "* [Репозиторий](https://github.com/facebookresearch/fasttext)\n",
        "\n",
        "Есть библиотека `fasttext` для питона (с готовыми моделями можно работать и через `gensim`)."
      ]
    },
    {
      "cell_type": "code",
      "metadata": {
        "id": "NvzM2AL7Z8gl",
        "colab": {
          "base_uri": "https://localhost:8080/"
        },
        "outputId": "1de531ad-84e7-48e8-b868-033f28e0a677"
      },
      "source": [
        "! git clone https://github.com/facebookresearch/fastText.git\n",
        "! pip3 install fastText/."
      ],
      "execution_count": null,
      "outputs": [
        {
          "output_type": "stream",
          "name": "stdout",
          "text": [
            "Cloning into 'fastText'...\n",
            "remote: Enumerating objects: 3998, done.\u001b[K\n",
            "remote: Counting objects: 100% (1026/1026), done.\u001b[K\n",
            "remote: Compressing objects: 100% (195/195), done.\u001b[K\n",
            "remote: Total 3998 (delta 890), reused 859 (delta 826), pack-reused 2972 (from 1)\u001b[K\n",
            "Receiving objects: 100% (3998/3998), 8.30 MiB | 20.98 MiB/s, done.\n",
            "Resolving deltas: 100% (2528/2528), done.\n",
            "Processing ./fastText\n",
            "  Installing build dependencies ... \u001b[?25l\u001b[?25hdone\n",
            "  Getting requirements to build wheel ... \u001b[?25l\u001b[?25hdone\n",
            "  Preparing metadata (pyproject.toml) ... \u001b[?25l\u001b[?25hdone\n",
            "Collecting pybind11>=2.2 (from fasttext==0.9.2)\n",
            "  Using cached pybind11-2.13.6-py3-none-any.whl.metadata (9.5 kB)\n",
            "Requirement already satisfied: setuptools>=0.7.0 in /usr/local/lib/python3.10/dist-packages (from fasttext==0.9.2) (71.0.4)\n",
            "Requirement already satisfied: numpy in /usr/local/lib/python3.10/dist-packages (from fasttext==0.9.2) (1.26.4)\n",
            "Using cached pybind11-2.13.6-py3-none-any.whl (243 kB)\n",
            "Building wheels for collected packages: fasttext\n",
            "  Building wheel for fasttext (pyproject.toml) ... \u001b[?25l\u001b[?25hdone\n",
            "  Created wheel for fasttext: filename=fasttext-0.9.2-cp310-cp310-linux_x86_64.whl size=4296143 sha256=951fc036aa8e8729526ce5e9961d78adf37fc559a2ddcbcaa7e7e67f7f4e6f96\n",
            "  Stored in directory: /tmp/pip-ephem-wheel-cache-31_9xl4k/wheels/8b/05/af/3cfae069d904597d44b309c956601b611bdf8967bcbe968903\n",
            "Successfully built fasttext\n",
            "Installing collected packages: pybind11, fasttext\n",
            "Successfully installed fasttext-0.9.2 pybind11-2.13.6\n"
          ]
        }
      ]
    },
    {
      "cell_type": "code",
      "metadata": {
        "id": "s-IW_cBDX-sp"
      },
      "source": [
        "import fasttext\n",
        "\n",
        "# так можно обучить свою модель\n",
        "ft_model = fasttext.train_unsupervised('clean_text.txt', minn=2, maxn=5, dim=300)"
      ],
      "execution_count": null,
      "outputs": []
    },
    {
      "cell_type": "code",
      "metadata": {
        "id": "NNiuzf4DX-sr",
        "colab": {
          "base_uri": "https://localhost:8080/"
        },
        "outputId": "11095888-65c4-41f9-9a45-023807e47643"
      },
      "source": [
        "ft_model.get_word_vector(\"movie\")"
      ],
      "execution_count": null,
      "outputs": [
        {
          "output_type": "execute_result",
          "data": {
            "text/plain": [
              "array([ 7.56988811e-06,  1.88115984e-02, -4.40639257e-02, -1.08528741e-01,\n",
              "        4.68422808e-02,  1.84484899e-01, -6.33455068e-02, -1.27518758e-01,\n",
              "        2.03700349e-01,  5.55569008e-02,  2.54402850e-02,  3.04404907e-02,\n",
              "       -4.00295183e-02,  3.37889902e-02,  6.18524943e-03,  1.17644288e-01,\n",
              "       -1.99238788e-02, -5.66098979e-03,  9.16757286e-02,  1.95100773e-02,\n",
              "        7.00193718e-02,  1.23193100e-01,  1.33457378e-01, -9.21930361e-04,\n",
              "        3.60089983e-03,  1.08213328e-01, -3.03807352e-02, -7.69824460e-02,\n",
              "        9.27532688e-02,  2.30971742e-02, -1.48166597e-01,  3.42830829e-02,\n",
              "       -6.99323267e-02,  2.10133251e-02, -1.57621399e-01,  2.76132859e-02,\n",
              "       -8.51107016e-02, -5.21767773e-02,  7.92209804e-02,  3.02974042e-02,\n",
              "        1.60744637e-01,  1.47662073e-01,  4.48724367e-02,  3.91076691e-02,\n",
              "       -2.74802856e-02, -1.58282548e-01,  2.40783647e-01, -7.24463686e-02,\n",
              "       -1.10178925e-01, -6.55114651e-02, -1.04578637e-01,  1.16933562e-01,\n",
              "       -1.03905864e-01,  3.93625721e-03,  2.65538283e-02,  2.02945527e-02,\n",
              "       -5.12378812e-02,  6.58192635e-02,  1.68210194e-02,  1.28414452e-01,\n",
              "       -5.46303540e-02, -5.32944836e-02,  1.05683757e-02, -1.33495405e-01,\n",
              "       -8.43756720e-02,  3.95077579e-02,  4.75506112e-02, -3.50779817e-02,\n",
              "        1.09926416e-02,  7.09660258e-03,  1.65060826e-03,  7.77293043e-03,\n",
              "       -5.55112176e-02,  1.21716425e-01,  3.17040496e-02,  1.36438012e-01,\n",
              "       -1.12650573e-01,  9.95251387e-02,  6.06361367e-02, -7.67634436e-02,\n",
              "       -3.57991899e-03,  1.02665566e-01,  2.22805530e-01,  1.26559213e-01,\n",
              "        9.01126489e-02, -5.52116334e-02,  1.14270486e-01,  5.10136411e-02,\n",
              "        1.04588054e-01, -1.73544586e-01, -8.64663348e-02, -1.06330737e-01,\n",
              "        1.37702435e-01,  9.38549414e-02, -1.47306487e-01, -9.98612866e-02,\n",
              "       -1.68020293e-01, -1.41059771e-01, -8.19565505e-02, -7.73904053e-03,\n",
              "       -8.98249522e-02, -6.69197217e-02,  3.28326374e-02,  1.05060510e-01,\n",
              "        1.68424267e-02, -3.15968320e-02,  8.80438369e-03,  9.38244089e-02,\n",
              "        6.67141080e-02,  1.30404294e-01,  6.05752841e-02,  1.65782254e-02,\n",
              "        1.27885252e-01,  6.06537499e-02,  1.37514234e-01,  1.49714574e-01,\n",
              "        1.32973582e-01,  8.63375366e-02, -2.58584674e-02,  5.26926219e-02,\n",
              "        3.63312103e-02,  7.33492076e-02, -3.25390510e-02,  8.96372367e-03,\n",
              "       -1.08496584e-02, -1.48519808e-02,  2.10616797e-01, -8.91340598e-02,\n",
              "        7.89081603e-02,  1.37534171e-01,  1.03235573e-01, -8.46709237e-02,\n",
              "       -1.16258331e-01,  1.29725605e-01, -7.61202127e-02, -6.32321537e-02,\n",
              "       -8.26871172e-02,  1.26250073e-01,  1.63852170e-01, -2.38608848e-02,\n",
              "       -2.25183859e-01, -2.40309797e-02, -4.02189381e-02,  2.93455999e-02,\n",
              "        1.67622522e-03, -4.84503992e-02,  8.24947208e-02,  5.41172959e-02,\n",
              "        3.21222655e-02,  1.48481473e-01,  9.16876551e-03, -6.42121583e-02,\n",
              "       -1.27643257e-01,  1.03649586e-01, -4.70642373e-02,  6.99128360e-02,\n",
              "       -1.71969384e-02,  2.14981916e-03, -4.31457013e-02,  4.15714644e-02,\n",
              "        9.10054147e-02,  9.83801857e-02,  2.44067088e-02,  9.15695447e-03,\n",
              "        5.85399866e-02,  5.93968891e-02, -1.71219185e-01, -1.04947388e-01,\n",
              "       -6.90626800e-02,  2.60027461e-02, -2.42856075e-03, -8.10915530e-02,\n",
              "        1.02300728e-02,  7.48603716e-02, -1.41697181e-02, -6.38406649e-02,\n",
              "       -5.77659681e-02, -6.57898784e-02,  1.33798286e-01,  5.84544465e-02,\n",
              "       -2.04939093e-03, -5.61488196e-02, -2.21945718e-03,  6.14870414e-02,\n",
              "       -9.60193351e-02, -8.22512135e-02,  2.41291220e-03, -8.51197243e-02,\n",
              "       -5.95903918e-02,  1.68818496e-02, -3.28819081e-02,  1.28725424e-01,\n",
              "        1.94007337e-01, -2.14724056e-02,  7.69607425e-02,  3.60023305e-02,\n",
              "       -1.64794013e-01,  1.74004864e-02, -2.38400865e-02, -1.58228837e-02,\n",
              "        1.23190731e-01,  4.90016602e-02, -9.94430482e-02, -5.24258763e-02,\n",
              "        1.86738312e-01, -1.83759835e-02, -8.08704551e-03,  5.36501147e-02,\n",
              "       -1.10884480e-01,  7.70132383e-03, -3.23584080e-02,  1.80106863e-01,\n",
              "       -4.99512395e-03,  8.81533101e-02, -1.21859811e-01, -1.66150853e-01,\n",
              "       -9.14038345e-02, -9.97114033e-02,  8.50076526e-02, -8.37568417e-02,\n",
              "       -2.84253992e-02,  7.98414797e-02, -1.93390653e-01,  6.01451844e-02,\n",
              "       -1.31597400e-01, -1.05837017e-01,  9.26435590e-02, -1.23775020e-01,\n",
              "       -3.66097353e-02,  5.51514439e-02,  3.09382044e-02,  3.74970064e-02,\n",
              "        7.15802759e-02, -2.80255266e-02,  6.96467385e-02,  1.96001261e-01,\n",
              "       -1.15839481e-01, -3.46257500e-02, -5.45018120e-04,  1.59905106e-01,\n",
              "       -1.93392083e-01, -1.44223094e-01,  4.05092090e-02,  4.63489071e-02,\n",
              "        1.22399203e-01,  4.09289589e-03,  7.02323439e-03, -2.24407967e-02,\n",
              "       -5.78068309e-02, -3.47407325e-03,  3.01629957e-02, -9.00919810e-02,\n",
              "       -1.21065319e-01, -1.64410528e-02, -1.88378617e-04, -4.34792191e-02,\n",
              "        1.19482622e-01,  2.06337608e-02,  1.27966087e-02, -1.39832720e-01,\n",
              "       -3.07095260e-03, -1.79997142e-02,  1.87718540e-01, -4.96991239e-02,\n",
              "        1.36111379e-02, -7.78065771e-02,  9.84290913e-02,  1.11253373e-01,\n",
              "        9.14116278e-02,  1.82865366e-01, -4.87099513e-02,  5.61431274e-02,\n",
              "        2.49696255e-01, -2.97719594e-02,  2.82495990e-02,  8.79821032e-02,\n",
              "        4.96383831e-02, -6.10991046e-02, -1.97506189e-01, -2.75492799e-02,\n",
              "        7.34809488e-02,  5.60145192e-02, -1.68236256e-01, -5.70494868e-02,\n",
              "        1.37928084e-01,  1.74493156e-02, -3.18019427e-02,  3.27044129e-02,\n",
              "       -7.60624632e-02, -1.09995879e-01, -5.09934686e-02,  1.09100118e-01,\n",
              "       -1.53706623e-02, -4.56411913e-02, -3.68570872e-02, -8.25520605e-02,\n",
              "       -9.53213945e-02, -4.50799987e-02, -3.49600390e-02, -9.30260718e-02],\n",
              "      dtype=float32)"
            ]
          },
          "metadata": {},
          "execution_count": 20
        }
      ]
    },
    {
      "cell_type": "code",
      "metadata": {
        "id": "TsZnXqH8X-st",
        "colab": {
          "base_uri": "https://localhost:8080/"
        },
        "outputId": "dec745fd-9ce5-46de-e451-7612969e5d07"
      },
      "source": [
        "ft_model.get_nearest_neighbors('actor')"
      ],
      "execution_count": null,
      "outputs": [
        {
          "output_type": "execute_result",
          "data": {
            "text/plain": [
              "[(0.9999454021453857, 'arab'),\n",
              " (0.9999423623085022, 'poor'),\n",
              " (0.9999375939369202, 'superior'),\n",
              " (0.9999333024024963, 'american'),\n",
              " (0.9999332427978516, 'amanda'),\n",
              " (0.9999306797981262, 'camera'),\n",
              " (0.9999271035194397, 'victims'),\n",
              " (0.9999265670776367, 'erotic'),\n",
              " (0.9999223947525024, 'america'),\n",
              " (0.9999216794967651, 'visuals')]"
            ]
          },
          "metadata": {},
          "execution_count": 21
        }
      ]
    },
    {
      "cell_type": "code",
      "metadata": {
        "id": "iKR3FzCFX-sv",
        "colab": {
          "base_uri": "https://localhost:8080/"
        },
        "outputId": "4d8fe384-d587-4f66-87d3-f5b9d3ef06af"
      },
      "source": [
        "ft_model.get_analogies(\"woman\", \"man\", \"actor\")"
      ],
      "execution_count": null,
      "outputs": [
        {
          "output_type": "execute_result",
          "data": {
            "text/plain": [
              "[(0.9999073147773743, 'doctor'),\n",
              " (0.9999064803123474, 'screenwriter'),\n",
              " (0.9999054074287415, 'victoria'),\n",
              " (0.9999045729637146, 'performed'),\n",
              " (0.999900221824646, 'utterly'),\n",
              " (0.9998974800109863, 'predator'),\n",
              " (0.9998929500579834, 'spectacular'),\n",
              " (0.9998927712440491, 'affair'),\n",
              " (0.9998879432678223, 'jerry'),\n",
              " (0.9998875260353088, 'perfectly')]"
            ]
          },
          "metadata": {},
          "execution_count": 22
        }
      ]
    },
    {
      "cell_type": "code",
      "metadata": {
        "id": "ttAgMPC_X-sx",
        "colab": {
          "base_uri": "https://localhost:8080/"
        },
        "outputId": "1016b8bc-87ae-4928-e387-106e1b5a9ff7"
      },
      "source": [
        "# проблема с опечатками решена\n",
        "\n",
        "ft_model.get_nearest_neighbors('actr')"
      ],
      "execution_count": null,
      "outputs": [
        {
          "output_type": "execute_result",
          "data": {
            "text/plain": [
              "[(0.9999589323997498, 'actor'),\n",
              " (0.9999556541442871, 'america'),\n",
              " (0.9999416470527649, 'actors'),\n",
              " (0.9999362230300903, 'performance'),\n",
              " (0.99993497133255, 'producer'),\n",
              " (0.9999319911003113, 'class'),\n",
              " (0.9999313354492188, 'barbara'),\n",
              " (0.9999285936355591, 'era'),\n",
              " (0.9999228715896606, 'perhaps'),\n",
              " (0.9999222159385681, 'producers')]"
            ]
          },
          "metadata": {},
          "execution_count": 23
        }
      ]
    },
    {
      "cell_type": "code",
      "metadata": {
        "id": "V9alEdz0X-s0",
        "colab": {
          "base_uri": "https://localhost:8080/"
        },
        "outputId": "e0317ee3-393b-4044-e494-cde8679ba31d"
      },
      "source": [
        "# проблема с out of vocabulary словами - тоже\n",
        "\n",
        "ft_model.get_nearest_neighbors('moviegeek')"
      ],
      "execution_count": null,
      "outputs": [
        {
          "output_type": "execute_result",
          "data": {
            "text/plain": [
              "[(0.9999784231185913, 'view'),\n",
              " (0.9999722242355347, 'money'),\n",
              " (0.9999671578407288, 'massive'),\n",
              " (0.9999662041664124, 'negative'),\n",
              " (0.9999658465385437, 'notch'),\n",
              " (0.9999650120735168, 'spoken'),\n",
              " (0.9999611377716064, 'new'),\n",
              " (0.9999605417251587, 'sweet'),\n",
              " (0.9999600052833557, 'revenge'),\n",
              " (0.9999598860740662, 'believable')]"
            ]
          },
          "metadata": {},
          "execution_count": 24
        }
      ]
    },
    {
      "cell_type": "code",
      "metadata": {
        "id": "HSzVZF3bX-s3",
        "colab": {
          "base_uri": "https://localhost:8080/"
        },
        "outputId": "d6225e22-4f01-4ce8-c1b6-93bcd8c4eb71"
      },
      "source": [
        "!wget -O positive.csv https://www.dropbox.com/s/fnpq3z4bcnoktiv/positive.csv?dl=0"
      ],
      "execution_count": null,
      "outputs": [
        {
          "output_type": "stream",
          "name": "stdout",
          "text": [
            "--2023-09-21 14:07:11--  https://www.dropbox.com/s/fnpq3z4bcnoktiv/positive.csv?dl=0\n",
            "Resolving www.dropbox.com (www.dropbox.com)... 162.125.80.18, 2620:100:6035:18::a27d:5512\n",
            "Connecting to www.dropbox.com (www.dropbox.com)|162.125.80.18|:443... connected.\n",
            "HTTP request sent, awaiting response... 302 Found\n",
            "Location: /s/raw/fnpq3z4bcnoktiv/positive.csv [following]\n",
            "--2023-09-21 14:07:11--  https://www.dropbox.com/s/raw/fnpq3z4bcnoktiv/positive.csv\n",
            "Reusing existing connection to www.dropbox.com:443.\n",
            "HTTP request sent, awaiting response... 302 Found\n",
            "Location: https://uc7e20c4d5c0e596ab3a8e891db4.dl.dropboxusercontent.com/cd/0/inline/CEKieITCvoi_cwK567dYxv6kkgEz65q77UrkpEJxc0aGJhIqmwoTjOqlL0OGtrLGFDPDxMHy256CquM1B8qfR2LSm5CXSUu84uwPZrv5zROnS-iDB-FsDUj3dcKZAdpPoYg/file# [following]\n",
            "--2023-09-21 14:07:12--  https://uc7e20c4d5c0e596ab3a8e891db4.dl.dropboxusercontent.com/cd/0/inline/CEKieITCvoi_cwK567dYxv6kkgEz65q77UrkpEJxc0aGJhIqmwoTjOqlL0OGtrLGFDPDxMHy256CquM1B8qfR2LSm5CXSUu84uwPZrv5zROnS-iDB-FsDUj3dcKZAdpPoYg/file\n",
            "Resolving uc7e20c4d5c0e596ab3a8e891db4.dl.dropboxusercontent.com (uc7e20c4d5c0e596ab3a8e891db4.dl.dropboxusercontent.com)... 162.125.66.15, 2620:100:6035:15::a27d:550f\n",
            "Connecting to uc7e20c4d5c0e596ab3a8e891db4.dl.dropboxusercontent.com (uc7e20c4d5c0e596ab3a8e891db4.dl.dropboxusercontent.com)|162.125.66.15|:443... connected.\n",
            "HTTP request sent, awaiting response... 200 OK\n",
            "Length: 26233379 (25M) [text/plain]\n",
            "Saving to: ‘positive.csv’\n",
            "\n",
            "positive.csv        100%[===================>]  25.02M  8.16MB/s    in 3.1s    \n",
            "\n",
            "2023-09-21 14:07:18 (8.16 MB/s) - ‘positive.csv’ saved [26233379/26233379]\n",
            "\n"
          ]
        }
      ]
    },
    {
      "cell_type": "code",
      "metadata": {
        "id": "yVDNoIcuX-s5",
        "colab": {
          "base_uri": "https://localhost:8080/"
        },
        "outputId": "ae059bc8-3bed-4097-b603-dcc394395822"
      },
      "source": [
        "!wget -O negative.csv https://www.dropbox.com/s/r6u59ljhhjdg6j0/negative.csv?dl=0"
      ],
      "execution_count": null,
      "outputs": [
        {
          "output_type": "stream",
          "name": "stdout",
          "text": [
            "--2023-09-21 14:07:22--  https://www.dropbox.com/s/r6u59ljhhjdg6j0/negative.csv?dl=0\n",
            "Resolving www.dropbox.com (www.dropbox.com)... 162.125.80.18, 2620:100:6035:18::a27d:5512\n",
            "Connecting to www.dropbox.com (www.dropbox.com)|162.125.80.18|:443... connected.\n",
            "HTTP request sent, awaiting response... 302 Found\n",
            "Location: /s/raw/r6u59ljhhjdg6j0/negative.csv [following]\n",
            "--2023-09-21 14:07:22--  https://www.dropbox.com/s/raw/r6u59ljhhjdg6j0/negative.csv\n",
            "Reusing existing connection to www.dropbox.com:443.\n",
            "HTTP request sent, awaiting response... 302 Found\n",
            "Location: https://uc00334c90ce0038067b9da799ef.dl.dropboxusercontent.com/cd/0/inline/CEJbhc_ubaG-lT3OsZVpEBSQ1ubTEdW5PABJYPtglUPCOVM4qdjwW8g5f6nYs8ta8Dqlbx6sGRR8zrjhEbKOLE1CuQ9W7A6qKdhE1stTqYokv3NtNgzDgciDaNzMOfnni9w/file# [following]\n",
            "--2023-09-21 14:07:23--  https://uc00334c90ce0038067b9da799ef.dl.dropboxusercontent.com/cd/0/inline/CEJbhc_ubaG-lT3OsZVpEBSQ1ubTEdW5PABJYPtglUPCOVM4qdjwW8g5f6nYs8ta8Dqlbx6sGRR8zrjhEbKOLE1CuQ9W7A6qKdhE1stTqYokv3NtNgzDgciDaNzMOfnni9w/file\n",
            "Resolving uc00334c90ce0038067b9da799ef.dl.dropboxusercontent.com (uc00334c90ce0038067b9da799ef.dl.dropboxusercontent.com)... 162.125.80.15, 2620:100:6035:15::a27d:550f\n",
            "Connecting to uc00334c90ce0038067b9da799ef.dl.dropboxusercontent.com (uc00334c90ce0038067b9da799ef.dl.dropboxusercontent.com)|162.125.80.15|:443... connected.\n",
            "HTTP request sent, awaiting response... 200 OK\n",
            "Length: 24450101 (23M) [text/plain]\n",
            "Saving to: ‘negative.csv’\n",
            "\n",
            "negative.csv        100%[===================>]  23.32M  10.6MB/s    in 2.2s    \n",
            "\n",
            "2023-09-21 14:07:27 (10.6 MB/s) - ‘negative.csv’ saved [24450101/24450101]\n",
            "\n"
          ]
        }
      ]
    },
    {
      "cell_type": "code",
      "metadata": {
        "id": "HLidtYsuX-s8",
        "colab": {
          "base_uri": "https://localhost:8080/",
          "height": 261
        },
        "outputId": "05002502-e37c-4973-8071-8b2153450b53"
      },
      "source": [
        "positive = pd.read_csv('positive.csv', sep=';', usecols=[3], names=['text'])\n",
        "positive['label'] = ['positive'] * len(positive)\n",
        "negative = pd.read_csv('negative.csv', sep=';', usecols=[3], names=['text'])\n",
        "negative['label'] = ['negative'] * len(negative)\n",
        "df = positive.append(negative)\n",
        "df.head()"
      ],
      "execution_count": null,
      "outputs": [
        {
          "output_type": "stream",
          "name": "stderr",
          "text": [
            "<ipython-input-43-311ffed6a2f4>:5: FutureWarning: The frame.append method is deprecated and will be removed from pandas in a future version. Use pandas.concat instead.\n",
            "  df = positive.append(negative)\n"
          ]
        },
        {
          "output_type": "execute_result",
          "data": {
            "text/plain": [
              "                                                text     label\n",
              "0  @first_timee хоть я и школота, но поверь, у на...  positive\n",
              "1  Да, все-таки он немного похож на него. Но мой ...  positive\n",
              "2  RT @KatiaCheh: Ну ты идиотка) я испугалась за ...  positive\n",
              "3  RT @digger2912: \"Кто то в углу сидит и погибае...  positive\n",
              "4  @irina_dyshkant Вот что значит страшилка :D\\nН...  positive"
            ],
            "text/html": [
              "\n",
              "  <div id=\"df-f6681b29-55be-41e7-9478-f92f718f24fe\" class=\"colab-df-container\">\n",
              "    <div>\n",
              "<style scoped>\n",
              "    .dataframe tbody tr th:only-of-type {\n",
              "        vertical-align: middle;\n",
              "    }\n",
              "\n",
              "    .dataframe tbody tr th {\n",
              "        vertical-align: top;\n",
              "    }\n",
              "\n",
              "    .dataframe thead th {\n",
              "        text-align: right;\n",
              "    }\n",
              "</style>\n",
              "<table border=\"1\" class=\"dataframe\">\n",
              "  <thead>\n",
              "    <tr style=\"text-align: right;\">\n",
              "      <th></th>\n",
              "      <th>text</th>\n",
              "      <th>label</th>\n",
              "    </tr>\n",
              "  </thead>\n",
              "  <tbody>\n",
              "    <tr>\n",
              "      <th>0</th>\n",
              "      <td>@first_timee хоть я и школота, но поверь, у на...</td>\n",
              "      <td>positive</td>\n",
              "    </tr>\n",
              "    <tr>\n",
              "      <th>1</th>\n",
              "      <td>Да, все-таки он немного похож на него. Но мой ...</td>\n",
              "      <td>positive</td>\n",
              "    </tr>\n",
              "    <tr>\n",
              "      <th>2</th>\n",
              "      <td>RT @KatiaCheh: Ну ты идиотка) я испугалась за ...</td>\n",
              "      <td>positive</td>\n",
              "    </tr>\n",
              "    <tr>\n",
              "      <th>3</th>\n",
              "      <td>RT @digger2912: \"Кто то в углу сидит и погибае...</td>\n",
              "      <td>positive</td>\n",
              "    </tr>\n",
              "    <tr>\n",
              "      <th>4</th>\n",
              "      <td>@irina_dyshkant Вот что значит страшилка :D\\nН...</td>\n",
              "      <td>positive</td>\n",
              "    </tr>\n",
              "  </tbody>\n",
              "</table>\n",
              "</div>\n",
              "    <div class=\"colab-df-buttons\">\n",
              "\n",
              "  <div class=\"colab-df-container\">\n",
              "    <button class=\"colab-df-convert\" onclick=\"convertToInteractive('df-f6681b29-55be-41e7-9478-f92f718f24fe')\"\n",
              "            title=\"Convert this dataframe to an interactive table.\"\n",
              "            style=\"display:none;\">\n",
              "\n",
              "  <svg xmlns=\"http://www.w3.org/2000/svg\" height=\"24px\" viewBox=\"0 -960 960 960\">\n",
              "    <path d=\"M120-120v-720h720v720H120Zm60-500h600v-160H180v160Zm220 220h160v-160H400v160Zm0 220h160v-160H400v160ZM180-400h160v-160H180v160Zm440 0h160v-160H620v160ZM180-180h160v-160H180v160Zm440 0h160v-160H620v160Z\"/>\n",
              "  </svg>\n",
              "    </button>\n",
              "\n",
              "  <style>\n",
              "    .colab-df-container {\n",
              "      display:flex;\n",
              "      gap: 12px;\n",
              "    }\n",
              "\n",
              "    .colab-df-convert {\n",
              "      background-color: #E8F0FE;\n",
              "      border: none;\n",
              "      border-radius: 50%;\n",
              "      cursor: pointer;\n",
              "      display: none;\n",
              "      fill: #1967D2;\n",
              "      height: 32px;\n",
              "      padding: 0 0 0 0;\n",
              "      width: 32px;\n",
              "    }\n",
              "\n",
              "    .colab-df-convert:hover {\n",
              "      background-color: #E2EBFA;\n",
              "      box-shadow: 0px 1px 2px rgba(60, 64, 67, 0.3), 0px 1px 3px 1px rgba(60, 64, 67, 0.15);\n",
              "      fill: #174EA6;\n",
              "    }\n",
              "\n",
              "    .colab-df-buttons div {\n",
              "      margin-bottom: 4px;\n",
              "    }\n",
              "\n",
              "    [theme=dark] .colab-df-convert {\n",
              "      background-color: #3B4455;\n",
              "      fill: #D2E3FC;\n",
              "    }\n",
              "\n",
              "    [theme=dark] .colab-df-convert:hover {\n",
              "      background-color: #434B5C;\n",
              "      box-shadow: 0px 1px 3px 1px rgba(0, 0, 0, 0.15);\n",
              "      filter: drop-shadow(0px 1px 2px rgba(0, 0, 0, 0.3));\n",
              "      fill: #FFFFFF;\n",
              "    }\n",
              "  </style>\n",
              "\n",
              "    <script>\n",
              "      const buttonEl =\n",
              "        document.querySelector('#df-f6681b29-55be-41e7-9478-f92f718f24fe button.colab-df-convert');\n",
              "      buttonEl.style.display =\n",
              "        google.colab.kernel.accessAllowed ? 'block' : 'none';\n",
              "\n",
              "      async function convertToInteractive(key) {\n",
              "        const element = document.querySelector('#df-f6681b29-55be-41e7-9478-f92f718f24fe');\n",
              "        const dataTable =\n",
              "          await google.colab.kernel.invokeFunction('convertToInteractive',\n",
              "                                                    [key], {});\n",
              "        if (!dataTable) return;\n",
              "\n",
              "        const docLinkHtml = 'Like what you see? Visit the ' +\n",
              "          '<a target=\"_blank\" href=https://colab.research.google.com/notebooks/data_table.ipynb>data table notebook</a>'\n",
              "          + ' to learn more about interactive tables.';\n",
              "        element.innerHTML = '';\n",
              "        dataTable['output_type'] = 'display_data';\n",
              "        await google.colab.output.renderOutput(dataTable, element);\n",
              "        const docLink = document.createElement('div');\n",
              "        docLink.innerHTML = docLinkHtml;\n",
              "        element.appendChild(docLink);\n",
              "      }\n",
              "    </script>\n",
              "  </div>\n",
              "\n",
              "\n",
              "<div id=\"df-dca37dff-941d-4b1f-a733-e47ffe30754c\">\n",
              "  <button class=\"colab-df-quickchart\" onclick=\"quickchart('df-dca37dff-941d-4b1f-a733-e47ffe30754c')\"\n",
              "            title=\"Suggest charts.\"\n",
              "            style=\"display:none;\">\n",
              "\n",
              "<svg xmlns=\"http://www.w3.org/2000/svg\" height=\"24px\"viewBox=\"0 0 24 24\"\n",
              "     width=\"24px\">\n",
              "    <g>\n",
              "        <path d=\"M19 3H5c-1.1 0-2 .9-2 2v14c0 1.1.9 2 2 2h14c1.1 0 2-.9 2-2V5c0-1.1-.9-2-2-2zM9 17H7v-7h2v7zm4 0h-2V7h2v10zm4 0h-2v-4h2v4z\"/>\n",
              "    </g>\n",
              "</svg>\n",
              "  </button>\n",
              "\n",
              "<style>\n",
              "  .colab-df-quickchart {\n",
              "      --bg-color: #E8F0FE;\n",
              "      --fill-color: #1967D2;\n",
              "      --hover-bg-color: #E2EBFA;\n",
              "      --hover-fill-color: #174EA6;\n",
              "      --disabled-fill-color: #AAA;\n",
              "      --disabled-bg-color: #DDD;\n",
              "  }\n",
              "\n",
              "  [theme=dark] .colab-df-quickchart {\n",
              "      --bg-color: #3B4455;\n",
              "      --fill-color: #D2E3FC;\n",
              "      --hover-bg-color: #434B5C;\n",
              "      --hover-fill-color: #FFFFFF;\n",
              "      --disabled-bg-color: #3B4455;\n",
              "      --disabled-fill-color: #666;\n",
              "  }\n",
              "\n",
              "  .colab-df-quickchart {\n",
              "    background-color: var(--bg-color);\n",
              "    border: none;\n",
              "    border-radius: 50%;\n",
              "    cursor: pointer;\n",
              "    display: none;\n",
              "    fill: var(--fill-color);\n",
              "    height: 32px;\n",
              "    padding: 0;\n",
              "    width: 32px;\n",
              "  }\n",
              "\n",
              "  .colab-df-quickchart:hover {\n",
              "    background-color: var(--hover-bg-color);\n",
              "    box-shadow: 0 1px 2px rgba(60, 64, 67, 0.3), 0 1px 3px 1px rgba(60, 64, 67, 0.15);\n",
              "    fill: var(--button-hover-fill-color);\n",
              "  }\n",
              "\n",
              "  .colab-df-quickchart-complete:disabled,\n",
              "  .colab-df-quickchart-complete:disabled:hover {\n",
              "    background-color: var(--disabled-bg-color);\n",
              "    fill: var(--disabled-fill-color);\n",
              "    box-shadow: none;\n",
              "  }\n",
              "\n",
              "  .colab-df-spinner {\n",
              "    border: 2px solid var(--fill-color);\n",
              "    border-color: transparent;\n",
              "    border-bottom-color: var(--fill-color);\n",
              "    animation:\n",
              "      spin 1s steps(1) infinite;\n",
              "  }\n",
              "\n",
              "  @keyframes spin {\n",
              "    0% {\n",
              "      border-color: transparent;\n",
              "      border-bottom-color: var(--fill-color);\n",
              "      border-left-color: var(--fill-color);\n",
              "    }\n",
              "    20% {\n",
              "      border-color: transparent;\n",
              "      border-left-color: var(--fill-color);\n",
              "      border-top-color: var(--fill-color);\n",
              "    }\n",
              "    30% {\n",
              "      border-color: transparent;\n",
              "      border-left-color: var(--fill-color);\n",
              "      border-top-color: var(--fill-color);\n",
              "      border-right-color: var(--fill-color);\n",
              "    }\n",
              "    40% {\n",
              "      border-color: transparent;\n",
              "      border-right-color: var(--fill-color);\n",
              "      border-top-color: var(--fill-color);\n",
              "    }\n",
              "    60% {\n",
              "      border-color: transparent;\n",
              "      border-right-color: var(--fill-color);\n",
              "    }\n",
              "    80% {\n",
              "      border-color: transparent;\n",
              "      border-right-color: var(--fill-color);\n",
              "      border-bottom-color: var(--fill-color);\n",
              "    }\n",
              "    90% {\n",
              "      border-color: transparent;\n",
              "      border-bottom-color: var(--fill-color);\n",
              "    }\n",
              "  }\n",
              "</style>\n",
              "\n",
              "  <script>\n",
              "    async function quickchart(key) {\n",
              "      const quickchartButtonEl =\n",
              "        document.querySelector('#' + key + ' button');\n",
              "      quickchartButtonEl.disabled = true;  // To prevent multiple clicks.\n",
              "      quickchartButtonEl.classList.add('colab-df-spinner');\n",
              "      try {\n",
              "        const charts = await google.colab.kernel.invokeFunction(\n",
              "            'suggestCharts', [key], {});\n",
              "      } catch (error) {\n",
              "        console.error('Error during call to suggestCharts:', error);\n",
              "      }\n",
              "      quickchartButtonEl.classList.remove('colab-df-spinner');\n",
              "      quickchartButtonEl.classList.add('colab-df-quickchart-complete');\n",
              "    }\n",
              "    (() => {\n",
              "      let quickchartButtonEl =\n",
              "        document.querySelector('#df-dca37dff-941d-4b1f-a733-e47ffe30754c button');\n",
              "      quickchartButtonEl.style.display =\n",
              "        google.colab.kernel.accessAllowed ? 'block' : 'none';\n",
              "    })();\n",
              "  </script>\n",
              "</div>\n",
              "    </div>\n",
              "  </div>\n"
            ]
          },
          "metadata": {},
          "execution_count": 43
        }
      ]
    },
    {
      "cell_type": "code",
      "metadata": {
        "id": "-YB6B4CvmNJ8",
        "colab": {
          "base_uri": "https://localhost:8080/"
        },
        "outputId": "2cc77266-23d2-49cc-8fc6-1dc38f429089"
      },
      "source": [
        "len(df)"
      ],
      "execution_count": null,
      "outputs": [
        {
          "output_type": "execute_result",
          "data": {
            "text/plain": [
              "226834"
            ]
          },
          "metadata": {},
          "execution_count": 44
        }
      ]
    },
    {
      "cell_type": "markdown",
      "metadata": {
        "id": "5jtZR-uYX-tA"
      },
      "source": [
        "Проведем стандартный препроцессинг:"
      ]
    },
    {
      "cell_type": "code",
      "metadata": {
        "id": "sI706u75jFdq",
        "colab": {
          "base_uri": "https://localhost:8080/"
        },
        "outputId": "79aaa371-b131-4028-e61d-c14c3ae62652"
      },
      "source": [
        "! pip install pymorphy2"
      ],
      "execution_count": null,
      "outputs": [
        {
          "output_type": "stream",
          "name": "stdout",
          "text": [
            "Collecting pymorphy2\n",
            "  Downloading pymorphy2-0.9.1-py3-none-any.whl (55 kB)\n",
            "\u001b[?25l     \u001b[90m━━━━━━━━━━━━━━━━━━━━━━━━━━━━━━━━━━━━━━━━\u001b[0m \u001b[32m0.0/55.5 kB\u001b[0m \u001b[31m?\u001b[0m eta \u001b[36m-:--:--\u001b[0m\r\u001b[2K     \u001b[90m━━━━━━━━━━━━━━━━━━━━━━━━━━━━━━━━━━━━━━━━\u001b[0m \u001b[32m55.5/55.5 kB\u001b[0m \u001b[31m1.5 MB/s\u001b[0m eta \u001b[36m0:00:00\u001b[0m\n",
            "\u001b[?25hCollecting dawg-python>=0.7.1 (from pymorphy2)\n",
            "  Downloading DAWG_Python-0.7.2-py2.py3-none-any.whl (11 kB)\n",
            "Collecting pymorphy2-dicts-ru<3.0,>=2.4 (from pymorphy2)\n",
            "  Downloading pymorphy2_dicts_ru-2.4.417127.4579844-py2.py3-none-any.whl (8.2 MB)\n",
            "\u001b[2K     \u001b[90m━━━━━━━━━━━━━━━━━━━━━━━━━━━━━━━━━━━━━━━━\u001b[0m \u001b[32m8.2/8.2 MB\u001b[0m \u001b[31m20.6 MB/s\u001b[0m eta \u001b[36m0:00:00\u001b[0m\n",
            "\u001b[?25hCollecting docopt>=0.6 (from pymorphy2)\n",
            "  Downloading docopt-0.6.2.tar.gz (25 kB)\n",
            "  Preparing metadata (setup.py) ... \u001b[?25l\u001b[?25hdone\n",
            "Building wheels for collected packages: docopt\n",
            "  Building wheel for docopt (setup.py) ... \u001b[?25l\u001b[?25hdone\n",
            "  Created wheel for docopt: filename=docopt-0.6.2-py2.py3-none-any.whl size=13705 sha256=0c5dfe70271e3b9608281442188de9272129e581227b6b0ec86ef90bf264ea33\n",
            "  Stored in directory: /root/.cache/pip/wheels/fc/ab/d4/5da2067ac95b36618c629a5f93f809425700506f72c9732fac\n",
            "Successfully built docopt\n",
            "Installing collected packages: pymorphy2-dicts-ru, docopt, dawg-python, pymorphy2\n",
            "Successfully installed dawg-python-0.7.2 docopt-0.6.2 pymorphy2-0.9.1 pymorphy2-dicts-ru-2.4.417127.4579844\n"
          ]
        }
      ]
    },
    {
      "cell_type": "code",
      "metadata": {
        "id": "3qAiiLvsX-tB"
      },
      "source": [
        "import pymorphy2\n",
        "from functools import lru_cache\n",
        "from multiprocessing import Pool\n",
        "import numpy as np\n",
        "from sklearn.model_selection import train_test_split\n",
        "from tqdm import tqdm_notebook as tqdm\n",
        "import re\n",
        "\n",
        "m = pymorphy2.MorphAnalyzer()\n",
        "\n",
        "regex = re.compile(\"[А-Яа-я:=!\\)\\()A-z\\_\\%/|]+\")\n",
        "\n",
        "def words_only(text, regex=regex):\n",
        "    try:\n",
        "        return regex.findall(text)\n",
        "    except:\n",
        "        return []"
      ],
      "execution_count": null,
      "outputs": []
    },
    {
      "cell_type": "code",
      "metadata": {
        "id": "9zakhvVrX-tC"
      },
      "source": [
        "#@lru_cache(maxsize=128)\n",
        "# если вы работаете на колабе, можно заменить pymorphy на mystem и раскомментировать первую строку про lru_cache\n",
        "def lemmatize(text, pymorphy=m):\n",
        "    try:\n",
        "        return \" \".join([pymorphy.parse(w)[0].normal_form for w in text])\n",
        "    except:\n",
        "        return \" \""
      ],
      "execution_count": null,
      "outputs": []
    },
    {
      "cell_type": "code",
      "metadata": {
        "id": "nDQdq4MLX-tE"
      },
      "source": [
        "def clean_text(text):\n",
        "    return lemmatize(words_only(text))"
      ],
      "execution_count": null,
      "outputs": []
    },
    {
      "cell_type": "code",
      "metadata": {
        "id": "fj6dS127X-tG",
        "colab": {
          "base_uri": "https://localhost:8080/",
          "height": 531,
          "referenced_widgets": [
            "232ab4671cac4a94b5383af4777065ff",
            "e38c5a25c7484ba9a3e647e62bd61f01",
            "438f6c22cc0a40beb0df8a8f1569fd7a",
            "a61ac167fa8846b1acf7c2ad4559fb59",
            "079d552bbaba4bef81b2b94df988a21c",
            "2eeadd8e62bb478aa00c9bebdea8929b",
            "05c28f759d0a4b4e825cbe2a7b703c62",
            "4d46ff75154c4a9eba66387cf3a5a835",
            "e0bbd4d09ed5437580cfa79790eb5846",
            "f409c1e4dc8e4c80b44e8d40bb2478ba",
            "79f434dd78f84dfd9b1c65b710f4b3c9"
          ]
        },
        "outputId": "b6274e73-d969-4112-e0df-b9f44283d84a"
      },
      "source": [
        "with Pool(8) as p:\n",
        "    lemmas = list(tqdm(p.imap(clean_text, df['text']), total=len(df)))\n",
        "\n",
        "\n",
        "df['lemmas'] = lemmas\n",
        "df.head()"
      ],
      "execution_count": null,
      "outputs": [
        {
          "output_type": "stream",
          "name": "stderr",
          "text": [
            "<ipython-input-73-f45f36ff0d3c>:2: TqdmDeprecationWarning: This function will be removed in tqdm==5.0.0\n",
            "Please use `tqdm.notebook.tqdm` instead of `tqdm.tqdm_notebook`\n",
            "  lemmas = list(tqdm(p.imap(clean_text, df['text']), total=len(df)))\n"
          ]
        },
        {
          "output_type": "display_data",
          "data": {
            "text/plain": [
              "  0%|          | 0/226834 [00:00<?, ?it/s]"
            ],
            "application/vnd.jupyter.widget-view+json": {
              "version_major": 2,
              "version_minor": 0,
              "model_id": "232ab4671cac4a94b5383af4777065ff"
            }
          },
          "metadata": {}
        },
        {
          "output_type": "error",
          "ename": "KeyboardInterrupt",
          "evalue": "ignored",
          "traceback": [
            "\u001b[0;31m---------------------------------------------------------------------------\u001b[0m",
            "\u001b[0;31mIndexError\u001b[0m                                Traceback (most recent call last)",
            "\u001b[0;32m/usr/lib/python3.10/multiprocessing/pool.py\u001b[0m in \u001b[0;36mnext\u001b[0;34m(self, timeout)\u001b[0m\n\u001b[1;32m    855\u001b[0m             \u001b[0;32mtry\u001b[0m\u001b[0;34m:\u001b[0m\u001b[0;34m\u001b[0m\u001b[0;34m\u001b[0m\u001b[0m\n\u001b[0;32m--> 856\u001b[0;31m                 \u001b[0mitem\u001b[0m \u001b[0;34m=\u001b[0m \u001b[0mself\u001b[0m\u001b[0;34m.\u001b[0m\u001b[0m_items\u001b[0m\u001b[0;34m.\u001b[0m\u001b[0mpopleft\u001b[0m\u001b[0;34m(\u001b[0m\u001b[0;34m)\u001b[0m\u001b[0;34m\u001b[0m\u001b[0;34m\u001b[0m\u001b[0m\n\u001b[0m\u001b[1;32m    857\u001b[0m             \u001b[0;32mexcept\u001b[0m \u001b[0mIndexError\u001b[0m\u001b[0;34m:\u001b[0m\u001b[0;34m\u001b[0m\u001b[0;34m\u001b[0m\u001b[0m\n",
            "\u001b[0;31mIndexError\u001b[0m: pop from an empty deque",
            "\nDuring handling of the above exception, another exception occurred:\n",
            "\u001b[0;31mKeyboardInterrupt\u001b[0m                         Traceback (most recent call last)",
            "\u001b[0;32m<ipython-input-73-f45f36ff0d3c>\u001b[0m in \u001b[0;36m<cell line: 1>\u001b[0;34m()\u001b[0m\n\u001b[1;32m      1\u001b[0m \u001b[0;32mwith\u001b[0m \u001b[0mPool\u001b[0m\u001b[0;34m(\u001b[0m\u001b[0;36m8\u001b[0m\u001b[0;34m)\u001b[0m \u001b[0;32mas\u001b[0m \u001b[0mp\u001b[0m\u001b[0;34m:\u001b[0m\u001b[0;34m\u001b[0m\u001b[0;34m\u001b[0m\u001b[0m\n\u001b[0;32m----> 2\u001b[0;31m     \u001b[0mlemmas\u001b[0m \u001b[0;34m=\u001b[0m \u001b[0mlist\u001b[0m\u001b[0;34m(\u001b[0m\u001b[0mtqdm\u001b[0m\u001b[0;34m(\u001b[0m\u001b[0mp\u001b[0m\u001b[0;34m.\u001b[0m\u001b[0mimap\u001b[0m\u001b[0;34m(\u001b[0m\u001b[0mclean_text\u001b[0m\u001b[0;34m,\u001b[0m \u001b[0mdf\u001b[0m\u001b[0;34m[\u001b[0m\u001b[0;34m'text'\u001b[0m\u001b[0;34m]\u001b[0m\u001b[0;34m)\u001b[0m\u001b[0;34m,\u001b[0m \u001b[0mtotal\u001b[0m\u001b[0;34m=\u001b[0m\u001b[0mlen\u001b[0m\u001b[0;34m(\u001b[0m\u001b[0mdf\u001b[0m\u001b[0;34m)\u001b[0m\u001b[0;34m)\u001b[0m\u001b[0;34m)\u001b[0m\u001b[0;34m\u001b[0m\u001b[0;34m\u001b[0m\u001b[0m\n\u001b[0m\u001b[1;32m      3\u001b[0m \u001b[0;34m\u001b[0m\u001b[0m\n\u001b[1;32m      4\u001b[0m \u001b[0;34m\u001b[0m\u001b[0m\n\u001b[1;32m      5\u001b[0m \u001b[0mdf\u001b[0m\u001b[0;34m[\u001b[0m\u001b[0;34m'lemmas'\u001b[0m\u001b[0;34m]\u001b[0m \u001b[0;34m=\u001b[0m \u001b[0mlemmas\u001b[0m\u001b[0;34m\u001b[0m\u001b[0;34m\u001b[0m\u001b[0m\n",
            "\u001b[0;32m/usr/local/lib/python3.10/dist-packages/tqdm/notebook.py\u001b[0m in \u001b[0;36m__iter__\u001b[0;34m(self)\u001b[0m\n\u001b[1;32m    247\u001b[0m         \u001b[0;32mtry\u001b[0m\u001b[0;34m:\u001b[0m\u001b[0;34m\u001b[0m\u001b[0;34m\u001b[0m\u001b[0m\n\u001b[1;32m    248\u001b[0m             \u001b[0mit\u001b[0m \u001b[0;34m=\u001b[0m \u001b[0msuper\u001b[0m\u001b[0;34m(\u001b[0m\u001b[0mtqdm_notebook\u001b[0m\u001b[0;34m,\u001b[0m \u001b[0mself\u001b[0m\u001b[0;34m)\u001b[0m\u001b[0;34m.\u001b[0m\u001b[0m__iter__\u001b[0m\u001b[0;34m(\u001b[0m\u001b[0;34m)\u001b[0m\u001b[0;34m\u001b[0m\u001b[0;34m\u001b[0m\u001b[0m\n\u001b[0;32m--> 249\u001b[0;31m             \u001b[0;32mfor\u001b[0m \u001b[0mobj\u001b[0m \u001b[0;32min\u001b[0m \u001b[0mit\u001b[0m\u001b[0;34m:\u001b[0m\u001b[0;34m\u001b[0m\u001b[0;34m\u001b[0m\u001b[0m\n\u001b[0m\u001b[1;32m    250\u001b[0m                 \u001b[0;31m# return super(tqdm...) will not catch exception\u001b[0m\u001b[0;34m\u001b[0m\u001b[0;34m\u001b[0m\u001b[0m\n\u001b[1;32m    251\u001b[0m                 \u001b[0;32myield\u001b[0m \u001b[0mobj\u001b[0m\u001b[0;34m\u001b[0m\u001b[0;34m\u001b[0m\u001b[0m\n",
            "\u001b[0;32m/usr/local/lib/python3.10/dist-packages/tqdm/std.py\u001b[0m in \u001b[0;36m__iter__\u001b[0;34m(self)\u001b[0m\n\u001b[1;32m   1180\u001b[0m \u001b[0;34m\u001b[0m\u001b[0m\n\u001b[1;32m   1181\u001b[0m         \u001b[0;32mtry\u001b[0m\u001b[0;34m:\u001b[0m\u001b[0;34m\u001b[0m\u001b[0;34m\u001b[0m\u001b[0m\n\u001b[0;32m-> 1182\u001b[0;31m             \u001b[0;32mfor\u001b[0m \u001b[0mobj\u001b[0m \u001b[0;32min\u001b[0m \u001b[0miterable\u001b[0m\u001b[0;34m:\u001b[0m\u001b[0;34m\u001b[0m\u001b[0;34m\u001b[0m\u001b[0m\n\u001b[0m\u001b[1;32m   1183\u001b[0m                 \u001b[0;32myield\u001b[0m \u001b[0mobj\u001b[0m\u001b[0;34m\u001b[0m\u001b[0;34m\u001b[0m\u001b[0m\n\u001b[1;32m   1184\u001b[0m                 \u001b[0;31m# Update and possibly print the progressbar.\u001b[0m\u001b[0;34m\u001b[0m\u001b[0;34m\u001b[0m\u001b[0m\n",
            "\u001b[0;32m/usr/lib/python3.10/multiprocessing/pool.py\u001b[0m in \u001b[0;36mnext\u001b[0;34m(self, timeout)\u001b[0m\n\u001b[1;32m    859\u001b[0m                     \u001b[0mself\u001b[0m\u001b[0;34m.\u001b[0m\u001b[0m_pool\u001b[0m \u001b[0;34m=\u001b[0m \u001b[0;32mNone\u001b[0m\u001b[0;34m\u001b[0m\u001b[0;34m\u001b[0m\u001b[0m\n\u001b[1;32m    860\u001b[0m                     \u001b[0;32mraise\u001b[0m \u001b[0mStopIteration\u001b[0m \u001b[0;32mfrom\u001b[0m \u001b[0;32mNone\u001b[0m\u001b[0;34m\u001b[0m\u001b[0;34m\u001b[0m\u001b[0m\n\u001b[0;32m--> 861\u001b[0;31m                 \u001b[0mself\u001b[0m\u001b[0;34m.\u001b[0m\u001b[0m_cond\u001b[0m\u001b[0;34m.\u001b[0m\u001b[0mwait\u001b[0m\u001b[0;34m(\u001b[0m\u001b[0mtimeout\u001b[0m\u001b[0;34m)\u001b[0m\u001b[0;34m\u001b[0m\u001b[0;34m\u001b[0m\u001b[0m\n\u001b[0m\u001b[1;32m    862\u001b[0m                 \u001b[0;32mtry\u001b[0m\u001b[0;34m:\u001b[0m\u001b[0;34m\u001b[0m\u001b[0;34m\u001b[0m\u001b[0m\n\u001b[1;32m    863\u001b[0m                     \u001b[0mitem\u001b[0m \u001b[0;34m=\u001b[0m \u001b[0mself\u001b[0m\u001b[0;34m.\u001b[0m\u001b[0m_items\u001b[0m\u001b[0;34m.\u001b[0m\u001b[0mpopleft\u001b[0m\u001b[0;34m(\u001b[0m\u001b[0;34m)\u001b[0m\u001b[0;34m\u001b[0m\u001b[0;34m\u001b[0m\u001b[0m\n",
            "\u001b[0;32m/usr/lib/python3.10/threading.py\u001b[0m in \u001b[0;36mwait\u001b[0;34m(self, timeout)\u001b[0m\n\u001b[1;32m    318\u001b[0m         \u001b[0;32mtry\u001b[0m\u001b[0;34m:\u001b[0m    \u001b[0;31m# restore state no matter what (e.g., KeyboardInterrupt)\u001b[0m\u001b[0;34m\u001b[0m\u001b[0;34m\u001b[0m\u001b[0m\n\u001b[1;32m    319\u001b[0m             \u001b[0;32mif\u001b[0m \u001b[0mtimeout\u001b[0m \u001b[0;32mis\u001b[0m \u001b[0;32mNone\u001b[0m\u001b[0;34m:\u001b[0m\u001b[0;34m\u001b[0m\u001b[0;34m\u001b[0m\u001b[0m\n\u001b[0;32m--> 320\u001b[0;31m                 \u001b[0mwaiter\u001b[0m\u001b[0;34m.\u001b[0m\u001b[0macquire\u001b[0m\u001b[0;34m(\u001b[0m\u001b[0;34m)\u001b[0m\u001b[0;34m\u001b[0m\u001b[0;34m\u001b[0m\u001b[0m\n\u001b[0m\u001b[1;32m    321\u001b[0m                 \u001b[0mgotit\u001b[0m \u001b[0;34m=\u001b[0m \u001b[0;32mTrue\u001b[0m\u001b[0;34m\u001b[0m\u001b[0;34m\u001b[0m\u001b[0m\n\u001b[1;32m    322\u001b[0m             \u001b[0;32melse\u001b[0m\u001b[0;34m:\u001b[0m\u001b[0;34m\u001b[0m\u001b[0;34m\u001b[0m\u001b[0m\n",
            "\u001b[0;31mKeyboardInterrupt\u001b[0m: "
          ]
        }
      ]
    },
    {
      "cell_type": "markdown",
      "metadata": {
        "id": "3QuPeLrvX-tI"
      },
      "source": [
        "Запишем полученные данные в формате для обучения классификатора:"
      ]
    },
    {
      "cell_type": "code",
      "metadata": {
        "id": "AGOFQSekX-tI",
        "colab": {
          "base_uri": "https://localhost:8080/"
        },
        "outputId": "784c9bbf-68a9-432e-86a6-660aeea5b9ff"
      },
      "source": [
        "X = df.lemmas.tolist()\n",
        "y = df.label.tolist()\n",
        "\n",
        "X, y = np.array(X), np.array(y)\n",
        "\n",
        "X_train, X_test, y_train, y_test = train_test_split(X,y, test_size=0.33)\n",
        "print (\"total train examples %s\" % len(y_train))\n",
        "print (\"total test examples %s\" % len(y_test))"
      ],
      "execution_count": null,
      "outputs": [
        {
          "output_type": "stream",
          "name": "stdout",
          "text": [
            "total train examples 151978\n",
            "total test examples 74856\n"
          ]
        }
      ]
    },
    {
      "cell_type": "code",
      "metadata": {
        "id": "mogTwRfnX-tK"
      },
      "source": [
        "with open('data.train.txt', 'w+') as outfile:\n",
        "    for i in range(len(X_train)):\n",
        "        outfile.write('__label__' + y_train[i] + ' '+ X_train[i] + '\\n')\n",
        "\n",
        "\n",
        "with open('test.txt', 'w+') as outfile:\n",
        "    for i in range(len(X_test)):\n",
        "        outfile.write('__label__' + y_test[i] + ' ' + X_test[i] + '\\n')"
      ],
      "execution_count": null,
      "outputs": []
    },
    {
      "cell_type": "code",
      "metadata": {
        "id": "u0rt2mhjX-tL",
        "colab": {
          "base_uri": "https://localhost:8080/"
        },
        "outputId": "113fecd1-4ec0-434d-834b-4c0237f05fac"
      },
      "source": [
        "classifier = fasttext.train_supervised('data.train.txt')\n",
        "result = classifier.test('test.txt')\n",
        "\n",
        "print('P@1:', result[1])\n",
        "print('R@1:', result[2])\n",
        "print('Number of examples:', result[0])"
      ],
      "execution_count": null,
      "outputs": [
        {
          "output_type": "stream",
          "name": "stdout",
          "text": [
            "P@1: 0.8984717323928609\n",
            "R@1: 0.8984717323928609\n",
            "Number of examples: 74856\n"
          ]
        }
      ]
    },
    {
      "cell_type": "code",
      "metadata": {
        "id": "5NSv9Mo9X-tT"
      },
      "source": [],
      "execution_count": null,
      "outputs": []
    }
  ]
}