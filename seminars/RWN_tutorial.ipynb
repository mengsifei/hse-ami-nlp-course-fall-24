{
  "cells": [
    {
      "cell_type": "code",
      "execution_count": 1,
      "metadata": {
        "colab": {
          "base_uri": "https://localhost:8080/"
        },
        "id": "VW_GpYjT6CbT",
        "outputId": "a647b2e5-8983-4066-82df-11a77b2b44d2"
      },
      "outputs": [
        {
          "output_type": "stream",
          "name": "stdout",
          "text": [
            "Looking in indexes: https://pypi.org/simple, https://us-python.pkg.dev/colab-wheels/public/simple/\n",
            "Requirement already satisfied: numpy in /usr/local/lib/python3.7/dist-packages (1.21.6)\n",
            "Requirement already satisfied: scikit-learn in /usr/local/lib/python3.7/dist-packages (1.0.2)\n",
            "Requirement already satisfied: compress-fasttext in /usr/local/lib/python3.7/dist-packages (0.1.3)\n",
            "Requirement already satisfied: xmltodict in /usr/local/lib/python3.7/dist-packages (0.13.0)\n",
            "Requirement already satisfied: matplotlib in /usr/local/lib/python3.7/dist-packages (3.2.2)\n",
            "Requirement already satisfied: scipy>=1.1.0 in /usr/local/lib/python3.7/dist-packages (from scikit-learn) (1.7.3)\n",
            "Requirement already satisfied: threadpoolctl>=2.0.0 in /usr/local/lib/python3.7/dist-packages (from scikit-learn) (3.1.0)\n",
            "Requirement already satisfied: joblib>=0.11 in /usr/local/lib/python3.7/dist-packages (from scikit-learn) (1.2.0)\n",
            "Requirement already satisfied: gensim>=4.0.0 in /usr/local/lib/python3.7/dist-packages (from compress-fasttext) (4.2.0)\n",
            "Requirement already satisfied: smart-open>=1.8.1 in /usr/local/lib/python3.7/dist-packages (from gensim>=4.0.0->compress-fasttext) (5.2.1)\n",
            "Requirement already satisfied: kiwisolver>=1.0.1 in /usr/local/lib/python3.7/dist-packages (from matplotlib) (1.4.4)\n",
            "Requirement already satisfied: pyparsing!=2.0.4,!=2.1.2,!=2.1.6,>=2.0.1 in /usr/local/lib/python3.7/dist-packages (from matplotlib) (3.0.9)\n",
            "Requirement already satisfied: cycler>=0.10 in /usr/local/lib/python3.7/dist-packages (from matplotlib) (0.11.0)\n",
            "Requirement already satisfied: python-dateutil>=2.1 in /usr/local/lib/python3.7/dist-packages (from matplotlib) (2.8.2)\n",
            "Requirement already satisfied: typing-extensions in /usr/local/lib/python3.7/dist-packages (from kiwisolver>=1.0.1->matplotlib) (4.1.1)\n",
            "Requirement already satisfied: six>=1.5 in /usr/local/lib/python3.7/dist-packages (from python-dateutil>=2.1->matplotlib) (1.15.0)\n"
          ]
        }
      ],
      "source": [
        "!pip install numpy scikit-learn compress-fasttext xmltodict matplotlib"
      ]
    },
    {
      "cell_type": "code",
      "execution_count": 2,
      "metadata": {
        "colab": {
          "base_uri": "https://localhost:8080/"
        },
        "id": "Vhoqiu316Cba",
        "outputId": "06d9a789-7b7a-4b79-a723-0ea5920fb9e1"
      },
      "outputs": [
        {
          "output_type": "stream",
          "name": "stdout",
          "text": [
            "Looking in indexes: https://pypi.org/simple, https://us-python.pkg.dev/colab-wheels/public/simple/\n",
            "Requirement already satisfied: ruwordnet in /usr/local/lib/python3.7/dist-packages (0.0.5)\n",
            "Requirement already satisfied: sqlalchemy in /usr/local/lib/python3.7/dist-packages (from ruwordnet) (1.4.44)\n",
            "Requirement already satisfied: importlib-metadata in /usr/local/lib/python3.7/dist-packages (from sqlalchemy->ruwordnet) (4.13.0)\n",
            "Requirement already satisfied: greenlet!=0.4.17 in /usr/local/lib/python3.7/dist-packages (from sqlalchemy->ruwordnet) (2.0.1)\n",
            "Requirement already satisfied: typing-extensions>=3.6.4 in /usr/local/lib/python3.7/dist-packages (from importlib-metadata->sqlalchemy->ruwordnet) (4.1.1)\n",
            "Requirement already satisfied: zipp>=0.5 in /usr/local/lib/python3.7/dist-packages (from importlib-metadata->sqlalchemy->ruwordnet) (3.10.0)\n",
            "downloading a ruwordnet model from https://github.com/avidale/python-ruwordnet/releases/download/0.0.4/ruwordnet-2021.db\n"
          ]
        }
      ],
      "source": [
        "!pip install ruwordnet\n",
        "!ruwordnet download\n",
        "from ruwordnet import RuWordNet\n",
        "wn = RuWordNet()"
      ]
    },
    {
      "cell_type": "code",
      "execution_count": 3,
      "metadata": {
        "colab": {
          "base_uri": "https://localhost:8080/"
        },
        "id": "NNComBLP6Cbf",
        "outputId": "e2370620-a764-47f3-f0f8-de3b82de7e96"
      },
      "outputs": [
        {
          "output_type": "execute_result",
          "data": {
            "text/plain": [
              "(59905, 154111)"
            ]
          },
          "metadata": {},
          "execution_count": 3
        }
      ],
      "source": [
        "len(wn.synsets), len(wn.senses)"
      ]
    },
    {
      "cell_type": "markdown",
      "metadata": {
        "id": "124cala-6Cbk"
      },
      "source": [
        "# Using the thesaurus"
      ]
    },
    {
      "cell_type": "code",
      "execution_count": 24,
      "metadata": {
        "colab": {
          "base_uri": "https://localhost:8080/"
        },
        "id": "Z0dulGWc6Cbp",
        "outputId": "affbb251-001e-4e2e-da31-bac507bf9db9"
      },
      "outputs": [
        {
          "output_type": "stream",
          "name": "stdout",
          "text": [
            "Synset(id=\"132692-N\", title=\"МОДЕЛЬ ОПИСАНИЯ\")\n",
            "Synset(id=\"148863-N\", title=\"МОДЕЛЬ ДЛЯ ПОЗИРОВАНИЯ\")\n",
            "Synset(id=\"106525-N\", title=\"МОДЕЛЬ ДЛЯ ИЗГОТОВЛЕНИЯ\")\n",
            "Synset(id=\"106526-N\", title=\"МОДЕЛЬ, МАКЕТ (УМЕНЬШЕННОЕ ВОСПРОИЗВЕДЕНИЕ)\")\n",
            "Synset(id=\"106892-N\", title=\"МАРКА, МОДЕЛЬ, ОБРАЗЕЦ\")\n",
            "Synset(id=\"8589-N\", title=\"МАНЕКЕНЩИЦА\")\n"
          ]
        }
      ],
      "source": [
        "for sense in wn.get_senses('модель'):\n",
        "    print(sense.synset)"
      ]
    },
    {
      "cell_type": "code",
      "execution_count": 16,
      "metadata": {
        "colab": {
          "base_uri": "https://localhost:8080/"
        },
        "id": "4d860J876Cbu",
        "outputId": "45eef4ac-271f-4a84-b3e0-74c33b6a84ef"
      },
      "outputs": [
        {
          "output_type": "execute_result",
          "data": {
            "text/plain": [
              "[Synset(id=\"113935-N\", title=\"ДВОРЕЦ\"),\n",
              " Synset(id=\"124420-N\", title=\"КРЕПОСТЬ (ОБОРОНИТЕЛЬНОЕ СООРУЖЕНИЕ)\")]"
            ]
          },
          "metadata": {},
          "execution_count": 16
        }
      ],
      "source": [
        "wn.get_senses('замок')[0].synset.hypernyms"
      ]
    },
    {
      "cell_type": "code",
      "execution_count": 13,
      "metadata": {
        "colab": {
          "base_uri": "https://localhost:8080/"
        },
        "id": "Jjiv7W5s6Cbx",
        "outputId": "400dc0e1-8e38-46ee-f836-6851cffccca2"
      },
      "outputs": [
        {
          "output_type": "execute_result",
          "data": {
            "text/plain": [
              "[Synset(id=\"348-N\", title=\"ОВОЩИ\"),\n",
              " Synset(id=\"4789-N\", title=\"ТРАВЯНИСТОЕ РАСТЕНИЕ\"),\n",
              " Synset(id=\"6878-N\", title=\"ОВОЩНАЯ КУЛЬТУРА\")]"
            ]
          },
          "metadata": {},
          "execution_count": 13
        }
      ],
      "source": [
        "wn.get_senses('спаржа')[0].synset.hypernyms"
      ]
    },
    {
      "cell_type": "code",
      "execution_count": 17,
      "metadata": {
        "colab": {
          "base_uri": "https://localhost:8080/"
        },
        "id": "AgfZI4mn6Cb0",
        "outputId": "b1d959f8-c9b7-47c8-ad1c-af14198fbb6e"
      },
      "outputs": [
        {
          "output_type": "execute_result",
          "data": {
            "text/plain": [
              "[Sense(id=\"144242-N-124560\", name=\"АВОКАДО\"),\n",
              " Sense(id=\"144305-N-124560\", name=\"АВОКАДО\"),\n",
              " Sense(id=\"153966-N-124560\", name=\"АВОКАДО\")]"
            ]
          },
          "metadata": {},
          "execution_count": 17
        }
      ],
      "source": [
        "wn.get_senses('авокадо')"
      ]
    },
    {
      "cell_type": "code",
      "execution_count": 18,
      "metadata": {
        "colab": {
          "base_uri": "https://localhost:8080/"
        },
        "id": "b9IO-cOG6Cb4",
        "outputId": "20ed4513-6d03-4798-dc6b-c1a8eeb3f92b"
      },
      "outputs": [
        {
          "output_type": "execute_result",
          "data": {
            "text/plain": [
              "Synset(id=\"348-N\", title=\"ОВОЩИ\")"
            ]
          },
          "metadata": {},
          "execution_count": 18
        }
      ],
      "source": [
        "veg = wn.get_senses('спаржа')[0].synset.hypernyms[0]\n",
        "veg"
      ]
    },
    {
      "cell_type": "code",
      "execution_count": 19,
      "metadata": {
        "colab": {
          "base_uri": "https://localhost:8080/"
        },
        "id": "iC9z-3Mr6Cb8",
        "outputId": "a98a7422-b959-42fb-804a-42de29a77fff"
      },
      "outputs": [
        {
          "output_type": "execute_result",
          "data": {
            "text/plain": [
              "[Synset(id=\"144194-N\", title=\"ТЫКВА (ПЛОД)\"),\n",
              " Synset(id=\"153883-N\", title=\"ЗЕЛЕНЬ (ОВОЩИ)\"),\n",
              " Synset(id=\"144191-N\", title=\"ПОМИДОР (ПЛОД)\"),\n",
              " Synset(id=\"144205-N\", title=\"ПАТИССОН (ПЛОД)\"),\n",
              " Synset(id=\"118660-N\", title=\"ЗЕЛЕНЫЙ ГОРОШЕК\"),\n",
              " Synset(id=\"144182-N\", title=\"ЛУК (РАСТЕНИЕ)\"),\n",
              " Synset(id=\"144207-N\", title=\"СТРУЧКОВЫЙ ПЕРЕЦ (ПЛОД)\"),\n",
              " Synset(id=\"144181-N\", title=\"БАКЛАЖАН (ПЛОД)\"),\n",
              " Synset(id=\"107993-N\", title=\"АРТИШОК\"),\n",
              " Synset(id=\"144216-N\", title=\"КАБАЧОК (ПЛОД)\"),\n",
              " Synset(id=\"144183-N\", title=\"ЧЕСНОК\"),\n",
              " Synset(id=\"108482-N\", title=\"СПАРЖА\"),\n",
              " Synset(id=\"144232-N\", title=\"КОЧАН КАПУСТЫ\"),\n",
              " Synset(id=\"148896-N\", title=\"КОРНЕПЛОДНЫЕ ОВОЩИ\"),\n",
              " Synset(id=\"144184-N\", title=\"ОГУРЕЦ (ПЛОД)\")]"
            ]
          },
          "metadata": {},
          "execution_count": 19
        }
      ],
      "source": [
        "veg.hyponyms"
      ]
    },
    {
      "cell_type": "code",
      "execution_count": 20,
      "metadata": {
        "colab": {
          "base_uri": "https://localhost:8080/"
        },
        "id": "EJWn_Wx-6Cb_",
        "outputId": "2a0c2dce-153a-4c21-a214-6bb240963e26"
      },
      "outputs": [
        {
          "output_type": "execute_result",
          "data": {
            "text/plain": [
              "[Sense(id=\"152327-N-741135\", name=\"ПРОДУКТЫ ПОВСЕДНЕВНОГО СПРОСА\"),\n",
              " Sense(id=\"152327-N-741136\", name=\"ПРОДУКТЫ ПЕРВОЙ НЕОБХОДИМОСТИ\")]"
            ]
          },
          "metadata": {},
          "execution_count": 20
        }
      ],
      "source": [
        "wn.get_senses('продукт')[0].synset.hyponyms[0].senses"
      ]
    },
    {
      "cell_type": "markdown",
      "metadata": {
        "id": "3tMk2EOo6CcD"
      },
      "source": [
        "## More relations"
      ]
    },
    {
      "cell_type": "markdown",
      "metadata": {
        "id": "ayj1BEWE6CcG"
      },
      "source": [
        "Домен - атрибут"
      ]
    },
    {
      "cell_type": "code",
      "execution_count": 28,
      "metadata": {
        "colab": {
          "base_uri": "https://localhost:8080/"
        },
        "id": "HlPrZgsP6CcH",
        "outputId": "35cd0ff7-f7a9-4722-cf37-a6dcbc854ec4"
      },
      "outputs": [
        {
          "output_type": "stream",
          "name": "stdout",
          "text": [
            "[Synset(id=\"1047-N\", title=\"МЕДИЦИНА\"), Synset(id=\"1607-N\", title=\"СФЕРА ОБРАЗОВАНИЯ\")]\n"
          ]
        }
      ],
      "source": [
        "print(wn['интернатура'][0].synset.domains)"
      ]
    },
    {
      "cell_type": "code",
      "execution_count": 27,
      "metadata": {
        "colab": {
          "base_uri": "https://localhost:8080/"
        },
        "id": "nyH9GtJ16CcK",
        "outputId": "10da61a0-6794-441b-d23e-06e7efc575c2"
      },
      "outputs": [
        {
          "output_type": "stream",
          "name": "stdout",
          "text": [
            "[Synset(id=\"137125-N\", title=\"КАТЕТЕР\"), Synset(id=\"110959-A\", title=\"СМОЛА ДЕРЕВА\"), Synset(id=\"3373-A\", title=\"АЛКОГОЛИЗМ\"), Synset(id=\"7514-A\", title=\"ИММУНИЗАЦИЯ\"), Synset(id=\"133432-N\", title=\"ОТКАЧАТЬ ТОНУВШЕГО\"), Synset(id=\"129454-A\", title=\"СВИЩ, ФИСТУЛА\"), Synset(id=\"9023-N\", title=\"МАЛЯРИЯ\"), Synset(id=\"113873-N\", title=\"ПЛАСТИЧЕСКАЯ ОПЕРАЦИЯ\"), Synset(id=\"108965-N\", title=\"ВЕНЕРИЧЕСКАЯ БОЛЕЗНЬ\"), Synset(id=\"124410-N\", title=\"ИНТЕРНАТУРА\")]\n"
          ]
        }
      ],
      "source": [
        "import random\n",
        "print(random.sample(wn['медицина'][0].synset.domain_items, 10))"
      ]
    },
    {
      "cell_type": "markdown",
      "metadata": {
        "id": "QWX5Z8PY6CcM"
      },
      "source": [
        "Часть - целое"
      ]
    },
    {
      "cell_type": "code",
      "execution_count": 30,
      "metadata": {
        "colab": {
          "base_uri": "https://localhost:8080/"
        },
        "id": "Io-oG6JX6CcN",
        "outputId": "14117fa2-ed0e-4ed8-b17f-40c48fb2ee13"
      },
      "outputs": [
        {
          "output_type": "stream",
          "name": "stdout",
          "text": [
            "[Synset(id=\"145698-N\", title=\"ШИНА ПЕРЕДАЧИ ДАННЫХ\"), Synset(id=\"9693-N\", title=\"ПЕЧАТНАЯ ПЛАТА\"), Synset(id=\"4523-N\", title=\"МАШИННЫЙ НОСИТЕЛЬ\"), Synset(id=\"139570-N\", title=\"КОМПЬЮТЕРНЫЕ АППАРАТНЫЕ СРЕДСТВА\"), Synset(id=\"7650-N\", title=\"ПАМЯТЬ КОМПЬЮТЕРА\")]\n"
          ]
        }
      ],
      "source": [
        "print(wn['компьютер'][0].synset.meronyms)"
      ]
    },
    {
      "cell_type": "code",
      "execution_count": 32,
      "metadata": {
        "colab": {
          "base_uri": "https://localhost:8080/"
        },
        "id": "YOpcZ2z76CcR",
        "outputId": "85af0c4f-fbed-4395-adf3-bbfd888c4f55"
      },
      "outputs": [
        {
          "output_type": "stream",
          "name": "stdout",
          "text": [
            "[Synset(id=\"9691-N\", title=\"КЛАВИШНЫЙ МУЗЫКАЛЬНЫЙ ИНСТРУМЕНТ\")]\n"
          ]
        }
      ],
      "source": [
        "print(wn['клавиша'][0].synset.holonyms)"
      ]
    },
    {
      "cell_type": "markdown",
      "metadata": {
        "id": "ACSm4zSa6CcT"
      },
      "source": [
        "Класс-экземпляр"
      ]
    },
    {
      "cell_type": "code",
      "execution_count": 34,
      "metadata": {
        "colab": {
          "base_uri": "https://localhost:8080/"
        },
        "id": "VNRpSH9q6CcT",
        "outputId": "1086e4f0-bd34-4bd6-fdbb-d52acc88c160"
      },
      "outputs": [
        {
          "output_type": "stream",
          "name": "stdout",
          "text": [
            "[Synset(id=\"134321-N\", title=\"ЦЕНТР ЦЕНТРАЛЬНОГО ФЕДЕРАЛЬНОГО ОКРУГА\"), Synset(id=\"134783-N\", title=\"МЕГАПОЛИС, ГОРОД-МИЛЛИОНЕР\"), Synset(id=\"3208-N\", title=\"СТОЛИЦА ГОСУДАРСТВА\"), Synset(id=\"9923-N\", title=\"ГОРОД ФЕДЕРАЛЬНОГО ЗНАЧЕНИЯ\")]\n"
          ]
        }
      ],
      "source": [
        "print(wn['москва'][0].synset.classes)"
      ]
    },
    {
      "cell_type": "code",
      "execution_count": null,
      "metadata": {
        "colab": {
          "base_uri": "https://localhost:8080/"
        },
        "id": "mRMveqcK6CcV",
        "outputId": "d896a431-3b3b-4aa0-fdac-de089d35568a"
      },
      "outputs": [
        {
          "output_type": "stream",
          "name": "stdout",
          "text": [
            "[Synset(id=\"100244-N\", title=\"БЛАГОВЕЩЕНСК\"), Synset(id=\"102705-N\", title=\"СМОЛЕНСК\"), Synset(id=\"101703-N\", title=\"ЛИПЕЦК\"), Synset(id=\"102521-N\", title=\"РОСТОВ-НА-ДОНУ\"), Synset(id=\"100355-N\", title=\"АСТРАХАНЬ\"), Synset(id=\"102805-N\", title=\"ТАМБОВ\"), Synset(id=\"102962-N\", title=\"УЛЬЯНОВСК\"), Synset(id=\"102918-N\", title=\"ТУЛА\"), Synset(id=\"105766-N\", title=\"ЮЖНО-САХАЛИНСК\"), Synset(id=\"100438-N\", title=\"БЕЛГОРОД\")]\n"
          ]
        }
      ],
      "source": [
        "print(random.sample(wn['областной центр'][0].synset.instances, 10))"
      ]
    },
    {
      "cell_type": "markdown",
      "metadata": {
        "id": "B88lFUzZ6CcW"
      },
      "source": [
        "Предпосылки - выводы"
      ]
    },
    {
      "cell_type": "code",
      "execution_count": 50,
      "metadata": {
        "colab": {
          "base_uri": "https://localhost:8080/"
        },
        "id": "QySoFVqx6CcY",
        "outputId": "65b2a495-7963-4a7b-9ed3-d7c7d4fc50e9"
      },
      "outputs": [
        {
          "output_type": "stream",
          "name": "stdout",
          "text": [
            "[]\n"
          ]
        }
      ],
      "source": [
        "print(wn['соревнование'][0].synset.premises)"
      ]
    },
    {
      "cell_type": "code",
      "execution_count": 43,
      "metadata": {
        "colab": {
          "base_uri": "https://localhost:8080/"
        },
        "id": "qkrBy5_Y6Cca",
        "outputId": "6b23925c-3104-4a6f-fd85-01084d1014dc"
      },
      "outputs": [
        {
          "output_type": "stream",
          "name": "stdout",
          "text": [
            "[Synset(id=\"106961-V\", title=\"СОРЕВНОВАНИЕ, СОСТЯЗАНИЕ\")]\n"
          ]
        }
      ],
      "source": [
        "print(wn['завоевать'][0].synset.conclusions)"
      ]
    },
    {
      "cell_type": "markdown",
      "metadata": {
        "id": "_g_XuXQT6Ccb"
      },
      "source": [
        "Причины-следствия"
      ]
    },
    {
      "cell_type": "code",
      "execution_count": 51,
      "metadata": {
        "colab": {
          "base_uri": "https://localhost:8080/"
        },
        "id": "hBiJytzM6Ccd",
        "outputId": "ad60466c-edac-4b16-e98d-052a8c303ea6"
      },
      "outputs": [
        {
          "output_type": "stream",
          "name": "stdout",
          "text": [
            "[Synset(id=\"114599-V\", title=\"УТОМИТЬ\")]\n"
          ]
        }
      ],
      "source": [
        "print(wn['устать'][0].synset.causes)"
      ]
    },
    {
      "cell_type": "code",
      "execution_count": 55,
      "metadata": {
        "colab": {
          "base_uri": "https://localhost:8080/"
        },
        "id": "82EZY_m46Cce",
        "outputId": "ba9881c9-bbde-44f8-ef54-774a78cb3bb4"
      },
      "outputs": [
        {
          "output_type": "stream",
          "name": "stdout",
          "text": [
            "[Synset(id=\"117320-V\", title=\"УТОМИТЬСЯ, УСТАТЬ\")]\n"
          ]
        }
      ],
      "source": [
        "print(wn['утомить'][0].synset.effects)"
      ]
    },
    {
      "cell_type": "markdown",
      "metadata": {
        "id": "FMGE-tVZ6Ccf"
      },
      "source": [
        "Частеречные синонимы"
      ]
    },
    {
      "cell_type": "code",
      "execution_count": 56,
      "metadata": {
        "id": "ShhCd9GD6Ccg",
        "outputId": "6222c34b-b163-47d8-cf36-5281882ffbfc",
        "colab": {
          "base_uri": "https://localhost:8080/"
        }
      },
      "outputs": [
        {
          "output_type": "execute_result",
          "data": {
            "text/plain": [
              "[Sense(id=\"4628-N-113272\", name=\"УБИЙСТВО\"),\n",
              " Sense(id=\"4628-N-122192\", name=\"НАСИЛЬСТВЕННАЯ СМЕРТЬ\"),\n",
              " Sense(id=\"4628-N-193508\", name=\"МОКРОЕ ДЕЛО\"),\n",
              " Sense(id=\"4628-N-193509\", name=\"МОКРУХА\"),\n",
              " Sense(id=\"4628-N-201792\", name=\"СМЕРТОУБИЙСТВО\"),\n",
              " Sense(id=\"4628-N-723414\", name=\"ЧЕЛОВЕКОУБИЙСТВО\"),\n",
              " Sense(id=\"4628-N-731703\", name=\"УБИЙСТВО ЧЕЛОВЕКА\"),\n",
              " Sense(id=\"4628-N-768279\", name=\"ПРИЧИНЕНИЕ СМЕРТИ\")]"
            ]
          },
          "metadata": {},
          "execution_count": 56
        }
      ],
      "source": [
        "[s for ss in wn['убить'][0].synset.pos_synonyms for s in ss.senses]"
      ]
    },
    {
      "cell_type": "markdown",
      "metadata": {
        "id": "ZWcf2gRr6Cch"
      },
      "source": [
        "антонимы"
      ]
    },
    {
      "cell_type": "code",
      "execution_count": 60,
      "metadata": {
        "id": "lY-MTZXC6Cci",
        "outputId": "1abfe99b-4af7-4dcc-de6a-5e3c8e42933b",
        "colab": {
          "base_uri": "https://localhost:8080/"
        }
      },
      "outputs": [
        {
          "output_type": "execute_result",
          "data": {
            "text/plain": [
              "[Synset(id=\"118869-A\", title=\"ПРОСТОЙ, НЕСЛОЖНЫЙ\")]"
            ]
          },
          "metadata": {},
          "execution_count": 60
        }
      ],
      "source": [
        "wn['сложный'][0].synset.antonyms"
      ]
    },
    {
      "cell_type": "markdown",
      "metadata": {
        "id": "o2ODAFQH6Cck"
      },
      "source": [
        "фразы и их составляющие"
      ]
    },
    {
      "cell_type": "code",
      "execution_count": 63,
      "metadata": {
        "id": "gcdQe8Ai6Ccl",
        "outputId": "780c727c-c6ec-4a30-9ff7-0b08000c1bba",
        "colab": {
          "base_uri": "https://localhost:8080/"
        }
      },
      "outputs": [
        {
          "output_type": "execute_result",
          "data": {
            "text/plain": [
              "[Sense(id=\"126228-N-745965\", name=\"ЗАМОК ФЕОДАЛА\"),\n",
              " Sense(id=\"126228-N-745966\", name=\"СРЕДНЕВЕКОВЫЙ ЗАМОК\")]"
            ]
          },
          "metadata": {},
          "execution_count": 63
        }
      ],
      "source": [
        "wn['замок'][0].phrases"
      ]
    },
    {
      "cell_type": "code",
      "execution_count": 64,
      "metadata": {
        "id": "m1743xjk6Ccn",
        "outputId": "1f59b216-03ea-4f0c-83b5-361ad70451f5",
        "colab": {
          "base_uri": "https://localhost:8080/"
        }
      },
      "outputs": [
        {
          "output_type": "execute_result",
          "data": {
            "text/plain": [
              "[Sense(id=\"106989-N-153921\", name=\"СПИСОК\")]"
            ]
          },
          "metadata": {},
          "execution_count": 64
        }
      ],
      "source": [
        "wn['послужной список'][0].words"
      ]
    },
    {
      "cell_type": "markdown",
      "metadata": {
        "id": "g3BmhBrv6Ccp"
      },
      "source": [
        "Однокоренные слова"
      ]
    },
    {
      "cell_type": "code",
      "execution_count": 70,
      "metadata": {
        "id": "55nH_h-o6Ccq",
        "outputId": "ea87a766-8441-4057-e0dd-b59212bd7935",
        "colab": {
          "base_uri": "https://localhost:8080/"
        }
      },
      "outputs": [
        {
          "output_type": "execute_result",
          "data": {
            "text/plain": [
              "[Sense(id=\"114707-A-138192\", name=\"ЗАМОЧНЫЙ\"),\n",
              " Sense(id=\"114707-N-199170\", name=\"ЗАМОЧЕК\")]"
            ]
          },
          "metadata": {},
          "execution_count": 70
        }
      ],
      "source": [
        "wn['замок'][1].derivations"
      ]
    },
    {
      "cell_type": "markdown",
      "metadata": {
        "id": "KmUtAphx6Ccs"
      },
      "source": [
        "# Predicting hypernyms"
      ]
    },
    {
      "cell_type": "code",
      "execution_count": 3,
      "metadata": {
        "id": "fhgbjgGt6Cct"
      },
      "outputs": [],
      "source": [
        "import numpy as np\n",
        "import compress_fasttext\n",
        "\n",
        "from collections import Counter\n",
        "from sklearn.neighbors import KDTree\n",
        "\n",
        "import matplotlib.pyplot as plt\n",
        "%matplotlib inline"
      ]
    },
    {
      "cell_type": "code",
      "execution_count": 4,
      "metadata": {
        "id": "KdsjyXRX6Ccu"
      },
      "outputs": [],
      "source": [
        "ft = compress_fasttext.models.CompressedFastTextKeyedVectors.load(\n",
        "    'https://github.com/avidale/compress-fasttext/releases/download/gensim-4-draft/geowac_tokens_sg_300_5_2020-100K-20K-100.bin'\n",
        ")"
      ]
    },
    {
      "cell_type": "code",
      "execution_count": 5,
      "metadata": {
        "id": "4_buYT6o6Ccx"
      },
      "outputs": [],
      "source": [
        "def vectorize(text):\n",
        "    vec = np.mean([ft[word] for word in text.lower().split() if len(word) >= 3], axis=0)\n",
        "    vec /= sum(vec**2) ** 0.5 \n",
        "    return vec\n",
        "\n",
        "def distance2vote(d, a=3, b=5):\n",
        "    sim = np.maximum(0, 1 - d**2/2)\n",
        "    return np.exp(-d**a) * sim **b"
      ]
    },
    {
      "cell_type": "code",
      "execution_count": 86,
      "metadata": {
        "id": "1kMzuCrb6Ccz",
        "outputId": "84ae45ad-2301-4820-aed8-c74d7f1fb8c3",
        "colab": {
          "base_uri": "https://localhost:8080/",
          "height": 295
        }
      },
      "outputs": [
        {
          "output_type": "display_data",
          "data": {
            "text/plain": [
              "<Figure size 432x288 with 1 Axes>"
            ],
            "image/png": "[encoded data removed]"
          },
          "metadata": {
            "needs_background": "light"
          }
        }
      ],
      "source": [
        "x = np.linspace(0, 1)\n",
        "plt.plot(x, distance2vote(x))\n",
        "plt.xlabel('Расстояние до соседа')\n",
        "plt.ylabel('Вес голоса соседа')\n",
        "plt.title('Функция взвешивания соседей');"
      ]
    },
    {
      "cell_type": "code",
      "execution_count": 87,
      "metadata": {
        "id": "XdhDaFIJ6Cc1"
      },
      "outputs": [],
      "source": [
        "from tqdm.auto import tqdm, trange"
      ]
    },
    {
      "cell_type": "code",
      "execution_count": 88,
      "metadata": {
        "id": "D5AN0t_i6Cc2",
        "colab": {
          "base_uri": "https://localhost:8080/",
          "height": 416,
          "referenced_widgets": [
            "21729e5f19234b1b83597d1ace7d4196",
            "cd49621da284497fa07789aab841c7f8",
            "a72f8e38ae2647bab28bfef6ee30fcfe",
            "164cab7171be4f1dbc6ea2cab74f05ba",
            "fa202f047d854a6ab7b66dd6db53b56c",
            "d7369879aacd458e85d23f21d2166c9e",
            "43607080d0d44af39ea27dd3ae34d5fc",
            "c162d71962334dc6a521594ad9fb14eb",
            "21987624ea9141bead3b1f9bf5bdc410",
            "8d7e2dcd1e1442dd81f41d1601165bc5",
            "b297be88c1524e41a67dc4d6f43135b0"
          ]
        },
        "outputId": "a791d9f8-9124-418a-d7ad-38947501c771"
      },
      "outputs": [
        {
          "output_type": "display_data",
          "data": {
            "text/plain": [
              "  0%|          | 0/59905 [00:00<?, ?it/s]"
            ],
            "application/vnd.jupyter.widget-view+json": {
              "version_major": 2,
              "version_minor": 0,
              "model_id": "21729e5f19234b1b83597d1ace7d4196"
            }
          },
          "metadata": {}
        },
        {
          "output_type": "error",
          "ename": "KeyboardInterrupt",
          "evalue": "ignored",
          "traceback": [
            "\u001b[0;31m---------------------------------------------------------------------------\u001b[0m",
            "\u001b[0;31mKeyboardInterrupt\u001b[0m                         Traceback (most recent call last)",
            "\u001b[0;32m<ipython-input-88-077915073cf0>\u001b[0m in \u001b[0;36m<module>\u001b[0;34m\u001b[0m\n\u001b[1;32m      3\u001b[0m     \u001b[0;32mif\u001b[0m \u001b[0msynset\u001b[0m\u001b[0;34m.\u001b[0m\u001b[0mpart_of_speech\u001b[0m \u001b[0;34m!=\u001b[0m \u001b[0;34m'V'\u001b[0m\u001b[0;34m:\u001b[0m\u001b[0;34m\u001b[0m\u001b[0;34m\u001b[0m\u001b[0m\n\u001b[1;32m      4\u001b[0m         \u001b[0;32mcontinue\u001b[0m\u001b[0;34m\u001b[0m\u001b[0;34m\u001b[0m\u001b[0m\n\u001b[0;32m----> 5\u001b[0;31m     \u001b[0;32mfor\u001b[0m \u001b[0msense\u001b[0m \u001b[0;32min\u001b[0m \u001b[0msynset\u001b[0m\u001b[0;34m.\u001b[0m\u001b[0msenses\u001b[0m\u001b[0;34m:\u001b[0m\u001b[0;34m\u001b[0m\u001b[0;34m\u001b[0m\u001b[0m\n\u001b[0m\u001b[1;32m      6\u001b[0m         \u001b[0mwords\u001b[0m\u001b[0;34m.\u001b[0m\u001b[0mappend\u001b[0m\u001b[0;34m(\u001b[0m\u001b[0msense\u001b[0m\u001b[0;34m.\u001b[0m\u001b[0mname\u001b[0m\u001b[0;34m)\u001b[0m\u001b[0;34m\u001b[0m\u001b[0;34m\u001b[0m\u001b[0m\n\u001b[1;32m      7\u001b[0m         \u001b[0mvectors\u001b[0m\u001b[0;34m.\u001b[0m\u001b[0mappend\u001b[0m\u001b[0;34m(\u001b[0m\u001b[0mvectorize\u001b[0m\u001b[0;34m(\u001b[0m\u001b[0msense\u001b[0m\u001b[0;34m.\u001b[0m\u001b[0mname\u001b[0m\u001b[0;34m)\u001b[0m\u001b[0;34m)\u001b[0m\u001b[0;34m\u001b[0m\u001b[0;34m\u001b[0m\u001b[0m\n",
            "\u001b[0;32m/usr/local/lib/python3.7/dist-packages/sqlalchemy/orm/attributes.py\u001b[0m in \u001b[0;36m__get__\u001b[0;34m(self, instance, owner)\u001b[0m\n\u001b[1;32m    480\u001b[0m                     \u001b[0mreplace_context\u001b[0m\u001b[0;34m=\u001b[0m\u001b[0merr\u001b[0m\u001b[0;34m,\u001b[0m\u001b[0;34m\u001b[0m\u001b[0;34m\u001b[0m\u001b[0m\n\u001b[1;32m    481\u001b[0m                 )\n\u001b[0;32m--> 482\u001b[0;31m             \u001b[0;32mreturn\u001b[0m \u001b[0mself\u001b[0m\u001b[0;34m.\u001b[0m\u001b[0mimpl\u001b[0m\u001b[0;34m.\u001b[0m\u001b[0mget\u001b[0m\u001b[0;34m(\u001b[0m\u001b[0mstate\u001b[0m\u001b[0;34m,\u001b[0m \u001b[0mdict_\u001b[0m\u001b[0;34m)\u001b[0m\u001b[0;34m\u001b[0m\u001b[0;34m\u001b[0m\u001b[0m\n\u001b[0m\u001b[1;32m    483\u001b[0m \u001b[0;34m\u001b[0m\u001b[0m\n\u001b[1;32m    484\u001b[0m \u001b[0;34m\u001b[0m\u001b[0m\n",
            "\u001b[0;32m/usr/local/lib/python3.7/dist-packages/sqlalchemy/orm/attributes.py\u001b[0m in \u001b[0;36mget\u001b[0;34m(self, state, dict_, passive)\u001b[0m\n\u001b[1;32m    940\u001b[0m                     \u001b[0;32mreturn\u001b[0m \u001b[0mPASSIVE_NO_RESULT\u001b[0m\u001b[0;34m\u001b[0m\u001b[0;34m\u001b[0m\u001b[0m\n\u001b[1;32m    941\u001b[0m \u001b[0;34m\u001b[0m\u001b[0m\n\u001b[0;32m--> 942\u001b[0;31m                 \u001b[0mvalue\u001b[0m \u001b[0;34m=\u001b[0m \u001b[0mself\u001b[0m\u001b[0;34m.\u001b[0m\u001b[0m_fire_loader_callables\u001b[0m\u001b[0;34m(\u001b[0m\u001b[0mstate\u001b[0m\u001b[0;34m,\u001b[0m \u001b[0mkey\u001b[0m\u001b[0;34m,\u001b[0m \u001b[0mpassive\u001b[0m\u001b[0;34m)\u001b[0m\u001b[0;34m\u001b[0m\u001b[0;34m\u001b[0m\u001b[0m\n\u001b[0m\u001b[1;32m    943\u001b[0m \u001b[0;34m\u001b[0m\u001b[0m\n\u001b[1;32m    944\u001b[0m                 \u001b[0;32mif\u001b[0m \u001b[0mvalue\u001b[0m \u001b[0;32mis\u001b[0m \u001b[0mPASSIVE_NO_RESULT\u001b[0m \u001b[0;32mor\u001b[0m \u001b[0mvalue\u001b[0m \u001b[0;32mis\u001b[0m \u001b[0mNO_VALUE\u001b[0m\u001b[0;34m:\u001b[0m\u001b[0;34m\u001b[0m\u001b[0;34m\u001b[0m\u001b[0m\n",
            "\u001b[0;32m/usr/local/lib/python3.7/dist-packages/sqlalchemy/orm/attributes.py\u001b[0m in \u001b[0;36m_fire_loader_callables\u001b[0;34m(self, state, key, passive)\u001b[0m\n\u001b[1;32m    976\u001b[0m             \u001b[0;32mreturn\u001b[0m \u001b[0mcallable_\u001b[0m\u001b[0;34m(\u001b[0m\u001b[0mstate\u001b[0m\u001b[0;34m,\u001b[0m \u001b[0mpassive\u001b[0m\u001b[0;34m)\u001b[0m\u001b[0;34m\u001b[0m\u001b[0;34m\u001b[0m\u001b[0m\n\u001b[1;32m    977\u001b[0m         \u001b[0;32melif\u001b[0m \u001b[0mself\u001b[0m\u001b[0;34m.\u001b[0m\u001b[0mcallable_\u001b[0m\u001b[0;34m:\u001b[0m\u001b[0;34m\u001b[0m\u001b[0;34m\u001b[0m\u001b[0m\n\u001b[0;32m--> 978\u001b[0;31m             \u001b[0;32mreturn\u001b[0m \u001b[0mself\u001b[0m\u001b[0;34m.\u001b[0m\u001b[0mcallable_\u001b[0m\u001b[0;34m(\u001b[0m\u001b[0mstate\u001b[0m\u001b[0;34m,\u001b[0m \u001b[0mpassive\u001b[0m\u001b[0;34m)\u001b[0m\u001b[0;34m\u001b[0m\u001b[0;34m\u001b[0m\u001b[0m\n\u001b[0m\u001b[1;32m    979\u001b[0m         \u001b[0;32melse\u001b[0m\u001b[0;34m:\u001b[0m\u001b[0;34m\u001b[0m\u001b[0;34m\u001b[0m\u001b[0m\n\u001b[1;32m    980\u001b[0m             \u001b[0;32mreturn\u001b[0m \u001b[0mATTR_EMPTY\u001b[0m\u001b[0;34m\u001b[0m\u001b[0;34m\u001b[0m\u001b[0m\n",
            "\u001b[0;32m/usr/local/lib/python3.7/dist-packages/sqlalchemy/orm/strategies.py\u001b[0m in \u001b[0;36m_load_for_state\u001b[0;34m(self, state, passive, loadopt, extra_criteria)\u001b[0m\n\u001b[1;32m    916\u001b[0m             \u001b[0mpassive\u001b[0m\u001b[0;34m,\u001b[0m\u001b[0;34m\u001b[0m\u001b[0;34m\u001b[0m\u001b[0m\n\u001b[1;32m    917\u001b[0m             \u001b[0mloadopt\u001b[0m\u001b[0;34m,\u001b[0m\u001b[0;34m\u001b[0m\u001b[0;34m\u001b[0m\u001b[0m\n\u001b[0;32m--> 918\u001b[0;31m             \u001b[0mextra_criteria\u001b[0m\u001b[0;34m,\u001b[0m\u001b[0;34m\u001b[0m\u001b[0;34m\u001b[0m\u001b[0m\n\u001b[0m\u001b[1;32m    919\u001b[0m         )\n\u001b[1;32m    920\u001b[0m \u001b[0;34m\u001b[0m\u001b[0m\n",
            "\u001b[0;32m/usr/local/lib/python3.7/dist-packages/sqlalchemy/orm/strategies.py\u001b[0m in \u001b[0;36m_emit_lazyload\u001b[0;34m(self, session, state, primary_key_identity, passive, loadopt, extra_criteria)\u001b[0m\n\u001b[1;32m   1045\u001b[0m \u001b[0;34m\u001b[0m\u001b[0m\n\u001b[1;32m   1046\u001b[0m         result = session.execute(\n\u001b[0;32m-> 1047\u001b[0;31m             \u001b[0mstmt\u001b[0m\u001b[0;34m,\u001b[0m \u001b[0mparams\u001b[0m\u001b[0;34m,\u001b[0m \u001b[0mexecution_options\u001b[0m\u001b[0;34m=\u001b[0m\u001b[0mexecution_options\u001b[0m\u001b[0;34m\u001b[0m\u001b[0;34m\u001b[0m\u001b[0m\n\u001b[0m\u001b[1;32m   1048\u001b[0m         )\n\u001b[1;32m   1049\u001b[0m \u001b[0;34m\u001b[0m\u001b[0m\n",
            "\u001b[0;32m/usr/local/lib/python3.7/dist-packages/sqlalchemy/orm/session.py\u001b[0m in \u001b[0;36mexecute\u001b[0;34m(self, statement, params, execution_options, bind_arguments, _parent_execute_state, _add_event, **kw)\u001b[0m\n\u001b[1;32m   1712\u001b[0m         \u001b[0;32melse\u001b[0m\u001b[0;34m:\u001b[0m\u001b[0;34m\u001b[0m\u001b[0;34m\u001b[0m\u001b[0m\n\u001b[1;32m   1713\u001b[0m             \u001b[0mconn\u001b[0m \u001b[0;34m=\u001b[0m \u001b[0mself\u001b[0m\u001b[0;34m.\u001b[0m\u001b[0m_connection_for_bind\u001b[0m\u001b[0;34m(\u001b[0m\u001b[0mbind\u001b[0m\u001b[0;34m)\u001b[0m\u001b[0;34m\u001b[0m\u001b[0;34m\u001b[0m\u001b[0m\n\u001b[0;32m-> 1714\u001b[0;31m         \u001b[0mresult\u001b[0m \u001b[0;34m=\u001b[0m \u001b[0mconn\u001b[0m\u001b[0;34m.\u001b[0m\u001b[0m_execute_20\u001b[0m\u001b[0;34m(\u001b[0m\u001b[0mstatement\u001b[0m\u001b[0;34m,\u001b[0m \u001b[0mparams\u001b[0m \u001b[0;32mor\u001b[0m \u001b[0;34m{\u001b[0m\u001b[0;34m}\u001b[0m\u001b[0;34m,\u001b[0m \u001b[0mexecution_options\u001b[0m\u001b[0;34m)\u001b[0m\u001b[0;34m\u001b[0m\u001b[0;34m\u001b[0m\u001b[0m\n\u001b[0m\u001b[1;32m   1715\u001b[0m \u001b[0;34m\u001b[0m\u001b[0m\n\u001b[1;32m   1716\u001b[0m         \u001b[0;32mif\u001b[0m \u001b[0mcompile_state_cls\u001b[0m\u001b[0;34m:\u001b[0m\u001b[0;34m\u001b[0m\u001b[0;34m\u001b[0m\u001b[0m\n",
            "\u001b[0;32m/usr/local/lib/python3.7/dist-packages/sqlalchemy/engine/base.py\u001b[0m in \u001b[0;36m_execute_20\u001b[0;34m(self, statement, parameters, execution_options)\u001b[0m\n\u001b[1;32m   1703\u001b[0m             )\n\u001b[1;32m   1704\u001b[0m         \u001b[0;32melse\u001b[0m\u001b[0;34m:\u001b[0m\u001b[0;34m\u001b[0m\u001b[0;34m\u001b[0m\u001b[0m\n\u001b[0;32m-> 1705\u001b[0;31m             \u001b[0;32mreturn\u001b[0m \u001b[0mmeth\u001b[0m\u001b[0;34m(\u001b[0m\u001b[0mself\u001b[0m\u001b[0;34m,\u001b[0m \u001b[0margs_10style\u001b[0m\u001b[0;34m,\u001b[0m \u001b[0mkwargs_10style\u001b[0m\u001b[0;34m,\u001b[0m \u001b[0mexecution_options\u001b[0m\u001b[0;34m)\u001b[0m\u001b[0;34m\u001b[0m\u001b[0;34m\u001b[0m\u001b[0m\n\u001b[0m\u001b[1;32m   1706\u001b[0m \u001b[0;34m\u001b[0m\u001b[0m\n\u001b[1;32m   1707\u001b[0m     def exec_driver_sql(\n",
            "\u001b[0;32m/usr/local/lib/python3.7/dist-packages/sqlalchemy/sql/elements.py\u001b[0m in \u001b[0;36m_execute_on_connection\u001b[0;34m(self, connection, multiparams, params, execution_options, _force)\u001b[0m\n\u001b[1;32m    333\u001b[0m         \u001b[0;32mif\u001b[0m \u001b[0m_force\u001b[0m \u001b[0;32mor\u001b[0m \u001b[0mself\u001b[0m\u001b[0;34m.\u001b[0m\u001b[0msupports_execution\u001b[0m\u001b[0;34m:\u001b[0m\u001b[0;34m\u001b[0m\u001b[0;34m\u001b[0m\u001b[0m\n\u001b[1;32m    334\u001b[0m             return connection._execute_clauseelement(\n\u001b[0;32m--> 335\u001b[0;31m                 \u001b[0mself\u001b[0m\u001b[0;34m,\u001b[0m \u001b[0mmultiparams\u001b[0m\u001b[0;34m,\u001b[0m \u001b[0mparams\u001b[0m\u001b[0;34m,\u001b[0m \u001b[0mexecution_options\u001b[0m\u001b[0;34m\u001b[0m\u001b[0;34m\u001b[0m\u001b[0m\n\u001b[0m\u001b[1;32m    336\u001b[0m             )\n\u001b[1;32m    337\u001b[0m         \u001b[0;32melse\u001b[0m\u001b[0;34m:\u001b[0m\u001b[0;34m\u001b[0m\u001b[0;34m\u001b[0m\u001b[0m\n",
            "\u001b[0;32m/usr/local/lib/python3.7/dist-packages/sqlalchemy/engine/base.py\u001b[0m in \u001b[0;36m_execute_clauseelement\u001b[0;34m(self, elem, multiparams, params, execution_options)\u001b[0m\n\u001b[1;32m   1580\u001b[0m             \u001b[0melem\u001b[0m\u001b[0;34m,\u001b[0m\u001b[0;34m\u001b[0m\u001b[0;34m\u001b[0m\u001b[0m\n\u001b[1;32m   1581\u001b[0m             \u001b[0mextracted_params\u001b[0m\u001b[0;34m,\u001b[0m\u001b[0;34m\u001b[0m\u001b[0;34m\u001b[0m\u001b[0m\n\u001b[0;32m-> 1582\u001b[0;31m             \u001b[0mcache_hit\u001b[0m\u001b[0;34m=\u001b[0m\u001b[0mcache_hit\u001b[0m\u001b[0;34m,\u001b[0m\u001b[0;34m\u001b[0m\u001b[0;34m\u001b[0m\u001b[0m\n\u001b[0m\u001b[1;32m   1583\u001b[0m         )\n\u001b[1;32m   1584\u001b[0m         \u001b[0;32mif\u001b[0m \u001b[0mhas_events\u001b[0m\u001b[0;34m:\u001b[0m\u001b[0;34m\u001b[0m\u001b[0;34m\u001b[0m\u001b[0m\n",
            "\u001b[0;32m/usr/local/lib/python3.7/dist-packages/sqlalchemy/engine/base.py\u001b[0m in \u001b[0;36m_execute_context\u001b[0;34m(self, dialect, constructor, statement, parameters, execution_options, *args, **kw)\u001b[0m\n\u001b[1;32m   1942\u001b[0m         \u001b[0;32mexcept\u001b[0m \u001b[0mBaseException\u001b[0m \u001b[0;32mas\u001b[0m \u001b[0me\u001b[0m\u001b[0;34m:\u001b[0m\u001b[0;34m\u001b[0m\u001b[0;34m\u001b[0m\u001b[0m\n\u001b[1;32m   1943\u001b[0m             self._handle_dbapi_exception(\n\u001b[0;32m-> 1944\u001b[0;31m                 \u001b[0me\u001b[0m\u001b[0;34m,\u001b[0m \u001b[0mstatement\u001b[0m\u001b[0;34m,\u001b[0m \u001b[0mparameters\u001b[0m\u001b[0;34m,\u001b[0m \u001b[0mcursor\u001b[0m\u001b[0;34m,\u001b[0m \u001b[0mcontext\u001b[0m\u001b[0;34m\u001b[0m\u001b[0;34m\u001b[0m\u001b[0m\n\u001b[0m\u001b[1;32m   1945\u001b[0m             )\n\u001b[1;32m   1946\u001b[0m \u001b[0;34m\u001b[0m\u001b[0m\n",
            "\u001b[0;32m/usr/local/lib/python3.7/dist-packages/sqlalchemy/engine/base.py\u001b[0m in \u001b[0;36m_handle_dbapi_exception\u001b[0;34m(self, e, statement, parameters, cursor, context)\u001b[0m\n\u001b[1;32m   2126\u001b[0m                 )\n\u001b[1;32m   2127\u001b[0m             \u001b[0;32melse\u001b[0m\u001b[0;34m:\u001b[0m\u001b[0;34m\u001b[0m\u001b[0;34m\u001b[0m\u001b[0m\n\u001b[0;32m-> 2128\u001b[0;31m                 \u001b[0mutil\u001b[0m\u001b[0;34m.\u001b[0m\u001b[0mraise_\u001b[0m\u001b[0;34m(\u001b[0m\u001b[0mexc_info\u001b[0m\u001b[0;34m[\u001b[0m\u001b[0;36m1\u001b[0m\u001b[0;34m]\u001b[0m\u001b[0;34m,\u001b[0m \u001b[0mwith_traceback\u001b[0m\u001b[0;34m=\u001b[0m\u001b[0mexc_info\u001b[0m\u001b[0;34m[\u001b[0m\u001b[0;36m2\u001b[0m\u001b[0;34m]\u001b[0m\u001b[0;34m)\u001b[0m\u001b[0;34m\u001b[0m\u001b[0;34m\u001b[0m\u001b[0m\n\u001b[0m\u001b[1;32m   2129\u001b[0m \u001b[0;34m\u001b[0m\u001b[0m\n\u001b[1;32m   2130\u001b[0m         \u001b[0;32mfinally\u001b[0m\u001b[0;34m:\u001b[0m\u001b[0;34m\u001b[0m\u001b[0;34m\u001b[0m\u001b[0m\n",
            "\u001b[0;32m/usr/local/lib/python3.7/dist-packages/sqlalchemy/util/compat.py\u001b[0m in \u001b[0;36mraise_\u001b[0;34m(***failed resolving arguments***)\u001b[0m\n\u001b[1;32m    208\u001b[0m \u001b[0;34m\u001b[0m\u001b[0m\n\u001b[1;32m    209\u001b[0m         \u001b[0;32mtry\u001b[0m\u001b[0;34m:\u001b[0m\u001b[0;34m\u001b[0m\u001b[0;34m\u001b[0m\u001b[0m\n\u001b[0;32m--> 210\u001b[0;31m             \u001b[0;32mraise\u001b[0m \u001b[0mexception\u001b[0m\u001b[0;34m\u001b[0m\u001b[0;34m\u001b[0m\u001b[0m\n\u001b[0m\u001b[1;32m    211\u001b[0m         \u001b[0;32mfinally\u001b[0m\u001b[0;34m:\u001b[0m\u001b[0;34m\u001b[0m\u001b[0;34m\u001b[0m\u001b[0m\n\u001b[1;32m    212\u001b[0m             \u001b[0;31m# credit to\u001b[0m\u001b[0;34m\u001b[0m\u001b[0;34m\u001b[0m\u001b[0;34m\u001b[0m\u001b[0m\n",
            "\u001b[0;32m/usr/local/lib/python3.7/dist-packages/sqlalchemy/engine/base.py\u001b[0m in \u001b[0;36m_execute_context\u001b[0;34m(self, dialect, constructor, statement, parameters, execution_options, *args, **kw)\u001b[0m\n\u001b[1;32m   1899\u001b[0m                 \u001b[0;32mif\u001b[0m \u001b[0;32mnot\u001b[0m \u001b[0mevt_handled\u001b[0m\u001b[0;34m:\u001b[0m\u001b[0;34m\u001b[0m\u001b[0;34m\u001b[0m\u001b[0m\n\u001b[1;32m   1900\u001b[0m                     self.dialect.do_execute(\n\u001b[0;32m-> 1901\u001b[0;31m                         \u001b[0mcursor\u001b[0m\u001b[0;34m,\u001b[0m \u001b[0mstatement\u001b[0m\u001b[0;34m,\u001b[0m \u001b[0mparameters\u001b[0m\u001b[0;34m,\u001b[0m \u001b[0mcontext\u001b[0m\u001b[0;34m\u001b[0m\u001b[0;34m\u001b[0m\u001b[0m\n\u001b[0m\u001b[1;32m   1902\u001b[0m                     )\n\u001b[1;32m   1903\u001b[0m \u001b[0;34m\u001b[0m\u001b[0m\n",
            "\u001b[0;32m/usr/local/lib/python3.7/dist-packages/sqlalchemy/engine/default.py\u001b[0m in \u001b[0;36mdo_execute\u001b[0;34m(self, cursor, statement, parameters, context)\u001b[0m\n\u001b[1;32m    734\u001b[0m \u001b[0;34m\u001b[0m\u001b[0m\n\u001b[1;32m    735\u001b[0m     \u001b[0;32mdef\u001b[0m \u001b[0mdo_execute\u001b[0m\u001b[0;34m(\u001b[0m\u001b[0mself\u001b[0m\u001b[0;34m,\u001b[0m \u001b[0mcursor\u001b[0m\u001b[0;34m,\u001b[0m \u001b[0mstatement\u001b[0m\u001b[0;34m,\u001b[0m \u001b[0mparameters\u001b[0m\u001b[0;34m,\u001b[0m \u001b[0mcontext\u001b[0m\u001b[0;34m=\u001b[0m\u001b[0;32mNone\u001b[0m\u001b[0;34m)\u001b[0m\u001b[0;34m:\u001b[0m\u001b[0;34m\u001b[0m\u001b[0;34m\u001b[0m\u001b[0m\n\u001b[0;32m--> 736\u001b[0;31m         \u001b[0mcursor\u001b[0m\u001b[0;34m.\u001b[0m\u001b[0mexecute\u001b[0m\u001b[0;34m(\u001b[0m\u001b[0mstatement\u001b[0m\u001b[0;34m,\u001b[0m \u001b[0mparameters\u001b[0m\u001b[0;34m)\u001b[0m\u001b[0;34m\u001b[0m\u001b[0;34m\u001b[0m\u001b[0m\n\u001b[0m\u001b[1;32m    737\u001b[0m \u001b[0;34m\u001b[0m\u001b[0m\n\u001b[1;32m    738\u001b[0m     \u001b[0;32mdef\u001b[0m \u001b[0mdo_execute_no_params\u001b[0m\u001b[0;34m(\u001b[0m\u001b[0mself\u001b[0m\u001b[0;34m,\u001b[0m \u001b[0mcursor\u001b[0m\u001b[0;34m,\u001b[0m \u001b[0mstatement\u001b[0m\u001b[0;34m,\u001b[0m \u001b[0mcontext\u001b[0m\u001b[0;34m=\u001b[0m\u001b[0;32mNone\u001b[0m\u001b[0;34m)\u001b[0m\u001b[0;34m:\u001b[0m\u001b[0;34m\u001b[0m\u001b[0;34m\u001b[0m\u001b[0m\n",
            "\u001b[0;31mKeyboardInterrupt\u001b[0m: "
          ]
        }
      ],
      "source": [
        "words, vectors, synset_ids = [], [], []\n",
        "for synset in tqdm(wn.synsets):\n",
        "    if synset.part_of_speech != 'V':\n",
        "        continue\n",
        "    for sense in synset.senses:\n",
        "        words.append(sense.name)\n",
        "        vectors.append(vectorize(sense.name))\n",
        "        synset_ids.append(synset.id)\n",
        "vectors = np.stack(vectors)\n",
        "tree = KDTree(vectors)"
      ]
    },
    {
      "cell_type": "code",
      "execution_count": null,
      "metadata": {
        "id": "YQk24j326Cc4",
        "outputId": "01d203d5-c898-4d6f-df4f-b91cef8f389c"
      },
      "outputs": [
        {
          "name": "stdout",
          "output_type": "stream",
          "text": [
            "БАРАХТАТЬСЯ ['ДВИЖЕНИЕ, ПЕРЕМЕЩЕНИЕ', 'ПЛЕСКАТЬСЯ В ВОДЕ']\n",
            "ГОГОТАТЬ ['СМЕЯТЬСЯ (ИЗДАВАТЬ СМЕХ)', 'РАЗРАЗИТЬСЯ (БУРНО ВЫРАЗИТЬ)']\n",
            "ГУКАТЬ ['ПРОИЗНЕСТИ, ВЫГОВОРИТЬ, ПРОГОВОРИТЬ']\n",
            "ЮРКАТЬ ['СПРЯТАТЬСЯ В УКРЫТИЕ']\n",
            "ТАРАХТЕТЬ ['ПРОИЗНЕСТИ, ВЫГОВОРИТЬ, ПРОГОВОРИТЬ', 'БОЛТАТЬ, ЧЕСАТЬ ЯЗЫКОМ']\n",
            "ШМЫГАТЬ ['ДВИЖЕНИЕ, ПЕРЕМЕЩЕНИЕ']\n",
            "ШМЫГАТЬ ['МЕЛЬКАТЬ ПЕРЕД ГЛАЗАМИ', 'ПРОЙТИ МИМО']\n",
            "ПОНУКАТЬ ['СКЛОНИТЬ, ПОБУДИТЬ']\n",
            "ХНЫКАТЬ ['ЖАЛОВАТЬСЯ (ВЫСКАЗЫВАТЬ НЕУДОВОЛЬСТВИЕ)', 'НАДОЕСТЬ']\n",
            "ПОВИЗГИВАТЬ ['ИЗДАТЬ ЗВУК']\n",
            "ГАВКАТЬ ['ИЗДАТЬ ЗВУК']\n",
            "ФЫРКАТЬ ['ПРОИЗНЕСТИ, ВЫГОВОРИТЬ, ПРОГОВОРИТЬ', 'ВОРЧАТЬ (БОРМОТАТЬ)']\n",
            "ФЫРЧАТЬ ['ПРОИЗНЕСТИ, ВЫГОВОРИТЬ, ПРОГОВОРИТЬ', 'ВОРЧАТЬ (БОРМОТАТЬ)']\n",
            "УРЧАТЬ ['ИЗДАТЬ ЗВУК']\n",
            "НАУСЬКИВАТЬ ['НАПАСТЬ, СОВЕРШИТЬ НАПАДЕНИЕ', 'ПРЕСЛЕДОВАТЬ, ГНАТЬСЯ']\n",
            "НАУСЬКИВАТЬ ['ПОДСТРЕКАТЬ, ПРОВОЦИРОВАТЬ', 'ПОРТИТЬ ОТНОШЕНИЯ']\n",
            "СВИХИВАТЬСЯ ['ЗАБОЛЕТЬ БОЛЕЗНЬЮ']\n",
            "ДОКРИКИВАТЬСЯ ['ДОЗВАТЬСЯ']\n",
            "ДОКРИКИВАТЬСЯ ['ДОВЕСТИ СЕБЯ', 'НАВРЕДИТЬ СЕБЕ']\n",
            "ЖАЛОБНО ВЫТЬ ['ВЫТЬ', 'ВИЗЖАТЬ']\n",
            "МЕТАТЬСЯ КАК УГОРЕЛЫЙ ['БЕЖАТЬ (ДВИГАТЬСЯ НА НОГАХ)']\n",
            "ЗАТЮКАТЬ ['ПРИДРАТЬСЯ', 'МУЧИТЬ']\n",
            "НАУСЬКАТЬ ['ПОДСТРЕКАТЬ, ПРОВОЦИРОВАТЬ', 'ПОРТИТЬ ОТНОШЕНИЯ']\n",
            "НАУСЬКАТЬ ['НАПАСТЬ, СОВЕРШИТЬ НАПАДЕНИЕ', 'ПРЕСЛЕДОВАТЬ, ГНАТЬСЯ']\n",
            "ВЗБРЫКИВАТЬ ['СОПРОТИВЛЯТЬСЯ', 'УПОРСТВОВАТЬ']\n",
            "ПРИКРИКИВАТЬ ['КРИЧАТЬ, ГОВОРИТЬ ГРОМКО']\n",
            "НАКРИКИВАТЬ ['КРИЧАТЬ, ГОВОРИТЬ ГРОМКО', 'ВЫГОВАРИВАТЬ, ДЕЛАТЬ ВЫГОВОР']\n",
            "БРЫКАТЬСЯ ['СОПРОТИВЛЯТЬСЯ', 'УПОРСТВОВАТЬ']\n",
            "НОСИТЬСЯ КАК КУРИЦА С ЯЙЦОМ ['УВЛЕЧЬСЯ (СИЛЬНО ЗАИНТЕРЕСОВАТЬСЯ)']\n",
            "ИКАТЬ ['ИЗДАТЬ ЗВУК']\n",
            "ПЕРЕКРИКИВАТЬ ['КРИЧАТЬ, ИЗДАВАТЬ КРИК', 'ПЕРЕКРЫТЬ ЗВУК']\n",
            "ЗАХИХИКАТЬ ['СМЕЯТЬСЯ (ИЗДАВАТЬ СМЕХ)']\n",
            "ПРОГОГОТАТЬ ['СМЕЯТЬСЯ (ИЗДАВАТЬ СМЕХ)', 'РАЗРАЗИТЬСЯ (БУРНО ВЫРАЗИТЬ)']\n",
            "ШУШУКАТЬ ['ПРОИЗНЕСТИ, ВЫГОВОРИТЬ, ПРОГОВОРИТЬ']\n",
            "ЗАТОПАТЬ ['УДАРИТЬ, НАНЕСТИ УДАР']\n",
            "ЗАТОПАТЬ ['ДВИГАТЬСЯ НА НОГАХ']\n",
            "ПОДВЫВАТЬ ['ИЗДАТЬ ЗВУК']\n",
            "ДРЫГАТЬ ['ШЕВЕЛИТЬ ЧАСТЬЮ ТЕЛА']\n",
            "КУВЫРКАТЬСЯ ['ПЕРЕВЕРНУТЬСЯ (ПОВЕРНУТЬСЯ)']\n",
            "КУВЫРКАТЬСЯ ['ПЕРЕВАЛИТЬСЯ (ПЕРЕВЕРНУТЬСЯ)', 'ПЕРЕВОРОТ ЧЕРЕЗ ГОЛОВУ']\n",
            "ОКРИКИВАТЬ ['ОКЛИКНУТЬ ПО ИМЕНИ']\n",
            "ВИЗЖАТЬ ['ИЗДАТЬ ЗВУК']\n",
            "ЗАЛЕПЕТАТЬ ['ПРОИЗНЕСТИ, ВЫГОВОРИТЬ, ПРОГОВОРИТЬ']\n",
            "ОЧУХИВАТЬСЯ ['ПРИЙТИ В ЧУВСТВО']\n",
            "ПОСКУЛИВАТЬ ['ВЫТЬ', 'ВИЗЖАТЬ']\n",
            "ХИХИКАТЬ ['СМЕЯТЬСЯ (ИЗДАВАТЬ СМЕХ)']\n",
            "БУЛТЫХАТЬСЯ ['ДВИЖЕНИЕ, ПЕРЕМЕЩЕНИЕ', 'ПЛЕСКАТЬСЯ В ВОДЕ']\n",
            "ЩЕБЕТАТЬ ['ПЕНИЕ ПТИЦЫ']\n",
            "ВЗВИЗГИВАТЬ ['ИЗДАТЬ ЗВУК']\n",
            "ВСПУГИВАТЬ ['ОТОГНАТЬ (ПРОГОНЯЯ ОТСТРАНИТЬ)', 'СОГНАТЬ С МЕСТА']\n",
            "БЛЕЯТЬ ['ИЗДАТЬ ЗВУК']\n",
            "ЧИРКАТЬ ['ПРОВЕСТИ ПО ПОВЕРХНОСТИ']\n",
            "ЗАХЛОПАТЬ ГЛАЗАМИ ['ШЕВЕЛИТЬ ЧАСТЬЮ ТЕЛА']\n",
            "СТРЕКОТАТЬ ['ПРОИЗНЕСТИ, ВЫГОВОРИТЬ, ПРОГОВОРИТЬ', 'БОЛТАТЬ, ЧЕСАТЬ ЯЗЫКОМ']\n",
            "СТРЕКОТАТЬ ['ИЗДАТЬ ЗВУК']\n",
            "ПОКРИКИВАТЬ ['ПРОИЗНЕСТИ, ВЫГОВОРИТЬ, ПРОГОВОРИТЬ']\n",
            "ПОКРИКИВАТЬ ['ИЗДАТЬ ЗВУК']\n",
            "ТОПАТЬ ['УДАРИТЬ, НАНЕСТИ УДАР']\n",
            "ЦАПАТЬ ['ХВАТАТЬ, СХВАТИТЬ']\n",
            "ПЕРЕМАХИВАТЬ ['ПРЫГАТЬ, ДЕЛАТЬ ПРЫЖОК', 'ПЕРЕСЕЧЬ ПРИ ДВИЖЕНИИ']\n",
            "ШУШУКАТЬСЯ ['РАЗГОВОР, БЕСЕДА', 'ШЕПТАТЬ']\n",
            "РОКОТАТЬ ['ИЗДАТЬ ЗВУК']\n",
            "БАБАХАТЬ ['БРОСИТЬ (ПЕРЕМЕСТИТЬ)', 'ХРЯСТНУТЬ (СИЛЬНО УДАРИТЬ)']\n",
            "БАБАХАТЬ ['ИЗДАТЬ ЗВУК', 'УДАРИТЬ (РАЗДАТЬСЯ О РЕЗКОМ ЗВУКЕ)']\n",
            "ЗАВЫВАТЬ ['ИЗДАТЬ ЗВУК']\n",
            "ОТБРЫКИВАТЬСЯ ['ИЗБАВИТЬСЯ', 'УКЛОНИТЬСЯ (ОТКАЗАТЬСЯ)']\n",
            "ПРЫСКАТЬ ['БЕЖАТЬ (ДВИГАТЬСЯ НА НОГАХ)', 'РАССЕЯТЬСЯ В РАЗНЫЕ СТОРОНЫ']\n",
            "ПРЫСКАТЬ ['БРЫЗГАТЬ, РАЗБРАСЫВАТЬ БРЫЗГИ']\n",
            "ВСКРИКИВАТЬ ['КРИЧАТЬ, ИЗДАВАТЬ КРИК']\n",
            "ПОНЫРЯТЬ ['ПОГРУЗИТЬСЯ В ЖИДКОСТЬ']\n",
            "ШМЯКАТЬСЯ ['ПАДАТЬ (ДВИГАТЬСЯ ВНИЗ)']\n",
            "ЗАВИЗЖАТЬ ['ИЗДАТЬ ЗВУК']\n",
            "ЗАТОПАТЬ  НОГАМИ ['УДАРИТЬ, НАНЕСТИ УДАР']\n",
            "ЗАЛАЯТЬ ['ИЗДАТЬ ЗВУК']\n",
            "БАХАТЬСЯ ['ПАДАТЬ (ДВИГАТЬСЯ ВНИЗ)']\n",
            "ХЛОПАТЬ ГЛАЗАМИ ['ШЕВЕЛИТЬ ЧАСТЬЮ ТЕЛА']\n",
            "ОТМЯКАТЬ ['РАЗМЯГЧИТЬСЯ (СТАТЬ МЯГКИМ, МЯГЧЕ)']\n",
            "ОТМЯКАТЬ ['ИЗМЕНЕНИЕ СОСТОЯНИЯ']\n",
            "ЧИРИКАТЬ ['ПЕНИЕ ПТИЦЫ']\n",
            "ПОКУВЫРКАТЬСЯ ['ПЕРЕВАЛИТЬСЯ (ПЕРЕВЕРНУТЬСЯ)', 'ПЕРЕВОРОТ ЧЕРЕЗ ГОЛОВУ']\n",
            "БУРЧАТЬ ['БОРМОТАТЬ']\n",
            "БУРЧАТЬ ['ИЗДАТЬ ЗВУК']\n",
            "ВОЗИТЬСЯ ['ЗАБОТИТЬСЯ, ОКРУЖИТЬ ЗАБОТОЙ', 'МЕДЛИТЬ']\n",
            "ВОЗИТЬСЯ ['ДВИЖЕНИЕ, ПЕРЕМЕЩЕНИЕ']\n",
            "ЗАПИХИВАТЬ ['ВВЕСТИ ВНУТРЬ']\n",
            "ИСТОШНО КРИЧАТЬ ['КРИЧАТЬ, ИЗДАВАТЬ КРИК']\n",
            "СПИХИВАТЬ ['СБРОСИТЬ ВНИЗ', 'ПОДВИНУТЬ, СДВИНУТЬ']\n",
            "ИЗЖАРИТЬСЯ ['ПРИГОТОВЛЕНИЕ ПИЩИ', 'НАГРЕТЬСЯ']\n",
            "ХАРКАТЬ ['ВЫПЛЮНУТЬ']\n",
            "ЗАЛИВАТЬСЯ ['ПОКРЫТЬ ПОВЕРХНОСТЬ', 'ЛИТЬ ЖИДКОСТЬ']\n",
            "ЗАЛИВАТЬСЯ ['ИЗДАТЬ ЗВУК', 'ЗАПЕТЬ ПЕСНЮ']\n",
            "ЗАЛИВАТЬСЯ ['ВЛИТЬСЯ ВНУТРЬ']\n",
            "ЗАЛИВАТЬСЯ ['ПАЧКАТЬСЯ, СТАНОВИТЬСЯ ГРЯЗНЫМ']\n",
            "ЗАЛИВАТЬСЯ ['ПОКРЫТЬСЯ НА ПОВЕРХНОСТИ']\n",
            "ЩИПАТЬ ПЕРЬЯ ['ВЫЩИПАТЬ (ВЫРВАТЬ)']\n",
            "ВИЛЯТЬ ['ПРОЛЕГАТЬ, ПРОХОДИТЬ', 'ПРОТЕКАТЬ (ПРОТЯНУТЬСЯ)']\n",
            "ВИЛЯТЬ ['ПОВЕРНУТЬ ПРИ ДВИЖЕНИИ']\n",
            "ВИЛЯТЬ ['ХИТРОСТЬ (ПОСТУПОК)', 'УКЛОНИТЬСЯ (ОТКАЗАТЬСЯ)']\n",
            "ВИЛЯТЬ ['КАЧАТЬ (КОЛЕБАТЬ)']\n",
            "ВЫПИХИВАТЬ ['УДАЛИТЬ НАРУЖУ', 'ВЫБРОСИТЬ (УДАЛИТЬ)']\n"
          ]
        }
      ],
      "source": [
        "votes = Counter()\n",
        "dists, ids = tree.query(vectorize('кудахтать').reshape(1, -1), k=100)\n",
        "for idx, distance in zip(ids[0], dists[0]):\n",
        "    for hyper in wn[synset_ids[idx]].hypernyms:\n",
        "        votes[hyper.id] += distance2vote(distance)\n",
        "    print(words[idx], [t.title for t in wn[synset_ids[idx]].hypernyms])"
      ]
    },
    {
      "cell_type": "code",
      "execution_count": null,
      "metadata": {
        "scrolled": true,
        "id": "G6PEYXib6Cc5",
        "outputId": "06a9ecf5-0146-465d-a730-c8e9bedfb859"
      },
      "outputs": [
        {
          "name": "stdout",
          "output_type": "stream",
          "text": [
            "0.6925543543920146 ИЗДАТЬ ЗВУК\n",
            "0.4306341411813687 ПРОИЗНЕСТИ, ВЫГОВОРИТЬ, ПРОГОВОРИТЬ\n",
            "0.29578542267095376 ДВИЖЕНИЕ, ПЕРЕМЕЩЕНИЕ\n",
            "0.21784698084743057 СМЕЯТЬСЯ (ИЗДАВАТЬ СМЕХ)\n",
            "0.19409141918335493 ПЛЕСКАТЬСЯ В ВОДЕ\n",
            "0.1325509436427577 РАЗРАЗИТЬСЯ (БУРНО ВЫРАЗИТЬ)\n",
            "0.11629879019881803 БОЛТАТЬ, ЧЕСАТЬ ЯЗЫКОМ\n",
            "0.11420901282482374 УДАРИТЬ, НАНЕСТИ УДАР\n",
            "0.11343697413233847 ШЕВЕЛИТЬ ЧАСТЬЮ ТЕЛА\n",
            "0.11267866978103516 КРИЧАТЬ, ИЗДАВАТЬ КРИК\n"
          ]
        }
      ],
      "source": [
        "for sid, score in votes.most_common(10):\n",
        "    print(score,  wn[sid].title)"
      ]
    },
    {
      "cell_type": "markdown",
      "metadata": {
        "id": "4JHKynbT6Cc7"
      },
      "source": [
        "# Найди лишнее \n",
        "ДИВАН, ШКАФ, ЛАМПА, СТОЛ"
      ]
    },
    {
      "cell_type": "code",
      "execution_count": 71,
      "metadata": {
        "id": "X_rdZ42D6Cc7"
      },
      "outputs": [],
      "source": [
        "import math\n",
        "\n",
        "\n",
        "def get_all_hypernyms(wn, word, max_level=100):\n",
        "    \"\"\" Return dict of all hypernyms of a word and their distances \"\"\"\n",
        "    front = [sense.synset for sense in wn.get_senses(word)]\n",
        "    levels = {}\n",
        "    for level in range(max_level):\n",
        "        if not front:\n",
        "            break\n",
        "        new_front = []\n",
        "        for synset in front:\n",
        "            if synset.id not in levels:\n",
        "                levels[synset.id] = level\n",
        "                new_front.extend(synset.hypernyms)\n",
        "        front = new_front\n",
        "    return levels\n",
        "\n",
        "def get_closest_common(levels1, levels2):\n",
        "    \"\"\" Find the closest common hypernym and sum of distances to it\"\"\"\n",
        "    result = None\n",
        "    result_distance = math.inf\n",
        "    for id, distance in levels1.items():\n",
        "        if id in levels2:\n",
        "            total = distance + levels2[id]\n",
        "            if total < result_distance:\n",
        "                result_distance = total\n",
        "                result = id\n",
        "    return result, result_distance"
      ]
    },
    {
      "cell_type": "code",
      "execution_count": 72,
      "metadata": {
        "id": "-Vbbbehj6Cc9",
        "outputId": "23e433f9-f607-4dbf-eaea-47bc53419ca1",
        "colab": {
          "base_uri": "https://localhost:8080/"
        }
      },
      "outputs": [
        {
          "output_type": "stream",
          "name": "stdout",
          "text": [
            "\t\t ДИВАН\tШКАФ\tЛАМПА\tСТОЛ\n",
            "ДИВАН\t0\t\t3\t\t10\t\t3\t\t\n",
            "ШКАФ\t3\t\t0\t\t5\t\t2\t\t\n",
            "ЛАМПА\t10\t\t5\t\t0\t\t7\t\t\n",
            "СТОЛ\t3\t\t2\t\t7\t\t0\t\t\n"
          ]
        }
      ],
      "source": [
        "words = ['ДИВАН', 'ШКАФ', 'ЛАМПА', 'СТОЛ']\n",
        "print('\\t\\t', '\\t'.join(words))\n",
        "for w1 in words:\n",
        "    print(w1, end='\\t')\n",
        "    for w2 in words:\n",
        "        n, d = get_closest_common(get_all_hypernyms(wn, w1), get_all_hypernyms(wn, w2))\n",
        "        print(d, end='\\t\\t')\n",
        "    print()"
      ]
    },
    {
      "cell_type": "code",
      "execution_count": 73,
      "metadata": {
        "id": "92QLS2pb6Cc-",
        "outputId": "e44c7e33-c7e7-4a1b-a186-ecda61b8dc00",
        "colab": {
          "base_uri": "https://localhost:8080/"
        }
      },
      "outputs": [
        {
          "output_type": "stream",
          "name": "stdout",
          "text": [
            "5 106555-N ТЕХНИЧЕСКОЕ УСТРОЙСТВО\n"
          ]
        }
      ],
      "source": [
        "name, distance = get_closest_common(get_all_hypernyms(wn, 'лампа'), get_all_hypernyms(wn, 'шкаф'))\n",
        "print(distance, name, wn[name].title)"
      ]
    },
    {
      "cell_type": "code",
      "execution_count": 74,
      "metadata": {
        "id": "QHe7pxzf6CdA",
        "outputId": "1b2260db-6461-4680-dc67-e4695617ac5d",
        "colab": {
          "base_uri": "https://localhost:8080/"
        }
      },
      "outputs": [
        {
          "output_type": "stream",
          "name": "stdout",
          "text": [
            "128561-N 0 Synset(id=\"128561-N\", title=\"ОСВЕТИТЕЛЬНЫЙ ПРИБОР\")\n",
            "8785-N 0 Synset(id=\"8785-N\", title=\"ЭЛЕКТРИЧЕСКАЯ ЛАМПА\")\n",
            "107646-N 1 Synset(id=\"107646-N\", title=\"ИСТОЧНИК ОСВЕЩЕНИЯ\")\n",
            "4222-N 1 Synset(id=\"4222-N\", title=\"СВЕТОТЕХНИЧЕСКОЕ ОБОРУДОВАНИЕ\")\n",
            "106488-N 2 Synset(id=\"106488-N\", title=\"ИСХОДНЫЙ ПУНКТ\")\n",
            "2070-N 2 Synset(id=\"2070-N\", title=\"ЭЛЕКТРОТЕХНИЧЕСКОЕ ОБОРУДОВАНИЕ\")\n",
            "106613-N 3 Synset(id=\"106613-N\", title=\"РОЛЬ, ПОЛОЖЕНИЕ, МЕСТО\")\n",
            "149201-N 3 Synset(id=\"149201-N\", title=\"ИНЖЕНЕРНОЕ ОБОРУДОВАНИЕ\")\n",
            "106555-N 4 Synset(id=\"106555-N\", title=\"ТЕХНИЧЕСКОЕ УСТРОЙСТВО\")\n",
            "1320-N 4 Synset(id=\"1320-N\", title=\"ОБОРУДОВАНИЕ\")\n",
            "106553-N 5 Synset(id=\"106553-N\", title=\"ПРИСПОСОБЛЕНИЕ (ПРЕДМЕТ)\")\n",
            "106554-N 6 Synset(id=\"106554-N\", title=\"ПРЕДМЕТ, ВЕЩЬ\")\n",
            "147133-N 7 Synset(id=\"147133-N\", title=\"ФИЗИЧЕСКИЙ ОБЪЕКТ\")\n",
            "147134-N 8 Synset(id=\"147134-N\", title=\"ФИЗИЧЕСКАЯ СУЩНОСТЬ\")\n",
            "153782-N 9 Synset(id=\"153782-N\", title=\"ПОСТОЯННАЯ СУЩНОСТЬ\")\n"
          ]
        }
      ],
      "source": [
        "for k, v in get_all_hypernyms(wn, 'лампа').items():\n",
        "    print(k, v, wn[k])"
      ]
    },
    {
      "cell_type": "code",
      "execution_count": 75,
      "metadata": {
        "id": "v4EfLgJS6CdD",
        "outputId": "ebbb9415-78ed-4323-a2c6-e3f8e820893f",
        "colab": {
          "base_uri": "https://localhost:8080/"
        }
      },
      "outputs": [
        {
          "output_type": "execute_result",
          "data": {
            "text/plain": [
              "[Synset(id=\"106555-N\", title=\"ТЕХНИЧЕСКОЕ УСТРОЙСТВО\"),\n",
              " Synset(id=\"1320-N\", title=\"ОБОРУДОВАНИЕ\")]"
            ]
          },
          "metadata": {},
          "execution_count": 75
        }
      ],
      "source": [
        "wn[\"149201-N\"].hypernyms"
      ]
    },
    {
      "cell_type": "code",
      "execution_count": 76,
      "metadata": {
        "id": "CCSfiOZu6CdE",
        "outputId": "5aba39a0-79b8-4965-f97c-a5ffaa577902",
        "colab": {
          "base_uri": "https://localhost:8080/"
        }
      },
      "outputs": [
        {
          "output_type": "stream",
          "name": "stdout",
          "text": [
            "146834-N 0 Synset(id=\"146834-N\", title=\"СТОЛ ДЛЯ ЕДЫ\")\n",
            "107294-N 0 Synset(id=\"107294-N\", title=\"СТОЛ\")\n",
            "106554-N 1 Synset(id=\"106554-N\", title=\"ПРЕДМЕТ, ВЕЩЬ\")\n",
            "1253-N 1 Synset(id=\"1253-N\", title=\"МЕБЕЛЬ\")\n",
            "147133-N 2 Synset(id=\"147133-N\", title=\"ФИЗИЧЕСКИЙ ОБЪЕКТ\")\n",
            "130019-N 2 Synset(id=\"130019-N\", title=\"НЕПРОДОВОЛЬСТВЕННЫЕ ТОВАРЫ\")\n",
            "146828-N 2 Synset(id=\"146828-N\", title=\"ПРЕДМЕТ ИНТЕРЬЕРА\")\n",
            "9059-N 2 Synset(id=\"9059-N\", title=\"ПРОДУКЦИЯ ДЕРЕВООБРАБОТКИ\")\n",
            "147134-N 3 Synset(id=\"147134-N\", title=\"ФИЗИЧЕСКАЯ СУЩНОСТЬ\")\n",
            "1252-N 3 Synset(id=\"1252-N\", title=\"ПОТРЕБИТЕЛЬСКИЕ ТОВАРЫ\")\n",
            "56-N 3 Synset(id=\"56-N\", title=\"ПРОМЫШЛЕННАЯ ПРОДУКЦИЯ\")\n",
            "562-N 3 Synset(id=\"562-N\", title=\"ТОВАР\")\n",
            "106507-N 3 Synset(id=\"106507-N\", title=\"ПРОДУКТ ПРОИЗВОДСТВА\")\n",
            "153782-N 4 Synset(id=\"153782-N\", title=\"ПОСТОЯННАЯ СУЩНОСТЬ\")\n",
            "106505-N 4 Synset(id=\"106505-N\", title=\"ПРОДУКТ ТРУДА\")\n"
          ]
        }
      ],
      "source": [
        "for k, v in get_all_hypernyms(wn, 'стол').items():\n",
        "    print(k, v, wn[k])"
      ]
    },
    {
      "cell_type": "markdown",
      "metadata": {
        "id": "dAwwg1mc6CdG"
      },
      "source": [
        "# Word sense disambiguation "
      ]
    },
    {
      "cell_type": "markdown",
      "metadata": {
        "id": "1JfOfsVJ6CdG"
      },
      "source": [
        "зАмок или замОк ?\n",
        "\n",
        "Примитивный алгоритм: для каждого значения находим синонимы и проверяем, какие ближе по fasttext-эмбеддингу к словам контекста.\n",
        "\n",
        "Для верности, стоило бы кроме синонимов взять ещё и ко-гипонимы. "
      ]
    },
    {
      "cell_type": "code",
      "execution_count": 6,
      "metadata": {
        "id": "EufKJpJM6CdH",
        "colab": {
          "base_uri": "https://localhost:8080/"
        },
        "outputId": "d38b5ec9-0d13-4c0c-a98c-9b53c267819f"
      },
      "outputs": [
        {
          "output_type": "stream",
          "name": "stdout",
          "text": [
            "Looking in indexes: https://pypi.org/simple, https://us-python.pkg.dev/colab-wheels/public/simple/\n",
            "Requirement already satisfied: razdel in /usr/local/lib/python3.7/dist-packages (0.5.0)\n"
          ]
        }
      ],
      "source": [
        "!pip install razdel\n",
        "import razdel"
      ]
    },
    {
      "cell_type": "code",
      "execution_count": 7,
      "metadata": {
        "id": "QnHHPMjG6CdJ"
      },
      "outputs": [],
      "source": [
        "context = '''Сначала шов слегка уплотняем молоточком, затем прочеканиваем на нём замок \n",
        "― бороздку, называемую \"зигом\", которая будет препятствовать расхождению шва при дальнейшем его уплотнении.'''\n",
        "word = 'замок'"
      ]
    },
    {
      "cell_type": "code",
      "execution_count": 9,
      "metadata": {
        "id": "y25HM4rF6CdK",
        "outputId": "afc02b28-d576-4d03-b9fc-4b4e48e41c96",
        "colab": {
          "base_uri": "https://localhost:8080/"
        }
      },
      "outputs": [
        {
          "output_type": "execute_result",
          "data": {
            "text/plain": [
              "{0.4421322748905842: Synset(id=\"126228-N\", title=\"СРЕДНЕВЕКОВЫЙ ЗАМОК\"),\n",
              " 0.55319632362594: Synset(id=\"114707-N\", title=\"ЗАМОК ДЛЯ ЗАПИРАНИЯ\")}"
            ]
          },
          "metadata": {},
          "execution_count": 9
        }
      ],
      "source": [
        "def disambiguate(word, context):\n",
        "    candidates = [s.synset for s in wn[word]]\n",
        "    text_vector = vectorize(' '.join(t.text for t in razdel.tokenize(context) if t.text != word))\n",
        "    candidate_vectors = [\n",
        "        vectorize(' '.join(w for s in c.senses for w in s.name.lower().split() if s.name != word))\n",
        "        for c in candidates\n",
        "    ]\n",
        "    scores = [np.dot(text_vector, v) for v in candidate_vectors]\n",
        "    return dict(zip(scores, candidates))\n",
        "\n",
        "disambiguate(word, context)"
      ]
    },
    {
      "cell_type": "code",
      "execution_count": 10,
      "metadata": {
        "id": "Yf08y4mQ6CdM",
        "outputId": "2897f55c-606d-42fd-b0a8-947b9db6e57e",
        "colab": {
          "base_uri": "https://localhost:8080/"
        }
      },
      "outputs": [
        {
          "output_type": "execute_result",
          "data": {
            "text/plain": [
              "{0.6623339070392336: Synset(id=\"126228-N\", title=\"СРЕДНЕВЕКОВЫЙ ЗАМОК\"),\n",
              " 0.5569728387813146: Synset(id=\"114707-N\", title=\"ЗАМОК ДЛЯ ЗАПИРАНИЯ\")}"
            ]
          },
          "metadata": {},
          "execution_count": 10
        }
      ],
      "source": [
        "context = '''Издали видны королевский замок Вавель и кафедральный собор Святых Вацлава и Станислава \n",
        "― настоящие шедевры зодчества.'''\n",
        "disambiguate(word, context)"
      ]
    },
    {
      "cell_type": "code",
      "execution_count": 13,
      "metadata": {
        "id": "TlQabHfw6CdN",
        "colab": {
          "base_uri": "https://localhost:8080/"
        },
        "outputId": "040dfcac-cba5-4a1a-fe1f-224ba7817f58"
      },
      "outputs": [
        {
          "output_type": "execute_result",
          "data": {
            "text/plain": [
              "{0.8301697794534512: Synset(id=\"126228-N\", title=\"СРЕДНЕВЕКОВЫЙ ЗАМОК\"),\n",
              " 0.813429514734384: Synset(id=\"114707-N\", title=\"ЗАМОК ДЛЯ ЗАПИРАНИЯ\")}"
            ]
          },
          "metadata": {},
          "execution_count": 13
        }
      ],
      "source": [
        "context = '''Замок на замке.'''\n",
        "word = 'замок'\n",
        "disambiguate(word, context)"
      ]
    }
  ],
  "metadata": {
    "kernelspec": {
      "display_name": "Python 3",
      "language": "python",
      "name": "python3"
    },
    "language_info": {
      "codemirror_mode": {
        "name": "ipython",
        "version": 3
      },
      "file_extension": ".py",
      "mimetype": "text/x-python",
      "name": "python",
      "nbconvert_exporter": "python",
      "pygments_lexer": "ipython3",
      "version": "3.7.9"
    },
    "colab": {
      "provenance": []
    },
    "widgets": {
      "application/vnd.jupyter.widget-state+json": {
        "21729e5f19234b1b83597d1ace7d4196": {
          "model_module": "@jupyter-widgets/controls",
          "model_name": "HBoxModel",
          "model_module_version": "1.5.0",
          "state": {
            "_dom_classes": [],
            "_model_module": "@jupyter-widgets/controls",
            "_model_module_version": "1.5.0",
            "_model_name": "HBoxModel",
            "_view_count": null,
            "_view_module": "@jupyter-widgets/controls",
            "_view_module_version": "1.5.0",
            "_view_name": "HBoxView",
            "box_style": "",
            "children": [
              "IPY_MODEL_cd49621da284497fa07789aab841c7f8",
              "IPY_MODEL_a72f8e38ae2647bab28bfef6ee30fcfe",
              "IPY_MODEL_164cab7171be4f1dbc6ea2cab74f05ba"
            ],
            "layout": "IPY_MODEL_fa202f047d854a6ab7b66dd6db53b56c"
          }
        },
        "cd49621da284497fa07789aab841c7f8": {
          "model_module": "@jupyter-widgets/controls",
          "model_name": "HTMLModel",
          "model_module_version": "1.5.0",
          "state": {
            "_dom_classes": [],
            "_model_module": "@jupyter-widgets/controls",
            "_model_module_version": "1.5.0",
            "_model_name": "HTMLModel",
            "_view_count": null,
            "_view_module": "@jupyter-widgets/controls",
            "_view_module_version": "1.5.0",
            "_view_name": "HTMLView",
            "description": "",
            "description_tooltip": null,
            "layout": "IPY_MODEL_d7369879aacd458e85d23f21d2166c9e",
            "placeholder": "​",
            "style": "IPY_MODEL_43607080d0d44af39ea27dd3ae34d5fc",
            "value": " 65%"
          }
        },
        "a72f8e38ae2647bab28bfef6ee30fcfe": {
          "model_module": "@jupyter-widgets/controls",
          "model_name": "FloatProgressModel",
          "model_module_version": "1.5.0",
          "state": {
            "_dom_classes": [],
            "_model_module": "@jupyter-widgets/controls",
            "_model_module_version": "1.5.0",
            "_model_name": "FloatProgressModel",
            "_view_count": null,
            "_view_module": "@jupyter-widgets/controls",
            "_view_module_version": "1.5.0",
            "_view_name": "ProgressView",
            "bar_style": "danger",
            "description": "",
            "description_tooltip": null,
            "layout": "IPY_MODEL_c162d71962334dc6a521594ad9fb14eb",
            "max": 59905,
            "min": 0,
            "orientation": "horizontal",
            "style": "IPY_MODEL_21987624ea9141bead3b1f9bf5bdc410",
            "value": 38880
          }
        },
        "164cab7171be4f1dbc6ea2cab74f05ba": {
          "model_module": "@jupyter-widgets/controls",
          "model_name": "HTMLModel",
          "model_module_version": "1.5.0",
          "state": {
            "_dom_classes": [],
            "_model_module": "@jupyter-widgets/controls",
            "_model_module_version": "1.5.0",
            "_model_name": "HTMLModel",
            "_view_count": null,
            "_view_module": "@jupyter-widgets/controls",
            "_view_module_version": "1.5.0",
            "_view_name": "HTMLView",
            "description": "",
            "description_tooltip": null,
            "layout": "IPY_MODEL_8d7e2dcd1e1442dd81f41d1601165bc5",
            "placeholder": "​",
            "style": "IPY_MODEL_b297be88c1524e41a67dc4d6f43135b0",
            "value": " 38880/59905 [02:22&lt;13:37, 25.72it/s]"
          }
        },
        "fa202f047d854a6ab7b66dd6db53b56c": {
          "model_module": "@jupyter-widgets/base",
          "model_name": "LayoutModel",
          "model_module_version": "1.2.0",
          "state": {
            "_model_module": "@jupyter-widgets/base",
            "_model_module_version": "1.2.0",
            "_model_name": "LayoutModel",
            "_view_count": null,
            "_view_module": "@jupyter-widgets/base",
            "_view_module_version": "1.2.0",
            "_view_name": "LayoutView",
            "align_content": null,
            "align_items": null,
            "align_self": null,
            "border": null,
            "bottom": null,
            "display": null,
            "flex": null,
            "flex_flow": null,
            "grid_area": null,
            "grid_auto_columns": null,
            "grid_auto_flow": null,
            "grid_auto_rows": null,
            "grid_column": null,
            "grid_gap": null,
            "grid_row": null,
            "grid_template_areas": null,
            "grid_template_columns": null,
            "grid_template_rows": null,
            "height": null,
            "justify_content": null,
            "justify_items": null,
            "left": null,
            "margin": null,
            "max_height": null,
            "max_width": null,
            "min_height": null,
            "min_width": null,
            "object_fit": null,
            "object_position": null,
            "order": null,
            "overflow": null,
            "overflow_x": null,
            "overflow_y": null,
            "padding": null,
            "right": null,
            "top": null,
            "visibility": null,
            "width": null
          }
        },
        "d7369879aacd458e85d23f21d2166c9e": {
          "model_module": "@jupyter-widgets/base",
          "model_name": "LayoutModel",
          "model_module_version": "1.2.0",
          "state": {
            "_model_module": "@jupyter-widgets/base",
            "_model_module_version": "1.2.0",
            "_model_name": "LayoutModel",
            "_view_count": null,
            "_view_module": "@jupyter-widgets/base",
            "_view_module_version": "1.2.0",
            "_view_name": "LayoutView",
            "align_content": null,
            "align_items": null,
            "align_self": null,
            "border": null,
            "bottom": null,
            "display": null,
            "flex": null,
            "flex_flow": null,
            "grid_area": null,
            "grid_auto_columns": null,
            "grid_auto_flow": null,
            "grid_auto_rows": null,
            "grid_column": null,
            "grid_gap": null,
            "grid_row": null,
            "grid_template_areas": null,
            "grid_template_columns": null,
            "grid_template_rows": null,
            "height": null,
            "justify_content": null,
            "justify_items": null,
            "left": null,
            "margin": null,
            "max_height": null,
            "max_width": null,
            "min_height": null,
            "min_width": null,
            "object_fit": null,
            "object_position": null,
            "order": null,
            "overflow": null,
            "overflow_x": null,
            "overflow_y": null,
            "padding": null,
            "right": null,
            "top": null,
            "visibility": null,
            "width": null
          }
        },
        "43607080d0d44af39ea27dd3ae34d5fc": {
          "model_module": "@jupyter-widgets/controls",
          "model_name": "DescriptionStyleModel",
          "model_module_version": "1.5.0",
          "state": {
            "_model_module": "@jupyter-widgets/controls",
            "_model_module_version": "1.5.0",
            "_model_name": "DescriptionStyleModel",
            "_view_count": null,
            "_view_module": "@jupyter-widgets/base",
            "_view_module_version": "1.2.0",
            "_view_name": "StyleView",
            "description_width": ""
          }
        },
        "c162d71962334dc6a521594ad9fb14eb": {
          "model_module": "@jupyter-widgets/base",
          "model_name": "LayoutModel",
          "model_module_version": "1.2.0",
          "state": {
            "_model_module": "@jupyter-widgets/base",
            "_model_module_version": "1.2.0",
            "_model_name": "LayoutModel",
            "_view_count": null,
            "_view_module": "@jupyter-widgets/base",
            "_view_module_version": "1.2.0",
            "_view_name": "LayoutView",
            "align_content": null,
            "align_items": null,
            "align_self": null,
            "border": null,
            "bottom": null,
            "display": null,
            "flex": null,
            "flex_flow": null,
            "grid_area": null,
            "grid_auto_columns": null,
            "grid_auto_flow": null,
            "grid_auto_rows": null,
            "grid_column": null,
            "grid_gap": null,
            "grid_row": null,
            "grid_template_areas": null,
            "grid_template_columns": null,
            "grid_template_rows": null,
            "height": null,
            "justify_content": null,
            "justify_items": null,
            "left": null,
            "margin": null,
            "max_height": null,
            "max_width": null,
            "min_height": null,
            "min_width": null,
            "object_fit": null,
            "object_position": null,
            "order": null,
            "overflow": null,
            "overflow_x": null,
            "overflow_y": null,
            "padding": null,
            "right": null,
            "top": null,
            "visibility": null,
            "width": null
          }
        },
        "21987624ea9141bead3b1f9bf5bdc410": {
          "model_module": "@jupyter-widgets/controls",
          "model_name": "ProgressStyleModel",
          "model_module_version": "1.5.0",
          "state": {
            "_model_module": "@jupyter-widgets/controls",
            "_model_module_version": "1.5.0",
            "_model_name": "ProgressStyleModel",
            "_view_count": null,
            "_view_module": "@jupyter-widgets/base",
            "_view_module_version": "1.2.0",
            "_view_name": "StyleView",
            "bar_color": null,
            "description_width": ""
          }
        },
        "8d7e2dcd1e1442dd81f41d1601165bc5": {
          "model_module": "@jupyter-widgets/base",
          "model_name": "LayoutModel",
          "model_module_version": "1.2.0",
          "state": {
            "_model_module": "@jupyter-widgets/base",
            "_model_module_version": "1.2.0",
            "_model_name": "LayoutModel",
            "_view_count": null,
            "_view_module": "@jupyter-widgets/base",
            "_view_module_version": "1.2.0",
            "_view_name": "LayoutView",
            "align_content": null,
            "align_items": null,
            "align_self": null,
            "border": null,
            "bottom": null,
            "display": null,
            "flex": null,
            "flex_flow": null,
            "grid_area": null,
            "grid_auto_columns": null,
            "grid_auto_flow": null,
            "grid_auto_rows": null,
            "grid_column": null,
            "grid_gap": null,
            "grid_row": null,
            "grid_template_areas": null,
            "grid_template_columns": null,
            "grid_template_rows": null,
            "height": null,
            "justify_content": null,
            "justify_items": null,
            "left": null,
            "margin": null,
            "max_height": null,
            "max_width": null,
            "min_height": null,
            "min_width": null,
            "object_fit": null,
            "object_position": null,
            "order": null,
            "overflow": null,
            "overflow_x": null,
            "overflow_y": null,
            "padding": null,
            "right": null,
            "top": null,
            "visibility": null,
            "width": null
          }
        },
        "b297be88c1524e41a67dc4d6f43135b0": {
          "model_module": "@jupyter-widgets/controls",
          "model_name": "DescriptionStyleModel",
          "model_module_version": "1.5.0",
          "state": {
            "_model_module": "@jupyter-widgets/controls",
            "_model_module_version": "1.5.0",
            "_model_name": "DescriptionStyleModel",
            "_view_count": null,
            "_view_module": "@jupyter-widgets/base",
            "_view_module_version": "1.2.0",
            "_view_name": "StyleView",
            "description_width": ""
          }
        }
      }
    }
  },
  "nbformat": 4,
  "nbformat_minor": 0
}